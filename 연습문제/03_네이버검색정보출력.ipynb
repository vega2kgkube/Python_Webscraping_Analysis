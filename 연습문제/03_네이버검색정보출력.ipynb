{
 "cells": [
  {
   "cell_type": "code",
   "execution_count": 2,
   "id": "72ced68d",
   "metadata": {},
   "outputs": [
    {
     "name": "stdout",
     "output_type": "stream",
     "text": [
      "sZw YMG\n"
     ]
    }
   ],
   "source": [
    "import requests\n",
    "import os\n",
    "from dotenv import load_dotenv\n",
    "from pprint import pprint\n",
    "\n",
    "# .env 파일에서 환경 변수 로드\n",
    "load_dotenv(dotenv_path='../.env')\n",
    "\n",
    "# 환경 변수에서 값 읽기\n",
    "client_id = os.getenv(\"NAVER_CLIENT_ID\")  # .env 파일의 NAVER_CLIENT_ID\n",
    "client_secret = os.getenv(\"NAVER_CLIENT_SECRET\")  # .env 파일의 NAVER_CLIENT_SECRET\n",
    "\n",
    "print(client_id[:3], client_secret[:3])\n"
   ]
  },
  {
   "cell_type": "code",
   "execution_count": null,
   "id": "42eb586b",
   "metadata": {},
   "outputs": [],
   "source": [
    "\n",
    "headers = {\n",
    "    'X-Naver-Client-Id': client_id,\n",
    "    'X-Naver-Client-Secret': client_secret,\n",
    "}\n",
    "\n",
    "# query string 문자열을 dict 선언\n",
    "payload = {\n",
    "    'query': '파이썬',\n",
    "    'display': 10,\n",
    "    'sort': 'sim'\n",
    "}\n",
    "\n",
    "url = 'https://openapi.naver.com/v1/search/book.json' #?query=파이썬&display=100&sort=sim\n",
    "\n",
    "# requests get(url, params, headers) 요청 \n",
    "res = requests.get(url, params=payload, headers=headers)\n",
    "if res.ok:\n",
    "    # json() 함수로 응답 결과 가져오기\n",
    "    #pprint(res.json())\n",
    "    if res.json():\n",
    "        items_data = res.json()['items']\n",
    "        #\n",
    "        print(len(items_data)) # [{},{},{}]\n",
    "        #pprint(items_data)\n",
    "        print(items_data[0].keys())\n",
    "        # 첫번째 dict에 discount 키가 없을 경우를 고려해서 get('key',0) 함수 사용\n",
    "        print(items_data[0].get('discount',0))\n",
    "\n",
    "        for item in items_data[:3]:\n",
    "            for key,value in item.items():\n",
    "                    print(f'{key} = {value}')\n",
    "        # items_data[0] {title:'', discount:0}           \n"
   ]
  },
  {
   "cell_type": "code",
   "execution_count": null,
   "id": "052e3636",
   "metadata": {},
   "outputs": [],
   "source": [
    "\n",
    "print(\"\\n=== 추천 도서 목록 ===\")\n",
    "for idx, book in enumerate(items_data, 1):\n",
    "    price = int(book.get('discount',0))  # price 없으면 0 처리\n",
    "    pubdate = book.get('pubdate', '')\n",
    "    pubdate = f\"{pubdate[:4]}-{pubdate[4:6]}-{pubdate[6:]}\" #20250620 => 2025-06-20\n",
    "\n",
    "    print(f\"\\n{idx}. {book['title']}\")\n",
    "    print(f\"   저자: {book['author']}\")\n",
    "    print(f\"   출판사: {book['publisher']}\")\n",
    "    print(f\"   출판일: {pubdate}\")\n",
    "    print(f\"   가격: {price:,}원\")\n",
    "    print(f\"   설명: {book['description'][:100]}...\")  # 100자만 출력"
   ]
  },
  {
   "cell_type": "code",
   "execution_count": null,
   "id": "0785ad7b",
   "metadata": {},
   "outputs": [],
   "source": [
    "print(\"\\n=== 인피니티북스 출판 도서 목록 ===\")\n",
    "for idx, book in enumerate(items_data, 1):\n",
    "    # 출판사명이 인피니티북스 인 경우만 출력\n",
    "    if '인피니티북스' in book['publisher']:\n",
    "        price = int(book.get('discount', 0))\n",
    "        pubdate = book.get('pubdate', '')\n",
    "        if len(pubdate) == 8:\n",
    "            pubdate = f\"{pubdate[:4]}-{pubdate[4:6]}-{pubdate[6:]}\"\n",
    "        else:\n",
    "            pubdate = \"출판일 정보 없음\"\n",
    "\n",
    "        print(f\"\\n{idx}. {book['title']}\")\n",
    "        print(f\"   저자: {book['author']}\")\n",
    "        print(f\"   출판사: {book['publisher']}\")\n",
    "        print(f\"   출판일: {pubdate}\")\n",
    "        print(f\"   가격: {price:,}원\")\n",
    "        print(f\"   설명: {book['description'][:100]}...\")"
   ]
  },
  {
   "cell_type": "code",
   "execution_count": null,
   "id": "fed0d8e6",
   "metadata": {},
   "outputs": [],
   "source": [
    "print(\"\\n=== 가격이 20,000원 이상인 도서 목록 ===\")\n",
    "for idx, book in enumerate(items_data, 1):\n",
    "    price = int(book.get('discount', 0))\n",
    "    if price >= 20000:\n",
    "        pubdate = book.get('pubdate', '')\n",
    "        if len(pubdate) == 8:\n",
    "            pubdate = f\"{pubdate[:4]}-{pubdate[4:6]}-{pubdate[6:]}\"\n",
    "        else:\n",
    "            pubdate = \"출판일 정보 없음\"\n",
    "\n",
    "        print(f\"\\n{idx}. {book['title']}\")\n",
    "        print(f\"   저자: {book['author']}\")\n",
    "        print(f\"   출판사: {book['publisher']}\")\n",
    "        print(f\"   출판일: {pubdate}\")\n",
    "        print(f\"   가격: {price:,}원\")\n",
    "        print(f\"   설명: {book['description'][:100]}...\")"
   ]
  },
  {
   "cell_type": "code",
   "execution_count": null,
   "id": "76bc2241",
   "metadata": {},
   "outputs": [],
   "source": [
    "print(\"\\n=== JSON 파일로 저장 ===\")\n",
    "\n",
    "import json\n",
    "\n",
    "with open('../data/python_books.json', 'w', encoding='utf-8') as f:\n",
    "    json.dump(items_data, f, ensure_ascii=False, indent=2)\n",
    "    \n",
    "print(\"JSON 저장 완료!\")"
   ]
  },
  {
   "cell_type": "code",
   "execution_count": 25,
   "id": "48516db0",
   "metadata": {},
   "outputs": [],
   "source": [
    "def print_book(idx, book):\n",
    "    price = int(book.get('discount', 0))\n",
    "    pubdate = book.get('pubdate', '')\n",
    "    pubdate = f\"{pubdate[:4]}-{pubdate[4:6]}-{pubdate[6:]}\" if len(pubdate) == 8 else \"출판일 정보 없음\"\n",
    "\n",
    "    print(f\"\\n{idx}. {book['title']}\")\n",
    "    print(f\"   저자: {book['author']}\")\n",
    "    print(f\"   출판사: {book['publisher']}\")\n",
    "    print(f\"   출판일: {pubdate}\")\n",
    "    print(f\"   가격: {price:,}원\")\n",
    "    print(f\"   설명: {book['description'][:100]}...\")"
   ]
  },
  {
   "cell_type": "code",
   "execution_count": null,
   "id": "c8323f79",
   "metadata": {},
   "outputs": [],
   "source": [
    "print(\"\\n=== 추천 도서 목록 ===\")\n",
    "for idx, book in enumerate(items_data, 1):\n",
    "    print_book(idx, book)"
   ]
  },
  {
   "cell_type": "code",
   "execution_count": null,
   "id": "1d4b9698",
   "metadata": {},
   "outputs": [],
   "source": [
    "print(\"\\n=== 한빛미디어 출판 도서 목록 ===\")\n",
    "for idx, book in enumerate(items_data, 1):\n",
    "    if '한빛미디어' in book['publisher']:\n",
    "        print_book(idx, book)"
   ]
  },
  {
   "cell_type": "code",
   "execution_count": null,
   "id": "6173c319",
   "metadata": {},
   "outputs": [],
   "source": [
    "print(\"\\n=== 가격이 20,000원 이하인 도서 목록 ===\")\n",
    "for idx, book in enumerate(items_data, 1):\n",
    "    price = int(book.get('discount', 0))\n",
    "    if price <= 20000:\n",
    "        print_book(idx, book)"
   ]
  },
  {
   "cell_type": "code",
   "execution_count": null,
   "id": "e6fd14dd",
   "metadata": {},
   "outputs": [],
   "source": [
    "import requests\n",
    "import os\n",
    "from dotenv import load_dotenv\n",
    "from pprint import pprint\n",
    "\n",
    "# .env 파일에서 환경 변수 로드\n",
    "load_dotenv(dotenv_path='../.env')\n",
    "\n",
    "# 환경 변수에서 값 읽기\n",
    "client_id = os.getenv(\"NAVER_CLIENT_ID\")  # .env 파일의 NAVER_CLIENT_ID\n",
    "client_secret = os.getenv(\"NAVER_CLIENT_SECRET\")  # .env 파일의 NAVER_CLIENT_SECRET\n",
    "\n",
    "headers = {\n",
    "    'X-Naver-Client-Id': client_id,\n",
    "    'X-Naver-Client-Secret': client_secret,\n",
    "}\n",
    "\n",
    "# query string 문자열을 dict 선언\n",
    "payload = {\n",
    "    'query': '가디건',\n",
    "    'display': 100,\n",
    "    'sort': 'sim'\n",
    "}\n",
    "\n",
    "url = 'https://openapi.naver.com/v1/search/shop.json' #?query=가디건&display=100&sort=sim\n",
    "\n",
    "# requests get(url, params, headers) 요청 \n",
    "res = requests.get(url, params=payload, headers=headers)\n",
    "# json() 함수로 응답 결과 가져오기\n",
    "items_data = res.json()['items']\n",
    "\n",
    "pprint(items_data)"
   ]
  },
  {
   "cell_type": "code",
   "execution_count": 14,
   "id": "6d6aa726",
   "metadata": {},
   "outputs": [],
   "source": [
    "def print_shop_item(idx, item):\n",
    "    lprice = int(item.get('lprice', 0))\n",
    "    print(f\"\\n{idx}. {item['title'].replace('<b>', '').replace('</b>', '')}\")\n",
    "    print(f\"   최저가: {lprice:,}원\")\n",
    "    print(f\"   브랜드: {item.get('brand', '정보없음')}\")\n",
    "    print(f\"   쇼핑몰: {item.get('mallName', '정보없음')}\")\n",
    "    print(f\"   링크: {item['link']}\")"
   ]
  },
  {
   "cell_type": "code",
   "execution_count": null,
   "id": "41a2b311",
   "metadata": {},
   "outputs": [],
   "source": [
    "print(\"\\n=== 쇼핑 검색 결과 ===\")\n",
    "for idx, item in enumerate(items_data, 1):\n",
    "    print_shop_item(idx, item)"
   ]
  },
  {
   "cell_type": "code",
   "execution_count": null,
   "id": "f88cd4f8",
   "metadata": {},
   "outputs": [],
   "source": [
    "print(\"\\n=== 50,000원 이하 상품 ===\")\n",
    "idx = 1\n",
    "for item in items_data:\n",
    "    if int(item.get('lprice', 0)) <= 50000:\n",
    "        print_shop_item(idx, item)\n",
    "        idx += 1  # 조건 통과할 때만 증가\n"
   ]
  },
  {
   "cell_type": "code",
   "execution_count": null,
   "id": "56893a24",
   "metadata": {},
   "outputs": [],
   "source": [
    "print(\"\\n=== 네이버 상품 ===\")\n",
    "idx = 1  # idx 따로 선언\n",
    "for item in items_data:\n",
    "    if '네이버' in item.get('mallName', ''):\n",
    "        print_shop_item(idx, item)\n",
    "        idx += 1  # 조건 통과할 때만 증가"
   ]
  },
  {
   "cell_type": "code",
   "execution_count": null,
   "id": "06356868",
   "metadata": {},
   "outputs": [],
   "source": [
    "import requests\n",
    "from bs4 import BeautifulSoup\n",
    "\n",
    "# 벅스 뮤직 실시간 차트 URL\n",
    "url = 'https://music.bugs.co.kr/chart'\n",
    "\n",
    "# HTTP 요청 헤더 설정\n",
    "headers = {\n",
    "    'User-Agent': 'Mozilla/5.0 (Windows NT 10.0; Win64; x64) AppleWebKit/537.36 (KHTML, like Gecko) Chrome/98.0.4758.102 Safari/537.36'\n",
    "}\n",
    "\n",
    "# 페이지 요청\n",
    "response = requests.get(url, headers=headers)\n",
    "\n",
    "# 응답 상태 코드 확인\n",
    "if response.status_code == 200:\n",
    "    # BeautifulSoup을 사용하여 HTML 파싱\n",
    "    soup = BeautifulSoup(response.text, 'html.parser')\n",
    "    \n",
    "    # 노래 제목과 아티스트 정보를 담을 리스트 초기화\n",
    "    chart_list = []\n",
    "    \n",
    "    # 차트 목록 선택\n",
    "    songs = soup.select('table.byChart > tbody > tr')\n",
    "    \n",
    "    for song in songs:\n",
    "        # 노래 제목 추출\n",
    "        title = song.select_one('p.title > a').text.strip()\n",
    "        # 아티스트 이름 추출\n",
    "        artist = song.select_one('p.artist > a').text.strip()\n",
    "        \n",
    "        # 추출한 정보를 딕셔너리로 저장\n",
    "        chart_list.append({\n",
    "            'title': title,\n",
    "            'artist': artist\n",
    "        })\n",
    "    \n",
    "    # 결과 출력\n",
    "    for idx, song in enumerate(chart_list, 1):\n",
    "        print(f\"{idx}. {song['title']} - {song['artist']}\")\n",
    "else:\n",
    "    print(f\"페이지 요청 실패: {response.status_code}\")\n"
   ]
  }
 ],
 "metadata": {
  "kernelspec": {
   "display_name": "base",
   "language": "python",
   "name": "python3"
  },
  "language_info": {
   "codemirror_mode": {
    "name": "ipython",
    "version": 3
   },
   "file_extension": ".py",
   "mimetype": "text/x-python",
   "name": "python",
   "nbconvert_exporter": "python",
   "pygments_lexer": "ipython3",
   "version": "3.12.7"
  }
 },
 "nbformat": 4,
 "nbformat_minor": 5
}
