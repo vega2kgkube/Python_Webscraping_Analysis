{
 "cells": [
  {
   "cell_type": "markdown",
   "id": "e64edd84",
   "metadata": {},
   "source": [
    "### 특정 웹툰 페이지의 모든 image를 다운로드 받기\n",
    "* img 폴더를 생성하고 그 아래에 파일을 저장하기\n",
    "* pathlib 의 Path 사용하여 디렉토리 생성하기"
   ]
  },
  {
   "cell_type": "code",
   "execution_count": null,
   "id": "b5c02430",
   "metadata": {},
   "outputs": [],
   "source": [
    "import requests\n",
    "from bs4 import BeautifulSoup\n",
    "from pathlib import Path\n",
    "\n",
    "def download_one_episode(title,no,url):\n",
    "    \n",
    "    req_header = {'referer': url}\n",
    "    \n",
    "    res = requests.get(url)\n",
    "    print(res.ok)\n",
    "    if res.ok:\n",
    "        soup = BeautifulSoup(res.text, 'html.parser')\n",
    "               \n",
    "        img_tags = soup.select(\"img[src*='IMAG01']\")\n",
    "        # list comprehension 사용\n",
    "        imgurl_list = [img['src'] for img in img_tags]\n",
    "        print(len(imgurl_list))\n",
    "        \n",
    "        save_dir = Path('img') / title / str(no)\n",
    "        save_dir.mkdir(parents=True, exist_ok=True)\n",
    "\n",
    "        for idx,img_url in enumerate(imgurl_list,1):\n",
    "            res = requests.get(img_url,headers=req_header)\n",
    "            res.raise_for_status()\n",
    "\n",
    "            file_name = Path(img_url).name\n",
    "            save_path = save_dir / file_name\n",
    "            save_path.write_bytes(res.content)\n",
    "            print(f'다운로드 완료: {save_path} ({save_path.stat().st_size:,} bytes)')\n",
    "                \n",
    "if __name__ == '__main__':                \n",
    "    #download_one_episode('낢이사는이야기',46,'https://comic.naver.com/webtoon/detail?titleId=833255&no=47&week=tue')\n",
    "    download_one_episode('배달왕',130,'https://comic.naver.com/webtoon/detail?titleId=823933&no=130&week=thu')"
   ]
  }
 ],
 "metadata": {
  "kernelspec": {
   "display_name": "base",
   "language": "python",
   "name": "python3"
  },
  "language_info": {
   "codemirror_mode": {
    "name": "ipython",
    "version": 3
   },
   "file_extension": ".py",
   "mimetype": "text/x-python",
   "name": "python",
   "nbconvert_exporter": "python",
   "pygments_lexer": "ipython3",
   "version": "3.12.7"
  }
 },
 "nbformat": 4,
 "nbformat_minor": 5
}
