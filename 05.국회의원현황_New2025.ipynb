{
 "cells": [
  {
   "cell_type": "code",
   "execution_count": null,
   "id": "f82bd68d-3c55-446c-8b20-3fe23b37d417",
   "metadata": {},
   "outputs": [],
   "source": [
    "import requests\n",
    "from bs4 import BeautifulSoup\n",
    "import re\n",
    "\n",
    "headers = {\n",
    "    'user-agent':'Mozilla/5.0 (Windows NT 10.0; Win64; x64) AppleWebKit/537.36 (KHTML, like Gecko) Chrome/74.0.3729.169 Safari/537.36'\n",
    "}\n",
    "\n",
    "member_list_300 = []\n",
    "for index in range(1,31):\n",
    "    url = f'https://www.assembly.go.kr/portal/cnts/cntsNaas/findNaasThx01.json?pageIndex={index}'\n",
    "    print(url)\n",
    "    res = requests.get(url, headers=headers)\n",
    "    #print(res.status_code)\n",
    "    if res.ok:\n",
    "        #print(res.json()['resultList'])\n",
    "        member_list_10 = []\n",
    "        for member in res.json()['resultList']:\n",
    "            member_list_10.append(member) \n",
    "        \n",
    "        #print(member_list_10)\n",
    "        member_list_300.extend(member_list_10)\n",
    "    else:\n",
    "        print(res.status_code)\n",
    "print(len(member_list_300))\n",
    "print(member_list_300[:3])"
   ]
  },
  {
   "cell_type": "code",
   "execution_count": 2,
   "id": "3525e6ff",
   "metadata": {},
   "outputs": [
    {
     "name": "stdout",
     "output_type": "stream",
     "text": [
      "[{'cmitNm': '교육위원회',\n",
      "  'electGbnNm': '비례대표',\n",
      "  'hgNm': '강경숙',\n",
      "  'mImgUrl': '/static/portal/img/openassm/new/68f83caf0c9e4546b1694ead863f45ce.jpg',\n",
      "  'mLinkUrl': '/members/22nd/KANGKYUNGSOOK',\n",
      "  'mThumbImgUrl': '/static/portal/img/openassm/new/thumb/68f83caf0c9e4546b1694ead863f45ce.jpg',\n",
      "  'monaCd': 'T2T8225E',\n",
      "  'openNaId': 'KANGKYUNGSOOK',\n",
      "  'origNm': '비례대표',\n",
      "  'polyNm': '조국혁신당',\n",
      "  'reeleGbnNm': '초선',\n",
      "  'rnum': 1,\n",
      "  'sexGbnNm': '여',\n",
      "  'st': '22',\n",
      "  'unitNm': '제22대'},\n",
      " {'cmitNm': '국방위원회',\n",
      "  'electGbnNm': '지역구',\n",
      "  'hgNm': '강대식',\n",
      "  'mImgUrl': '/static/portal/img/openassm/new/d1fe9f0902d84f0ba74f721d3298be7f.png',\n",
      "  'mLinkUrl': '/members/22nd/KANGDAESIK',\n",
      "  'mThumbImgUrl': '/static/portal/img/openassm/new/thumb/d1fe9f0902d84f0ba74f721d3298be7f.png',\n",
      "  'monaCd': 'L2I9861C',\n",
      "  'openNaId': 'KANGDAESIK',\n",
      "  'origNm': '대구 동구군위군을',\n",
      "  'polyNm': '국민의힘',\n",
      "  'reeleGbnNm': '재선',\n",
      "  'rnum': 2,\n",
      "  'sexGbnNm': '남',\n",
      "  'st': '22',\n",
      "  'unitNm': '제22대'},\n",
      " {'cmitNm': '환경노동위원회, 기후위기 특별위원회',\n",
      "  'electGbnNm': '지역구',\n",
      "  'hgNm': '강득구',\n",
      "  'mImgUrl': '/static/portal/img/openassm/new/0410a0c8e24b474cac2fd79c7700ca2f.jpg',\n",
      "  'mLinkUrl': '/members/22nd/KANGDEUKGU',\n",
      "  'mThumbImgUrl': '/static/portal/img/openassm/new/thumb/0410a0c8e24b474cac2fd79c7700ca2f.jpg',\n",
      "  'monaCd': '8P37634C',\n",
      "  'openNaId': 'KANGDEUKGU',\n",
      "  'origNm': '경기 안양시만안구',\n",
      "  'polyNm': '더불어민주당',\n",
      "  'reeleGbnNm': '재선',\n",
      "  'rnum': 3,\n",
      "  'sexGbnNm': '남',\n",
      "  'st': '22',\n",
      "  'unitNm': '제22대'}]\n"
     ]
    }
   ],
   "source": [
    "from pprint import pprint\n",
    "\n",
    "pprint(member_list_300[:3])"
   ]
  },
  {
   "cell_type": "markdown",
   "id": "74cdd230-ea03-4e60-91a1-79e2aa699ebb",
   "metadata": {},
   "source": [
    "#### Json 데이터와 상세페이지 스크래핑 데이터 를 혼합해서 상세정보 저장하기"
   ]
  },
  {
   "cell_type": "code",
   "execution_count": null,
   "id": "71ba0357-c7fb-4ffe-ad53-0396650331e0",
   "metadata": {},
   "outputs": [],
   "source": [
    "import requests\n",
    "from bs4 import BeautifulSoup\n",
    "import re\n",
    "from urllib.parse import urljoin\n",
    "\n",
    "print('===> 스크래핑 시작')\n",
    "#297명의 정보를 저장하는 List\n",
    "member_detail_list = []\n",
    "\n",
    "headers = {\n",
    "    'user-agent':'Mozilla/5.0 (Windows NT 10.0; Win64; x64) AppleWebKit/537.36 (KHTML, like Gecko) Chrome/74.0.3729.169 Safari/537.36'\n",
    "}\n",
    "\n",
    "for idx,member in enumerate(member_list_300,1):\n",
    "    mem_sub_link = member['mLinkUrl']\n",
    "    detail_url = f'https://www.assembly.go.kr{mem_sub_link}'\n",
    "    res = requests.get(detail_url, headers=headers)\n",
    "    print(res.ok, idx, detail_url)\n",
    "    \n",
    "    if res.ok:\n",
    "        soup = BeautifulSoup(res.text, 'html.parser')\n",
    "        \n",
    "        #1명의 정보를 저장하는 dict 선언\n",
    "        member_detail_dict = {}\n",
    "        \n",
    "        li_tags = soup.select('ul.list li:nth-of-type(n+4)')\n",
    "        #print(li_tags)\n",
    "        # for li in li_tags:\n",
    "        #     print(type(li.find('dt')))\n",
    "        #     print(li.find('dt').text)\n",
    "        \n",
    "        dt_list = [li_tag.find('dt').text for li_tag in li_tags]\n",
    "        #print(dt_list)\n",
    "\n",
    "        dd_list = []        \n",
    "        for li_tag in li_tags:\n",
    "            dd_tag = li_tag.find('dd')\n",
    "            pattern = re.compile(f'[\\n\\r\\t]')\n",
    "            dd_text = pattern.sub('',dd_tag.text.strip()).replace(\" \",\"\")\n",
    "            dd_list.append(dd_text)\n",
    "        #print(dd_list)\n",
    "        \n",
    "        member_detail_dict = dict(zip(dt_list, dd_list))\n",
    "\n",
    "        member_detail_dict['이름'] = member['hgNm']        \n",
    "        member_detail_dict['정당'] = member['polyNm']\n",
    "        member_detail_dict['성별'] = member['sexGbnNm']\n",
    "        member_detail_dict['선거구'] = member['origNm']\n",
    "        member_detail_dict['지역비례'] = member['electGbnNm']\n",
    "\n",
    "        sosok = member['cmitNm']\n",
    "        if sosok is not None:\n",
    "            idx = sosok.find(',')\n",
    "            if idx > -1:            \n",
    "                member_detail_dict['소속위원회'] = sosok[:idx]\n",
    "            else:\n",
    "                member_detail_dict['소속위원회'] = sosok\n",
    "        else:        \n",
    "            member_detail_dict['소속위원회'] = ''    \n",
    "\n",
    "        # print(member_detail_dict['소속위원회'])                        \n",
    "        \n",
    "        member_detail_dict['당선횟수'] = member['reeleGbnNm']\n",
    "        \n",
    "        img_sub_url = member['mThumbImgUrl']\n",
    "        img_url = urljoin(detail_url,img_sub_url)\n",
    "        #print(img_url)\n",
    "        member_detail_dict['이미지'] = img_url\n",
    "        \n",
    "        #pprint(member_detail_dict)        \n",
    "                        \n",
    "        #1명의 정보가 저장된 dict를 list에 추가하기\n",
    "        member_detail_list.append(member_detail_dict)\n",
    "    else:\n",
    "        print(res.status_code)\n",
    "        \n",
    "print(len(member_detail_list))\n",
    "print(member_detail_list[297:])\n",
    "print('===> 스크래핑 끝')"
   ]
  },
  {
   "cell_type": "markdown",
   "id": "c6545b69",
   "metadata": {},
   "source": [
    "#### 웹스크래핑한 데이터를 Pandas DataFrame객체로 저장하여 분석 및 시각화"
   ]
  },
  {
   "cell_type": "code",
   "execution_count": null,
   "id": "03ab8d56",
   "metadata": {},
   "outputs": [],
   "source": [
    "import pandas as pd\n",
    "\n",
    "member_df = pd.DataFrame(columns=['이름','정당','선거구','당선횟수','지역비례','성별','소속위원회','이미지','사무실 전화','사무실 호실',\\\n",
    "                                  '개별 홈페이지','이메일','보좌관','선임비서관','비서관','의원실 안내'])\n",
    "\n",
    "for member_detail in member_detail_list:\n",
    "    # Row 하나 생성\n",
    "    df_new_row = pd.DataFrame.from_records([member_detail])\n",
    "    member_df = pd.concat([member_df, df_new_row])\n",
    "    # dict <=> Series\n",
    "    #series_obj = pd.Series(member_detail)\n",
    "    # Series 객체를 append \n",
    "    #member_df = member_df.append(series_obj, ignore_index=True)\n",
    "\n",
    "print(member_df.columns)\n",
    "print(member_df.shape)    \n",
    "member_df.head(2)"
   ]
  },
  {
   "cell_type": "code",
   "execution_count": 9,
   "id": "169e947a",
   "metadata": {},
   "outputs": [
    {
     "name": "stdout",
     "output_type": "stream",
     "text": [
      "RangeIndex(start=1, stop=299, step=1)\n"
     ]
    }
   ],
   "source": [
    "# index가 1부터 시작하도록 재설정\n",
    "member_df.reset_index(drop=True, inplace=True)\n",
    "member_df.index = member_df.index + 1\n",
    "print(member_df.index)"
   ]
  },
  {
   "cell_type": "code",
   "execution_count": null,
   "id": "8792c85b",
   "metadata": {},
   "outputs": [],
   "source": [
    "\n",
    "member_df['정당'].unique()"
   ]
  },
  {
   "cell_type": "code",
   "execution_count": 13,
   "id": "96140f50",
   "metadata": {},
   "outputs": [
    {
     "data": {
      "text/plain": [
       "정당\n",
       "더불어민주당    167\n",
       "국민의힘      107\n",
       "조국혁신당      12\n",
       "진보당         4\n",
       "무소속         3\n",
       "개혁신당        3\n",
       "기본소득당       1\n",
       "사회민주당       1\n",
       "Name: count, dtype: int64"
      ]
     },
     "execution_count": 13,
     "metadata": {},
     "output_type": "execute_result"
    }
   ],
   "source": [
    "member_df['정당'].value_counts()"
   ]
  },
  {
   "cell_type": "code",
   "execution_count": 16,
   "id": "a7b7f510",
   "metadata": {},
   "outputs": [
    {
     "data": {
      "text/plain": [
       "당선횟수\n",
       "초선    131\n",
       "재선     79\n",
       "3선     46\n",
       "4선     24\n",
       "5선     14\n",
       "6선      4\n",
       "Name: count, dtype: int64"
      ]
     },
     "execution_count": 16,
     "metadata": {},
     "output_type": "execute_result"
    }
   ],
   "source": [
    "member_df['당선횟수'].value_counts()"
   ]
  },
  {
   "cell_type": "code",
   "execution_count": null,
   "id": "f4ca8b1d",
   "metadata": {},
   "outputs": [],
   "source": [
    "member_df.loc[member_df['당선횟수'] == '6선']"
   ]
  },
  {
   "cell_type": "code",
   "execution_count": 20,
   "id": "e2be8470",
   "metadata": {},
   "outputs": [
    {
     "data": {
      "text/plain": [
       "성별\n",
       "남    0.791946\n",
       "여    0.208054\n",
       "Name: proportion, dtype: float64"
      ]
     },
     "execution_count": 20,
     "metadata": {},
     "output_type": "execute_result"
    }
   ],
   "source": [
    "member_df['성별'].value_counts(normalize=True)"
   ]
  },
  {
   "cell_type": "code",
   "execution_count": null,
   "id": "f3de59f8",
   "metadata": {},
   "outputs": [],
   "source": [
    "member_df['선거구'].value_counts()"
   ]
  },
  {
   "cell_type": "code",
   "execution_count": 24,
   "id": "95f475a7",
   "metadata": {},
   "outputs": [
    {
     "name": "stdout",
     "output_type": "stream",
     "text": [
      "<class 'pandas.core.series.Series'>\n",
      "<class 'pandas.core.strings.accessor.StringMethods'>\n"
     ]
    },
    {
     "data": {
      "text/html": [
       "<div>\n",
       "<style scoped>\n",
       "    .dataframe tbody tr th:only-of-type {\n",
       "        vertical-align: middle;\n",
       "    }\n",
       "\n",
       "    .dataframe tbody tr th {\n",
       "        vertical-align: top;\n",
       "    }\n",
       "\n",
       "    .dataframe thead th {\n",
       "        text-align: right;\n",
       "    }\n",
       "</style>\n",
       "<table border=\"1\" class=\"dataframe\">\n",
       "  <thead>\n",
       "    <tr style=\"text-align: right;\">\n",
       "      <th></th>\n",
       "      <th>선거구</th>\n",
       "      <th>선거구2</th>\n",
       "    </tr>\n",
       "  </thead>\n",
       "  <tbody>\n",
       "    <tr>\n",
       "      <th>1</th>\n",
       "      <td>비례대표</td>\n",
       "      <td>비례</td>\n",
       "    </tr>\n",
       "    <tr>\n",
       "      <th>2</th>\n",
       "      <td>대구 동구군위군을</td>\n",
       "      <td>대구</td>\n",
       "    </tr>\n",
       "    <tr>\n",
       "      <th>3</th>\n",
       "      <td>경기 안양시만안구</td>\n",
       "      <td>경기</td>\n",
       "    </tr>\n",
       "  </tbody>\n",
       "</table>\n",
       "</div>"
      ],
      "text/plain": [
       "         선거구 선거구2\n",
       "1       비례대표   비례\n",
       "2  대구 동구군위군을   대구\n",
       "3  경기 안양시만안구   경기"
      ]
     },
     "execution_count": 24,
     "metadata": {},
     "output_type": "execute_result"
    }
   ],
   "source": [
    "#선거구2 컬럼을 새로 추가\n",
    "#경남 창원시성산구 -> 경남\n",
    "print(type(member_df['선거구']))\n",
    "print(type(member_df['선거구'].str))\n",
    "#Series객체를 StringMethods 객체로 변환(문자열 슬라이싱을 하기 위해서)\n",
    "temp_str = member_df['선거구'].str\n",
    "#2글자 슬라이싱 값을 선거구2 라는 컬럼으로 저장\n",
    "member_df['선거구2'] = temp_str[:2]\n",
    "\n",
    "member_df.loc[0:3,['선거구','선거구2']]"
   ]
  },
  {
   "cell_type": "code",
   "execution_count": null,
   "id": "919dfe4e",
   "metadata": {},
   "outputs": [],
   "source": [
    "member_df['선거구2'].value_counts()"
   ]
  },
  {
   "cell_type": "code",
   "execution_count": null,
   "id": "2e2a1097",
   "metadata": {},
   "outputs": [],
   "source": [
    "# Row Counting - normalize=True 속성은 % (퍼센티지) 비율로 나타냄\n",
    "member_df['선거구2'].value_counts(normalize=True)"
   ]
  },
  {
   "cell_type": "code",
   "execution_count": null,
   "id": "4730b14f",
   "metadata": {},
   "outputs": [],
   "source": [
    "member_df['지역비례'].value_counts()"
   ]
  },
  {
   "cell_type": "code",
   "execution_count": null,
   "id": "7c94f4ea",
   "metadata": {},
   "outputs": [],
   "source": [
    "member_df['지역비례'].value_counts(normalize=True)"
   ]
  },
  {
   "cell_type": "code",
   "execution_count": 31,
   "id": "d43f9014",
   "metadata": {},
   "outputs": [
    {
     "data": {
      "text/plain": [
       "294    https://www.assembly.go.kr/static/portal/img/o...\n",
       "295    https://www.assembly.go.kr/static/portal/img/o...\n",
       "296    https://www.assembly.go.kr/static/portal/img/o...\n",
       "297    https://www.assembly.go.kr/static/portal/img/o...\n",
       "298    https://www.assembly.go.kr/static/portal/img/o...\n",
       "Name: 이미지, dtype: object"
      ]
     },
     "execution_count": 31,
     "metadata": {},
     "output_type": "execute_result"
    }
   ],
   "source": [
    "member_df['이미지'].tail()"
   ]
  },
  {
   "cell_type": "markdown",
   "id": "d42be631",
   "metadata": {},
   "source": [
    "### 시각화\n",
    "* Image 출력 - Image 객체, diplay() 함수 사용\n",
    "* seaborn - countplot, distplot, heatmap Plot 그려보기\n",
    "* maplotlib - histogram, pie  Plot 그려보기\n",
    "* 한글폰트 설정"
   ]
  },
  {
   "cell_type": "code",
   "execution_count": 33,
   "id": "934ad4af",
   "metadata": {},
   "outputs": [],
   "source": [
    "%matplotlib inline"
   ]
  },
  {
   "cell_type": "code",
   "execution_count": 35,
   "id": "d410fae3",
   "metadata": {},
   "outputs": [],
   "source": [
    "import matplotlib\n",
    "import matplotlib.pyplot as plt\n",
    "import matplotlib.font_manager as fm\n",
    "\n",
    "import seaborn as sns"
   ]
  },
  {
   "cell_type": "code",
   "execution_count": 36,
   "id": "70372891",
   "metadata": {},
   "outputs": [
    {
     "name": "stdout",
     "output_type": "stream",
     "text": [
      "Malgun Gothic\n"
     ]
    }
   ],
   "source": [
    "\n",
    "#한글폰트 설정\n",
    "font_path = 'C:\\\\Windows\\\\Fonts\\\\malgun.ttf'\n",
    "# font의 파일정보로 font name을 알아내기\n",
    "font_prop = fm.FontProperties(fname=font_path).get_name()\n",
    "print(font_prop)\n",
    "# matplotlib의 rc(run command) 함수를 사용해서 폰트이름 설정\n",
    "matplotlib.rc('font', family=font_prop)"
   ]
  },
  {
   "cell_type": "markdown",
   "id": "a10c3a18",
   "metadata": {},
   "source": [
    "### Seaborn 의 막대 그래프\n",
    "* barplot - x축과 y축을 둘 다 설정할 수 있음\n",
    "* countplot - x축 이나 y축 중에서 하나만 설정할 수 있음\n",
    "    * 범주형 속성을 가지는 데이터들의 히스토그램을 보여준다.\n",
    "    * 종류별로 count를 보여주는 Plot이다."
   ]
  },
  {
   "cell_type": "code",
   "execution_count": null,
   "id": "9c4b4f4c",
   "metadata": {},
   "outputs": [],
   "source": [
    "member_df['정당'].value_counts().index"
   ]
  },
  {
   "cell_type": "code",
   "execution_count": null,
   "id": "4ad8d133",
   "metadata": {},
   "outputs": [],
   "source": [
    "figure, (axes1,axes2,axes3) = plt.subplots(nrows=3, ncols=1)\n",
    "figure.set_size_inches(18,12)\n",
    "\n",
    "sns.countplot(data=member_df, x='정당', ax=axes1, order=member_df['정당'].value_counts().index, hue='정당')\n",
    "sns.countplot(data=member_df, x='당선횟수', ax=axes2, order=member_df['당선횟수'].value_counts().index, hue='당선횟수')\n",
    "sns.countplot(data=member_df, x='성별', ax=axes3, order=member_df['성별'].value_counts().index, hue='성별')\n",
    "\n",
    "plt.show()"
   ]
  },
  {
   "cell_type": "markdown",
   "id": "d8208241",
   "metadata": {},
   "source": [
    "#### Matplotlib 의 Pie Plot 그려보기"
   ]
  },
  {
   "cell_type": "code",
   "execution_count": 45,
   "id": "b0b57b20",
   "metadata": {},
   "outputs": [
    {
     "name": "stdout",
     "output_type": "stream",
     "text": [
      "Index(['경기', '서울', '비례', '부산', '경남', '경북', '인천', '대구', '전북', '충남', '전남', '충북',\n",
      "       '광주', '강원', '대전', '울산', '제주', '세종'],\n",
      "      dtype='object', name='선거구2')\n"
     ]
    },
    {
     "data": {
      "text/plain": [
       "선거구2\n",
       "경기    0.201342\n",
       "서울    0.161074\n",
       "비례    0.154362\n",
       "부산    0.060403\n",
       "경남    0.053691\n",
       "경북    0.043624\n",
       "인천    0.043624\n",
       "대구    0.040268\n",
       "전북    0.033557\n",
       "충남    0.033557\n",
       "전남    0.033557\n",
       "충북    0.026846\n",
       "광주    0.026846\n",
       "강원    0.026846\n",
       "대전    0.023490\n",
       "울산    0.020134\n",
       "제주    0.010067\n",
       "세종    0.006711\n",
       "Name: proportion, dtype: float64"
      ]
     },
     "execution_count": 45,
     "metadata": {},
     "output_type": "execute_result"
    }
   ],
   "source": [
    "cdf = member_df['선거구2'].value_counts(normalize=True)\n",
    "print(cdf.index)\n",
    "cdf"
   ]
  },
  {
   "cell_type": "code",
   "execution_count": null,
   "id": "d17a2be4",
   "metadata": {},
   "outputs": [],
   "source": [
    "# figure size 설정\n",
    "figure = plt.figure(figsize=(20,12))\n",
    "print(type(figure))\n",
    "# pie() 함수 - pie plot을 그려주는 함수\n",
    "plt.pie(cdf, labels=cdf.index, autopct='%1.1f%%', startangle=140, shadow=True)\n",
    "# pie plot을 그릴때 원의 형태를 유지하도록 하는 설정\n",
    "plt.axis('equal')\n",
    "plt.title('선거구 분포값')\n",
    "plt.show()"
   ]
  },
  {
   "cell_type": "markdown",
   "id": "6dd7fbe5",
   "metadata": {},
   "source": [
    "#### Seaborn의 HistPlot (분포도)\n",
    "* 히스토그램은 구간에 따른 Count를 표현하기 때문에, y는 count로 고정되어 있어 x값만 설정하면 됩니다. ( x 와 y 중에서 하나만 설정하면 됩니다.)\n",
    "* hue 옵션은 값에 따라 Plot의 색을 다르게 표현할 수 있다.\n",
    "* multiple = 'dodge'|'stack'"
   ]
  },
  {
   "cell_type": "code",
   "execution_count": null,
   "id": "f37d0b07",
   "metadata": {},
   "outputs": [],
   "source": [
    "figure, axes1 = plt.subplots(nrows=1, ncols=1)\n",
    "figure.set_size_inches(18,12)\n",
    "\n",
    "_ = sns.histplot(data=member_df, x='정당', ax=axes1, hue='성별', multiple='dodge',\n",
    "             palette={'남': 'blue', '여': 'red'}, shrink=0.8)\n",
    "plt.show()"
   ]
  },
  {
   "cell_type": "code",
   "execution_count": null,
   "id": "eb7f40e8",
   "metadata": {},
   "outputs": [],
   "source": [
    "member_df.loc[member_df['정당'] == '조국혁신당',['이름','성별']]"
   ]
  },
  {
   "cell_type": "code",
   "execution_count": null,
   "id": "08032b6b",
   "metadata": {},
   "outputs": [],
   "source": [
    "member_df.loc[member_df['정당'] == '조국혁신당',['이름','성별']].groupby('성별').count()"
   ]
  },
  {
   "cell_type": "markdown",
   "id": "e970d4d8",
   "metadata": {},
   "source": [
    "#### 다중 빈도 막대 그래프 catplot\n",
    "* 다중 빈도 막대그래프는 countplot() 또는 catplot() 이 있습니다.\n",
    "* hue 옵션은 변량을 색상으로 구분하는 파라미터입니다."
   ]
  },
  {
   "cell_type": "code",
   "execution_count": 70,
   "id": "b318e0bc",
   "metadata": {},
   "outputs": [
    {
     "data": {
      "text/plain": [
       "Index(['경기', '서울', '비례', '부산', '경남', '경북', '인천', '대구', '전북', '충남', '전남', '충북',\n",
       "       '광주', '강원', '대전', '울산', '제주', '세종'],\n",
       "      dtype='object', name='선거구2')"
      ]
     },
     "execution_count": 70,
     "metadata": {},
     "output_type": "execute_result"
    }
   ],
   "source": [
    "# 선거구 이름들이 빈도순으로 정렬된 리스트입니다.\n",
    "s_index = member_df['선거구2'].value_counts().index\n",
    "s_index"
   ]
  },
  {
   "cell_type": "code",
   "execution_count": 75,
   "id": "85e90ddb",
   "metadata": {},
   "outputs": [
    {
     "data": {
      "image/png": "[encoded data removed]",
      "text/plain": [
       "<Figure size 563.875x500 with 1 Axes>"
      ]
     },
     "metadata": {},
     "output_type": "display_data"
    }
   ],
   "source": [
    "# figure, axes1 = plt.subplots(nrows=1, ncols=1)\n",
    "# figure.set_size_inches(24,12)\n",
    "\n",
    "_ = sns.catplot(data=member_df, y='선거구2', hue='성별', kind='count',\n",
    "             palette={'남': 'navy', '여': 'orange'},\n",
    "             order=s_index)\n",
    "plt.show()"
   ]
  },
  {
   "cell_type": "markdown",
   "id": "093a6d67",
   "metadata": {},
   "source": [
    "#### 히스토그램을 만드는 displot\n",
    "* hue와 palette를 사용하여 색상을 지정할 수 있습니다.\n",
    "* col 옵션은 성별에 따라 서브플롯을 나누어서 그려줍니다."
   ]
  },
  {
   "cell_type": "code",
   "execution_count": null,
   "id": "680759be",
   "metadata": {},
   "outputs": [],
   "source": [
    "sns.displot(\n",
    "    data=member_df,\n",
    "    x='당선횟수',\n",
    "    hue='성별',  # 성별에 따라 색상 구분\n",
    "    col='성별',  # 성별에 따라 캔버스 구분\n",
    "    palette={'남': 'blue', '여': 'orange'},  # 색상 지정\n",
    "    kde=True,  # 커널 밀도 추정 곡선 추가 (선택 사항)\n",
    "    height=5,  # 각 플롯의 높이\n",
    "    aspect=1.5  # 각 플롯의 가로 세로 비율\n",
    ")"
   ]
  }
 ],
 "metadata": {
  "kernelspec": {
   "display_name": "base",
   "language": "python",
   "name": "python3"
  },
  "language_info": {
   "codemirror_mode": {
    "name": "ipython",
    "version": 3
   },
   "file_extension": ".py",
   "mimetype": "text/x-python",
   "name": "python",
   "nbconvert_exporter": "python",
   "pygments_lexer": "ipython3",
   "version": "3.12.7"
  }
 },
 "nbformat": 4,
 "nbformat_minor": 5
}
