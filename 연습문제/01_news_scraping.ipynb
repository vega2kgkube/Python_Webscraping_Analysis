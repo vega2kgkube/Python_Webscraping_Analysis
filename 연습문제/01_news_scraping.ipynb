{
 "cells": [
  {
   "cell_type": "markdown",
   "id": "eb0bfa44",
   "metadata": {},
   "source": [
    "## 1-1. Daum 뉴스제목 가져오기\n",
    "* user-agent 요청헤더를 반드시 설정해야 한다."
   ]
  },
  {
   "cell_type": "code",
   "execution_count": 2,
   "id": "bf80a429",
   "metadata": {},
   "outputs": [
    {
     "name": "stdout",
     "output_type": "stream",
     "text": [
      "https://news.daum.net/economy\n",
      "<class 'requests.models.Response'>\n",
      "200\n",
      "<class 'bs4.element.ResultSet'> 9\n",
      "https://v.daum.net/v/20250723150154993\n",
      "3선 딱지 뗀 '보험맨' 하태경 \"암호화폐 융합보험 시대 곧 온다\" [월간중앙]\n",
      "https://v.daum.net/v/20250723145457640\n",
      "'쌀·소고기' 막고 '연료용 작물' 검토…농산물 개방압력 거셀듯(종합2보)\n",
      "https://v.daum.net/v/20250723142101850\n",
      "네일왕서 아파트왕으로...박화영 인코코 회장 “맨해튼서 예술같은 부동산개발”\n",
      "https://v.daum.net/v/20250723140906360\n",
      "[대전 둔산지구의 미래를 그리다] 디지털·스마트 신도시 '풍골'에서 미래도시의 청사진을 보다\n",
      "https://v.daum.net/v/20250723140803304\n",
      "美日 관세 합의에 부담커진 정부… “車 품목관세 인하가 1순위”\n",
      "https://v.daum.net/v/20250723135926840\n",
      "\"미일 협상, 중요한 참고사례…FTA 고려시 日보단 더 얻어야\"\n",
      "https://v.daum.net/v/20250723130459121\n",
      "[충남창업人-톡](6)카데아, '3D 어라운드 뷰' 개발…美·유럽 시장 정조준\n",
      "https://v.daum.net/v/20250723125814945\n",
      "[뉴스나우] 이틀 앞으로 다가온 한미 협상 시사점은?\n",
      "https://v.daum.net/v/20250723122253422\n",
      "“대졸자, 일자리 밖에 서다”.. 비경제활동 300만 시대의 경고\n"
     ]
    }
   ],
   "source": [
    "import requests\n",
    "from bs4 import BeautifulSoup\n",
    "\n",
    "# 다음 경제 뉴스 URL\n",
    "url = 'https://news.daum.net/economy'\n",
    "\n",
    "print(url)\n",
    "\n",
    "# 요청 헤더\n",
    "req_header = {\n",
    "    'user-agent': 'Mozilla/5.0 (Windows NT 10.0; Win64; x64) AppleWebKit/537.36 (KHTML, like Gecko) Chrome/104.0.0.0 Safari/537.36'\n",
    "}\n",
    "\n",
    "res = requests.get(url, headers=req_header)\n",
    "print(type(res))\n",
    "print(res.status_code)\n",
    "\n",
    "# 정상 응답 여부 확인\n",
    "if res.ok:\n",
    "    res.encoding = 'utf-8' \n",
    "    html = res.text\n",
    "    soup = BeautifulSoup(html, 'html.parser')\n",
    "    \n",
    "    # 기사 제목과 링크 추출\n",
    "    li_tag_list = soup.select('ul.list_newsheadline2 li')\n",
    "\n",
    "    print(type(li_tag_list), len(li_tag_list))\n",
    "\n",
    "    for li_tag in li_tag_list:        \n",
    "        a_tag = li_tag.find('a')\n",
    "        print(a_tag['href'])\n",
    "        \n",
    "        #strong_tag = li_tag.select('div.cont_thumb strong.tit_txt')[0]\n",
    "        strong_tag = li_tag.select_one('div.cont_thumb strong.tit_txt')\n",
    "        title = strong_tag.text.strip()\n",
    "        print(title)\n",
    "\n",
    "else:\n",
    "    print(f'에러코드 = {res.status_code}')\n",
    "\n"
   ]
  },
  {
   "cell_type": "code",
   "execution_count": 3,
   "id": "9788d6ac",
   "metadata": {},
   "outputs": [
    {
     "data": {
      "text/plain": [
       "{'기후/환경': 'climate',\n",
       " '사회': 'society',\n",
       " '경제': 'economy',\n",
       " '정치': 'politics',\n",
       " '국제': 'world',\n",
       " '문화': 'culture',\n",
       " '생활': 'life',\n",
       " 'IT/과학': 'tech',\n",
       " '인물': 'people'}"
      ]
     },
     "execution_count": 3,
     "metadata": {},
     "output_type": "execute_result"
    }
   ],
   "source": [
    "section_dict = {'기후/환경':'climate','사회':'society','경제':'economy','정치':'politics',\\\n",
    "                '국제':'world','문화':'culture','생활':'life','IT/과학':'tech','인물':'people'}\n",
    "section_dict"
   ]
  },
  {
   "cell_type": "markdown",
   "id": "ccb91def-cde3-4aeb-b0e5-2e7233500333",
   "metadata": {},
   "source": [
    "## 1-2. Daum 뉴스제목 \n",
    "* 함수로 선언하여 처리하기"
   ]
  },
  {
   "cell_type": "code",
   "execution_count": 10,
   "id": "94c12fd6",
   "metadata": {},
   "outputs": [],
   "source": [
    "import requests\n",
    "from bs4 import BeautifulSoup\n",
    "\n",
    "def print_news(section_name):    \n",
    "    section = section_dict[section_name]\n",
    "    # 요청 Parameter\n",
    "    req_param = {\n",
    "        'section': section\n",
    "    }\n",
    "    url = 'https://news.daum.net/{section}'.format(**req_param)\n",
    "    \n",
    "    print(f'======> {url} {section_name} 뉴스 <======')\n",
    "    \n",
    "    # 요청 헤더 설정 : 브라우저 정보\n",
    "    req_header = {\n",
    "        'user-agent': 'Mozilla/5.0 (Windows NT 10.0; Win64; x64) AppleWebKit/537.36 (KHTML, like Gecko) Chrome/104.0.0.0 Safari/537.36'\n",
    "    }\n",
    "\n",
    "    res = requests.get(url, headers=req_header)   \n",
    "\n",
    "    if res.ok:\n",
    "        res.encoding = 'utf-8' \n",
    "        html = res.text\n",
    "        soup = BeautifulSoup(html, 'html.parser')\n",
    "        \n",
    "        li_tag_list = list()\n",
    "        # 기사 제목과 링크 추출\n",
    "        li_tag_list = soup.select('ul.list_newsheadline2 li')\n",
    "\n",
    "        #print(type(li_tag_list), len(li_tag_list))\n",
    "\n",
    "        for li_tag in li_tag_list:        \n",
    "            a_tag = li_tag.find('a')\n",
    "            print(a_tag['href'])\n",
    "            \n",
    "            strong_tag = li_tag.select_one('div.cont_thumb strong.tit_txt')\n",
    "            title = strong_tag.text.strip()\n",
    "            print(title)\n",
    "\n",
    "    else:\n",
    "        print(f'에러코드 = {res.status_code}')\n"
   ]
  },
  {
   "cell_type": "code",
   "execution_count": null,
   "id": "4fa3ef3c",
   "metadata": {},
   "outputs": [],
   "source": [
    "print_news('경제')"
   ]
  },
  {
   "cell_type": "code",
   "execution_count": null,
   "id": "fdb81c0c",
   "metadata": {},
   "outputs": [],
   "source": [
    "print_news('인물')"
   ]
  },
  {
   "cell_type": "code",
   "execution_count": null,
   "id": "df6bf058",
   "metadata": {},
   "outputs": [],
   "source": [
    "print_news('국제')"
   ]
  },
  {
   "cell_type": "code",
   "execution_count": null,
   "id": "0177587e",
   "metadata": {},
   "outputs": [],
   "source": [
    "for section in section_dict.keys():\n",
    "    print_news(section)"
   ]
  }
 ],
 "metadata": {
  "kernelspec": {
   "display_name": "base",
   "language": "python",
   "name": "python3"
  },
  "language_info": {
   "codemirror_mode": {
    "name": "ipython",
    "version": 3
   },
   "file_extension": ".py",
   "mimetype": "text/x-python",
   "name": "python",
   "nbconvert_exporter": "python",
   "pygments_lexer": "ipython3",
   "version": "3.12.7"
  }
 },
 "nbformat": 4,
 "nbformat_minor": 5
}
