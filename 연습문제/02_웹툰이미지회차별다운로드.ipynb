{
 "cells": [
  {
   "cell_type": "markdown",
   "id": "e64edd84",
   "metadata": {},
   "source": [
    "### 특정 웹툰 페이지의 모든 image를 다운로드 받기\n",
    "* img 폴더를 생성하고 그 아래에 파일을 저장하기\n",
    "* pathlib 의 Path 사용하여 디렉토리 생성하기"
   ]
  },
  {
   "cell_type": "code",
   "execution_count": 3,
   "id": "b5c02430",
   "metadata": {},
   "outputs": [
    {
     "name": "stdout",
     "output_type": "stream",
     "text": [
      "True\n",
      "44\n",
      "다운로드 완료:1. img\\배달왕\\130\\20250710220622_f782a230cd104a88a40917f8272635d4_IMAG01_1.jpg (136,954 bytes)\n",
      "다운로드 완료:2. img\\배달왕\\130\\20250710220622_f782a230cd104a88a40917f8272635d4_IMAG01_2.jpg (106,303 bytes)\n",
      "다운로드 완료:3. img\\배달왕\\130\\20250710220622_f782a230cd104a88a40917f8272635d4_IMAG01_3.jpg (142,449 bytes)\n",
      "다운로드 완료:4. img\\배달왕\\130\\20250710220622_f782a230cd104a88a40917f8272635d4_IMAG01_4.jpg (133,923 bytes)\n",
      "다운로드 완료:5. img\\배달왕\\130\\20250710220622_f782a230cd104a88a40917f8272635d4_IMAG01_5.jpg (107,165 bytes)\n",
      "다운로드 완료:6. img\\배달왕\\130\\20250710220622_f782a230cd104a88a40917f8272635d4_IMAG01_6.jpg (136,999 bytes)\n",
      "다운로드 완료:7. img\\배달왕\\130\\20250710220622_f782a230cd104a88a40917f8272635d4_IMAG01_7.jpg (82,487 bytes)\n",
      "다운로드 완료:8. img\\배달왕\\130\\20250710220622_f782a230cd104a88a40917f8272635d4_IMAG01_8.jpg (112,916 bytes)\n",
      "다운로드 완료:9. img\\배달왕\\130\\20250710220622_f782a230cd104a88a40917f8272635d4_IMAG01_9.jpg (106,265 bytes)\n",
      "다운로드 완료:10. img\\배달왕\\130\\20250710220622_f782a230cd104a88a40917f8272635d4_IMAG01_10.jpg (138,099 bytes)\n",
      "다운로드 완료:11. img\\배달왕\\130\\20250710220622_f782a230cd104a88a40917f8272635d4_IMAG01_11.jpg (170,190 bytes)\n",
      "다운로드 완료:12. img\\배달왕\\130\\20250710220622_f782a230cd104a88a40917f8272635d4_IMAG01_12.jpg (71,063 bytes)\n",
      "다운로드 완료:13. img\\배달왕\\130\\20250710220622_f782a230cd104a88a40917f8272635d4_IMAG01_13.jpg (79,996 bytes)\n",
      "다운로드 완료:14. img\\배달왕\\130\\20250710220622_f782a230cd104a88a40917f8272635d4_IMAG01_14.jpg (111,373 bytes)\n",
      "다운로드 완료:15. img\\배달왕\\130\\20250710220622_f782a230cd104a88a40917f8272635d4_IMAG01_15.jpg (131,151 bytes)\n",
      "다운로드 완료:16. img\\배달왕\\130\\20250710220622_f782a230cd104a88a40917f8272635d4_IMAG01_16.jpg (130,371 bytes)\n",
      "다운로드 완료:17. img\\배달왕\\130\\20250710220622_f782a230cd104a88a40917f8272635d4_IMAG01_17.jpg (143,768 bytes)\n",
      "다운로드 완료:18. img\\배달왕\\130\\20250710220622_f782a230cd104a88a40917f8272635d4_IMAG01_18.jpg (109,158 bytes)\n",
      "다운로드 완료:19. img\\배달왕\\130\\20250710220622_f782a230cd104a88a40917f8272635d4_IMAG01_19.jpg (95,064 bytes)\n",
      "다운로드 완료:20. img\\배달왕\\130\\20250710220622_f782a230cd104a88a40917f8272635d4_IMAG01_20.jpg (98,928 bytes)\n",
      "다운로드 완료:21. img\\배달왕\\130\\20250710220622_f782a230cd104a88a40917f8272635d4_IMAG01_21.jpg (89,384 bytes)\n",
      "다운로드 완료:22. img\\배달왕\\130\\20250710220622_f782a230cd104a88a40917f8272635d4_IMAG01_22.jpg (93,113 bytes)\n",
      "다운로드 완료:23. img\\배달왕\\130\\20250710220622_f782a230cd104a88a40917f8272635d4_IMAG01_23.jpg (128,169 bytes)\n",
      "다운로드 완료:24. img\\배달왕\\130\\20250710220622_f782a230cd104a88a40917f8272635d4_IMAG01_24.jpg (153,666 bytes)\n",
      "다운로드 완료:25. img\\배달왕\\130\\20250710220622_f782a230cd104a88a40917f8272635d4_IMAG01_25.jpg (126,012 bytes)\n",
      "다운로드 완료:26. img\\배달왕\\130\\20250710220622_f782a230cd104a88a40917f8272635d4_IMAG01_26.jpg (91,205 bytes)\n",
      "다운로드 완료:27. img\\배달왕\\130\\20250710220622_f782a230cd104a88a40917f8272635d4_IMAG01_27.jpg (90,624 bytes)\n",
      "다운로드 완료:28. img\\배달왕\\130\\20250710220622_f782a230cd104a88a40917f8272635d4_IMAG01_28.jpg (151,382 bytes)\n",
      "다운로드 완료:29. img\\배달왕\\130\\20250710220622_f782a230cd104a88a40917f8272635d4_IMAG01_29.jpg (138,234 bytes)\n",
      "다운로드 완료:30. img\\배달왕\\130\\20250710220622_f782a230cd104a88a40917f8272635d4_IMAG01_30.jpg (67,163 bytes)\n",
      "다운로드 완료:31. img\\배달왕\\130\\20250710220622_f782a230cd104a88a40917f8272635d4_IMAG01_31.jpg (96,629 bytes)\n",
      "다운로드 완료:32. img\\배달왕\\130\\20250710220622_f782a230cd104a88a40917f8272635d4_IMAG01_32.jpg (103,681 bytes)\n",
      "다운로드 완료:33. img\\배달왕\\130\\20250710220622_f782a230cd104a88a40917f8272635d4_IMAG01_33.jpg (96,917 bytes)\n",
      "다운로드 완료:34. img\\배달왕\\130\\20250710220622_f782a230cd104a88a40917f8272635d4_IMAG01_34.jpg (99,698 bytes)\n",
      "다운로드 완료:35. img\\배달왕\\130\\20250710220622_f782a230cd104a88a40917f8272635d4_IMAG01_35.jpg (158,067 bytes)\n",
      "다운로드 완료:36. img\\배달왕\\130\\20250710220622_f782a230cd104a88a40917f8272635d4_IMAG01_36.jpg (109,550 bytes)\n",
      "다운로드 완료:37. img\\배달왕\\130\\20250710220622_f782a230cd104a88a40917f8272635d4_IMAG01_37.jpg (121,467 bytes)\n",
      "다운로드 완료:38. img\\배달왕\\130\\20250710220622_f782a230cd104a88a40917f8272635d4_IMAG01_38.jpg (108,418 bytes)\n",
      "다운로드 완료:39. img\\배달왕\\130\\20250710220622_f782a230cd104a88a40917f8272635d4_IMAG01_39.jpg (120,290 bytes)\n",
      "다운로드 완료:40. img\\배달왕\\130\\20250710220622_f782a230cd104a88a40917f8272635d4_IMAG01_40.jpg (105,820 bytes)\n",
      "다운로드 완료:41. img\\배달왕\\130\\20250710220622_f782a230cd104a88a40917f8272635d4_IMAG01_41.jpg (105,822 bytes)\n",
      "다운로드 완료:42. img\\배달왕\\130\\20250710220622_f782a230cd104a88a40917f8272635d4_IMAG01_42.jpg (71,220 bytes)\n",
      "다운로드 완료:43. img\\배달왕\\130\\20250710220622_f782a230cd104a88a40917f8272635d4_IMAG01_43.jpg (141,934 bytes)\n",
      "다운로드 완료:44. img\\배달왕\\130\\20250710220622_f782a230cd104a88a40917f8272635d4_IMAG01_44.jpg (10,354 bytes)\n"
     ]
    }
   ],
   "source": [
    "import requests\n",
    "from bs4 import BeautifulSoup\n",
    "from pathlib import Path\n",
    "\n",
    "def download_one_episode(title,no,url):\n",
    "    \n",
    "    req_header = {'referer': url}\n",
    "    \n",
    "    res = requests.get(url)\n",
    "    print(res.ok)\n",
    "    if res.ok:\n",
    "        soup = BeautifulSoup(res.text, 'html.parser')\n",
    "               \n",
    "        img_tags = soup.select(\"img[src*='IMAG01']\")\n",
    "        # list comprehension 사용\n",
    "        imgurl_list = [img['src'] for img in img_tags]\n",
    "        print(len(imgurl_list))\n",
    "        \n",
    "        # img/배달왕/130\n",
    "        save_dir = Path('img') / title / str(no)\n",
    "        save_dir.mkdir(parents=True, exist_ok=True)\n",
    "\n",
    "        for idx,img_url in enumerate(imgurl_list,1):\n",
    "            res = requests.get(img_url,headers=req_header)\n",
    "            res.raise_for_status()\n",
    "\n",
    "            file_name = Path(img_url).name\n",
    "            save_path = save_dir / file_name\n",
    "            save_path.write_bytes(res.content)\n",
    "            print(f'다운로드 완료:{idx}. {save_path} ({save_path.stat().st_size:,} bytes)')\n",
    "                \n",
    "if __name__ == '__main__':                \n",
    "    #download_one_episode('낢이사는이야기',46,'https://comic.naver.com/webtoon/detail?titleId=833255&no=47&week=tue')\n",
    "    download_one_episode('배달왕',130,'https://comic.naver.com/webtoon/detail?titleId=823933&no=130&week=thu')"
   ]
  }
 ],
 "metadata": {
  "kernelspec": {
   "display_name": "base",
   "language": "python",
   "name": "python3"
  },
  "language_info": {
   "codemirror_mode": {
    "name": "ipython",
    "version": 3
   },
   "file_extension": ".py",
   "mimetype": "text/x-python",
   "name": "python",
   "nbconvert_exporter": "python",
   "pygments_lexer": "ipython3",
   "version": "3.12.7"
  }
 },
 "nbformat": 4,
 "nbformat_minor": 5
}
