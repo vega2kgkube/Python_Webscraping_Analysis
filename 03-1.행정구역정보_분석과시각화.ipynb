{
 "cells": [
  {
   "cell_type": "markdown",
   "id": "8a508f6f",
   "metadata": {},
   "source": [
    "### 행정구역 정보 분석 및 시각화\n",
    "1. pandas의 read_csv() 함수로 csv file을 읽어서 DataFrame 객체로 생성하고 데이터 확인하기\n",
    "2. Data Selection : loc[] / iloc[] 를 사용해서 특정 Row와 Column 선택하기\n",
    "3. 컬럼명 변경하기\n",
    "4. DataFrame 객체를 Excel file로 저장하기\n",
    "5. Data Grouping : groupby() 함수를 사용해서 그룹핑하기\n",
    "6. 상관관계 분석 : corr() 함수를 사용해서 인구수와 면적간의 상관관계 \n",
    "7. 시각화 : seaborn의 barplot() 함수를 사용해서 Plot 그리기"
   ]
  },
  {
   "cell_type": "code",
   "execution_count": 1,
   "id": "72fd066e",
   "metadata": {},
   "outputs": [
    {
     "name": "stdout",
     "output_type": "stream",
     "text": [
      "2.2.2\n"
     ]
    }
   ],
   "source": [
    "import pandas as pd\n",
    "print(pd.__version__)"
   ]
  },
  {
   "cell_type": "markdown",
   "id": "a76a21f9",
   "metadata": {},
   "source": [
    "##### pandas의 read_csv() 함수로 csv file을 읽어서 DataFrame 객체로 생성하고 데이터 확인하기"
   ]
  },
  {
   "cell_type": "code",
   "execution_count": 2,
   "id": "d1d42e86-a7fd-4c98-844b-559819f5026e",
   "metadata": {},
   "outputs": [
    {
     "name": "stdout",
     "output_type": "stream",
     "text": [
      "<class 'pandas.core.frame.DataFrame'>\n"
     ]
    }
   ],
   "source": [
    "data = pd.read_csv('data/data_draw_korea.csv')\n",
    "print(type(data))"
   ]
  },
  {
   "cell_type": "code",
   "execution_count": 3,
   "id": "6ee3dba2-18e8-4839-974c-c2b3bfeb3720",
   "metadata": {},
   "outputs": [
    {
     "data": {
      "text/html": [
       "<div>\n",
       "<style scoped>\n",
       "    .dataframe tbody tr th:only-of-type {\n",
       "        vertical-align: middle;\n",
       "    }\n",
       "\n",
       "    .dataframe tbody tr th {\n",
       "        vertical-align: top;\n",
       "    }\n",
       "\n",
       "    .dataframe thead th {\n",
       "        text-align: right;\n",
       "    }\n",
       "</style>\n",
       "<table border=\"1\" class=\"dataframe\">\n",
       "  <thead>\n",
       "    <tr style=\"text-align: right;\">\n",
       "      <th></th>\n",
       "      <th>Unnamed: 0</th>\n",
       "      <th>인구수</th>\n",
       "      <th>shortName</th>\n",
       "      <th>x</th>\n",
       "      <th>y</th>\n",
       "      <th>면적</th>\n",
       "      <th>광역시도</th>\n",
       "      <th>행정구역</th>\n",
       "    </tr>\n",
       "  </thead>\n",
       "  <tbody>\n",
       "    <tr>\n",
       "      <th>0</th>\n",
       "      <td>0</td>\n",
       "      <td>202520</td>\n",
       "      <td>강릉</td>\n",
       "      <td>11</td>\n",
       "      <td>4</td>\n",
       "      <td>1040.07</td>\n",
       "      <td>강원도</td>\n",
       "      <td>강릉시</td>\n",
       "    </tr>\n",
       "    <tr>\n",
       "      <th>1</th>\n",
       "      <td>1</td>\n",
       "      <td>25589</td>\n",
       "      <td>고성(강원)</td>\n",
       "      <td>9</td>\n",
       "      <td>0</td>\n",
       "      <td>664.19</td>\n",
       "      <td>강원도</td>\n",
       "      <td>고성군</td>\n",
       "    </tr>\n",
       "    <tr>\n",
       "      <th>2</th>\n",
       "      <td>2</td>\n",
       "      <td>86747</td>\n",
       "      <td>동해</td>\n",
       "      <td>11</td>\n",
       "      <td>5</td>\n",
       "      <td>180.01</td>\n",
       "      <td>강원도</td>\n",
       "      <td>동해시</td>\n",
       "    </tr>\n",
       "  </tbody>\n",
       "</table>\n",
       "</div>"
      ],
      "text/plain": [
       "   Unnamed: 0     인구수 shortName   x  y       면적 광역시도 행정구역\n",
       "0           0  202520        강릉  11  4  1040.07  강원도  강릉시\n",
       "1           1   25589    고성(강원)   9  0   664.19  강원도  고성군\n",
       "2           2   86747        동해  11  5   180.01  강원도  동해시"
      ]
     },
     "execution_count": 3,
     "metadata": {},
     "output_type": "execute_result"
    }
   ],
   "source": [
    "# head() 함수\n",
    "data.head(3)"
   ]
  },
  {
   "cell_type": "code",
   "execution_count": 4,
   "id": "0a6bec82-6004-4fbd-ad14-10bd80ad9463",
   "metadata": {},
   "outputs": [
    {
     "data": {
      "text/html": [
       "<div>\n",
       "<style scoped>\n",
       "    .dataframe tbody tr th:only-of-type {\n",
       "        vertical-align: middle;\n",
       "    }\n",
       "\n",
       "    .dataframe tbody tr th {\n",
       "        vertical-align: top;\n",
       "    }\n",
       "\n",
       "    .dataframe thead th {\n",
       "        text-align: right;\n",
       "    }\n",
       "</style>\n",
       "<table border=\"1\" class=\"dataframe\">\n",
       "  <thead>\n",
       "    <tr style=\"text-align: right;\">\n",
       "      <th></th>\n",
       "      <th>Unnamed: 0</th>\n",
       "      <th>인구수</th>\n",
       "      <th>shortName</th>\n",
       "      <th>x</th>\n",
       "      <th>y</th>\n",
       "      <th>면적</th>\n",
       "      <th>광역시도</th>\n",
       "      <th>행정구역</th>\n",
       "    </tr>\n",
       "  </thead>\n",
       "  <tbody>\n",
       "    <tr>\n",
       "      <th>224</th>\n",
       "      <td>224</td>\n",
       "      <td>127462</td>\n",
       "      <td>제천</td>\n",
       "      <td>8</td>\n",
       "      <td>10</td>\n",
       "      <td>882.47</td>\n",
       "      <td>충청북도</td>\n",
       "      <td>제천시</td>\n",
       "    </tr>\n",
       "    <tr>\n",
       "      <th>225</th>\n",
       "      <td>225</td>\n",
       "      <td>34480</td>\n",
       "      <td>증평</td>\n",
       "      <td>6</td>\n",
       "      <td>11</td>\n",
       "      <td>81.84</td>\n",
       "      <td>충청북도</td>\n",
       "      <td>증평군</td>\n",
       "    </tr>\n",
       "    <tr>\n",
       "      <th>226</th>\n",
       "      <td>226</td>\n",
       "      <td>62809</td>\n",
       "      <td>진천</td>\n",
       "      <td>5</td>\n",
       "      <td>11</td>\n",
       "      <td>406.08</td>\n",
       "      <td>충청북도</td>\n",
       "      <td>진천군</td>\n",
       "    </tr>\n",
       "    <tr>\n",
       "      <th>227</th>\n",
       "      <td>227</td>\n",
       "      <td>790216</td>\n",
       "      <td>청주</td>\n",
       "      <td>6</td>\n",
       "      <td>12</td>\n",
       "      <td>932.51</td>\n",
       "      <td>충청북도</td>\n",
       "      <td>청주시</td>\n",
       "    </tr>\n",
       "    <tr>\n",
       "      <th>228</th>\n",
       "      <td>228</td>\n",
       "      <td>198077</td>\n",
       "      <td>충주</td>\n",
       "      <td>6</td>\n",
       "      <td>10</td>\n",
       "      <td>983.70</td>\n",
       "      <td>충청북도</td>\n",
       "      <td>충주시</td>\n",
       "    </tr>\n",
       "  </tbody>\n",
       "</table>\n",
       "</div>"
      ],
      "text/plain": [
       "     Unnamed: 0     인구수 shortName  x   y      면적  광역시도 행정구역\n",
       "224         224  127462        제천  8  10  882.47  충청북도  제천시\n",
       "225         225   34480        증평  6  11   81.84  충청북도  증평군\n",
       "226         226   62809        진천  5  11  406.08  충청북도  진천군\n",
       "227         227  790216        청주  6  12  932.51  충청북도  청주시\n",
       "228         228  198077        충주  6  10  983.70  충청북도  충주시"
      ]
     },
     "execution_count": 4,
     "metadata": {},
     "output_type": "execute_result"
    }
   ],
   "source": [
    "# tail() 함수\n",
    "data.tail()"
   ]
  },
  {
   "cell_type": "code",
   "execution_count": 5,
   "id": "797cc7e6-b80d-4b4c-87dc-fe313c4b3879",
   "metadata": {},
   "outputs": [
    {
     "data": {
      "text/html": [
       "<div>\n",
       "<style scoped>\n",
       "    .dataframe tbody tr th:only-of-type {\n",
       "        vertical-align: middle;\n",
       "    }\n",
       "\n",
       "    .dataframe tbody tr th {\n",
       "        vertical-align: top;\n",
       "    }\n",
       "\n",
       "    .dataframe thead th {\n",
       "        text-align: right;\n",
       "    }\n",
       "</style>\n",
       "<table border=\"1\" class=\"dataframe\">\n",
       "  <thead>\n",
       "    <tr style=\"text-align: right;\">\n",
       "      <th></th>\n",
       "      <th>Unnamed: 0</th>\n",
       "      <th>인구수</th>\n",
       "      <th>shortName</th>\n",
       "      <th>x</th>\n",
       "      <th>y</th>\n",
       "      <th>면적</th>\n",
       "      <th>광역시도</th>\n",
       "      <th>행정구역</th>\n",
       "    </tr>\n",
       "  </thead>\n",
       "  <tbody>\n",
       "    <tr>\n",
       "      <th>156</th>\n",
       "      <td>156</td>\n",
       "      <td>317785</td>\n",
       "      <td>인천계양</td>\n",
       "      <td>2</td>\n",
       "      <td>5</td>\n",
       "      <td>45.58</td>\n",
       "      <td>인천광역시</td>\n",
       "      <td>계양구</td>\n",
       "    </tr>\n",
       "    <tr>\n",
       "      <th>94</th>\n",
       "      <td>94</td>\n",
       "      <td>297826</td>\n",
       "      <td>광주서구</td>\n",
       "      <td>2</td>\n",
       "      <td>20</td>\n",
       "      <td>46.73</td>\n",
       "      <td>광주광역시</td>\n",
       "      <td>서구</td>\n",
       "    </tr>\n",
       "    <tr>\n",
       "      <th>56</th>\n",
       "      <td>56</td>\n",
       "      <td>31983</td>\n",
       "      <td>산청</td>\n",
       "      <td>5</td>\n",
       "      <td>18</td>\n",
       "      <td>794.59</td>\n",
       "      <td>경상남도</td>\n",
       "      <td>산청군</td>\n",
       "    </tr>\n",
       "  </tbody>\n",
       "</table>\n",
       "</div>"
      ],
      "text/plain": [
       "     Unnamed: 0     인구수 shortName  x   y      면적   광역시도 행정구역\n",
       "156         156  317785      인천계양  2   5   45.58  인천광역시  계양구\n",
       "94           94  297826      광주서구  2  20   46.73  광주광역시   서구\n",
       "56           56   31983        산청  5  18  794.59   경상남도  산청군"
      ]
     },
     "execution_count": 5,
     "metadata": {},
     "output_type": "execute_result"
    }
   ],
   "source": [
    "# sample() 함수\n",
    "data.sample(3)"
   ]
  },
  {
   "cell_type": "code",
   "execution_count": 6,
   "id": "b0963c6a-05b9-439e-9c0e-113475c0b5ad",
   "metadata": {},
   "outputs": [
    {
     "name": "stdout",
     "output_type": "stream",
     "text": [
      "컬럼명 = Index(['Unnamed: 0', '인구수', 'shortName', 'x', 'y', '면적', '광역시도', '행정구역'], dtype='object')\n",
      "인덱스 = RangeIndex(start=0, stop=229, step=1)\n"
     ]
    }
   ],
   "source": [
    "# 컬렴명 확인하기\n",
    "print(f'컬럼명 = {data.columns}')\n",
    "# 인덱스 확인하기\n",
    "print(f'인덱스 = {data.index}')"
   ]
  },
  {
   "cell_type": "code",
   "execution_count": 7,
   "id": "74d834a9-6c9c-4d71-bcfd-ff96358d1a5f",
   "metadata": {},
   "outputs": [
    {
     "name": "stdout",
     "output_type": "stream",
     "text": [
      "<class 'numpy.ndarray'>\n"
     ]
    },
    {
     "data": {
      "text/plain": [
       "array([[0, 202520, '강릉', ..., 1040.07, '강원도', '강릉시'],\n",
       "       [1, 25589, '고성(강원)', ..., 664.19, '강원도', '고성군'],\n",
       "       [2, 86747, '동해', ..., 180.01, '강원도', '동해시'],\n",
       "       ...,\n",
       "       [226, 62809, '진천', ..., 406.08, '충청북도', '진천군'],\n",
       "       [227, 790216, '청주', ..., 932.51, '충청북도', '청주시'],\n",
       "       [228, 198077, '충주', ..., 983.7, '충청북도', '충주시']], dtype=object)"
      ]
     },
     "execution_count": 7,
     "metadata": {},
     "output_type": "execute_result"
    }
   ],
   "source": [
    "# values 속성으로 값 확인하기\n",
    "print(type(data.values))\n",
    "data.values"
   ]
  },
  {
   "cell_type": "code",
   "execution_count": 8,
   "id": "006ce306-4291-4e02-b1d4-f67637f4e4bc",
   "metadata": {},
   "outputs": [
    {
     "name": "stdout",
     "output_type": "stream",
     "text": [
      "<class 'pandas.core.frame.DataFrame'>\n",
      "RangeIndex: 229 entries, 0 to 228\n",
      "Data columns (total 8 columns):\n",
      " #   Column      Non-Null Count  Dtype  \n",
      "---  ------      --------------  -----  \n",
      " 0   Unnamed: 0  229 non-null    int64  \n",
      " 1   인구수         229 non-null    int64  \n",
      " 2   shortName   229 non-null    object \n",
      " 3   x           229 non-null    int64  \n",
      " 4   y           229 non-null    int64  \n",
      " 5   면적          229 non-null    float64\n",
      " 6   광역시도        229 non-null    object \n",
      " 7   행정구역        229 non-null    object \n",
      "dtypes: float64(1), int64(4), object(3)\n",
      "memory usage: 14.4+ KB\n"
     ]
    }
   ],
   "source": [
    "# info() 함수\n",
    "data.info()"
   ]
  },
  {
   "cell_type": "code",
   "execution_count": 9,
   "id": "ba1af643-c355-428d-a3d9-3fea85635bb8",
   "metadata": {},
   "outputs": [
    {
     "data": {
      "text/plain": [
       "Unnamed: 0      int64\n",
       "인구수             int64\n",
       "shortName      object\n",
       "x               int64\n",
       "y               int64\n",
       "면적            float64\n",
       "광역시도           object\n",
       "행정구역           object\n",
       "dtype: object"
      ]
     },
     "execution_count": 9,
     "metadata": {},
     "output_type": "execute_result"
    }
   ],
   "source": [
    "# 모든 컬럼의 타입 확인\n",
    "data.dtypes"
   ]
  },
  {
   "cell_type": "code",
   "execution_count": 10,
   "id": "b1a09fbd-f8d7-4c96-949e-8512705c13d4",
   "metadata": {},
   "outputs": [
    {
     "name": "stdout",
     "output_type": "stream",
     "text": [
      "<class 'pandas.core.series.Series'>\n",
      "<class 'pandas.core.series.Series'>\n"
     ]
    },
    {
     "data": {
      "text/plain": [
       "dtype('float64')"
      ]
     },
     "execution_count": 10,
     "metadata": {},
     "output_type": "execute_result"
    }
   ],
   "source": [
    "# 면적 컬럼의 타입을 확인\n",
    "print(type(data['면적']))\n",
    "print(type(data.면적)) #컬럼명에 공백이 없을 경우에만 사용가능함\n",
    "data['면적'].dtypes"
   ]
  },
  {
   "cell_type": "code",
   "execution_count": 11,
   "id": "3820a2a8-1a10-4723-9bb1-adf8931a92a0",
   "metadata": {},
   "outputs": [
    {
     "name": "stdout",
     "output_type": "stream",
     "text": [
      "<class 'pandas.core.series.Series'>\n"
     ]
    },
    {
     "data": {
      "text/plain": [
       "dtype('int64')"
      ]
     },
     "execution_count": 11,
     "metadata": {},
     "output_type": "execute_result"
    }
   ],
   "source": [
    "# 특정컬럼(인구수)의 타입 확인\n",
    "print(type(data['인구수']))\n",
    "data['인구수'].dtypes"
   ]
  },
  {
   "cell_type": "code",
   "execution_count": 12,
   "id": "96617dd2",
   "metadata": {},
   "outputs": [
    {
     "data": {
      "text/html": [
       "<div>\n",
       "<style scoped>\n",
       "    .dataframe tbody tr th:only-of-type {\n",
       "        vertical-align: middle;\n",
       "    }\n",
       "\n",
       "    .dataframe tbody tr th {\n",
       "        vertical-align: top;\n",
       "    }\n",
       "\n",
       "    .dataframe thead th {\n",
       "        text-align: right;\n",
       "    }\n",
       "</style>\n",
       "<table border=\"1\" class=\"dataframe\">\n",
       "  <thead>\n",
       "    <tr style=\"text-align: right;\">\n",
       "      <th></th>\n",
       "      <th>Unnamed: 0</th>\n",
       "      <th>인구수</th>\n",
       "      <th>x</th>\n",
       "      <th>y</th>\n",
       "      <th>면적</th>\n",
       "    </tr>\n",
       "  </thead>\n",
       "  <tbody>\n",
       "    <tr>\n",
       "      <th>count</th>\n",
       "      <td>229.000000</td>\n",
       "      <td>2.290000e+02</td>\n",
       "      <td>229.000000</td>\n",
       "      <td>229.000000</td>\n",
       "      <td>229.000000</td>\n",
       "    </tr>\n",
       "    <tr>\n",
       "      <th>mean</th>\n",
       "      <td>114.000000</td>\n",
       "      <td>2.110898e+05</td>\n",
       "      <td>6.117904</td>\n",
       "      <td>11.262009</td>\n",
       "      <td>435.419795</td>\n",
       "    </tr>\n",
       "    <tr>\n",
       "      <th>std</th>\n",
       "      <td>66.250786</td>\n",
       "      <td>2.074378e+05</td>\n",
       "      <td>3.320469</td>\n",
       "      <td>6.040898</td>\n",
       "      <td>381.612549</td>\n",
       "    </tr>\n",
       "    <tr>\n",
       "      <th>min</th>\n",
       "      <td>0.000000</td>\n",
       "      <td>8.392000e+03</td>\n",
       "      <td>0.000000</td>\n",
       "      <td>0.000000</td>\n",
       "      <td>2.800000</td>\n",
       "    </tr>\n",
       "    <tr>\n",
       "      <th>25%</th>\n",
       "      <td>57.000000</td>\n",
       "      <td>4.955900e+04</td>\n",
       "      <td>3.000000</td>\n",
       "      <td>6.000000</td>\n",
       "      <td>54.000000</td>\n",
       "    </tr>\n",
       "    <tr>\n",
       "      <th>50%</th>\n",
       "      <td>114.000000</td>\n",
       "      <td>1.401590e+05</td>\n",
       "      <td>6.000000</td>\n",
       "      <td>11.000000</td>\n",
       "      <td>436.400000</td>\n",
       "    </tr>\n",
       "    <tr>\n",
       "      <th>75%</th>\n",
       "      <td>171.000000</td>\n",
       "      <td>3.216180e+05</td>\n",
       "      <td>9.000000</td>\n",
       "      <td>16.000000</td>\n",
       "      <td>692.800000</td>\n",
       "    </tr>\n",
       "    <tr>\n",
       "      <th>max</th>\n",
       "      <td>228.000000</td>\n",
       "      <td>1.125461e+06</td>\n",
       "      <td>13.000000</td>\n",
       "      <td>25.000000</td>\n",
       "      <td>1817.940000</td>\n",
       "    </tr>\n",
       "  </tbody>\n",
       "</table>\n",
       "</div>"
      ],
      "text/plain": [
       "       Unnamed: 0           인구수           x           y           면적\n",
       "count  229.000000  2.290000e+02  229.000000  229.000000   229.000000\n",
       "mean   114.000000  2.110898e+05    6.117904   11.262009   435.419795\n",
       "std     66.250786  2.074378e+05    3.320469    6.040898   381.612549\n",
       "min      0.000000  8.392000e+03    0.000000    0.000000     2.800000\n",
       "25%     57.000000  4.955900e+04    3.000000    6.000000    54.000000\n",
       "50%    114.000000  1.401590e+05    6.000000   11.000000   436.400000\n",
       "75%    171.000000  3.216180e+05    9.000000   16.000000   692.800000\n",
       "max    228.000000  1.125461e+06   13.000000   25.000000  1817.940000"
      ]
     },
     "execution_count": 12,
     "metadata": {},
     "output_type": "execute_result"
    }
   ],
   "source": [
    "data.describe()"
   ]
  },
  {
   "cell_type": "code",
   "execution_count": 13,
   "id": "a210e7d6-8d06-4f29-b1fe-133091afd449",
   "metadata": {},
   "outputs": [
    {
     "data": {
      "text/html": [
       "<div>\n",
       "<style scoped>\n",
       "    .dataframe tbody tr th:only-of-type {\n",
       "        vertical-align: middle;\n",
       "    }\n",
       "\n",
       "    .dataframe tbody tr th {\n",
       "        vertical-align: top;\n",
       "    }\n",
       "\n",
       "    .dataframe thead th {\n",
       "        text-align: right;\n",
       "    }\n",
       "</style>\n",
       "<table border=\"1\" class=\"dataframe\">\n",
       "  <thead>\n",
       "    <tr style=\"text-align: right;\">\n",
       "      <th></th>\n",
       "      <th>Unnamed: 0</th>\n",
       "      <th>인구수</th>\n",
       "      <th>x</th>\n",
       "      <th>y</th>\n",
       "      <th>면적</th>\n",
       "    </tr>\n",
       "  </thead>\n",
       "  <tbody>\n",
       "    <tr>\n",
       "      <th>count</th>\n",
       "      <td>229.000000</td>\n",
       "      <td>2.290000e+02</td>\n",
       "      <td>229.000000</td>\n",
       "      <td>229.000000</td>\n",
       "      <td>229.000000</td>\n",
       "    </tr>\n",
       "    <tr>\n",
       "      <th>mean</th>\n",
       "      <td>114.000000</td>\n",
       "      <td>2.110898e+05</td>\n",
       "      <td>6.117904</td>\n",
       "      <td>11.262009</td>\n",
       "      <td>435.419795</td>\n",
       "    </tr>\n",
       "    <tr>\n",
       "      <th>std</th>\n",
       "      <td>66.250786</td>\n",
       "      <td>2.074378e+05</td>\n",
       "      <td>3.320469</td>\n",
       "      <td>6.040898</td>\n",
       "      <td>381.612549</td>\n",
       "    </tr>\n",
       "    <tr>\n",
       "      <th>min</th>\n",
       "      <td>0.000000</td>\n",
       "      <td>8.392000e+03</td>\n",
       "      <td>0.000000</td>\n",
       "      <td>0.000000</td>\n",
       "      <td>2.800000</td>\n",
       "    </tr>\n",
       "    <tr>\n",
       "      <th>25%</th>\n",
       "      <td>57.000000</td>\n",
       "      <td>4.955900e+04</td>\n",
       "      <td>3.000000</td>\n",
       "      <td>6.000000</td>\n",
       "      <td>54.000000</td>\n",
       "    </tr>\n",
       "    <tr>\n",
       "      <th>50%</th>\n",
       "      <td>114.000000</td>\n",
       "      <td>1.401590e+05</td>\n",
       "      <td>6.000000</td>\n",
       "      <td>11.000000</td>\n",
       "      <td>436.400000</td>\n",
       "    </tr>\n",
       "    <tr>\n",
       "      <th>75%</th>\n",
       "      <td>171.000000</td>\n",
       "      <td>3.216180e+05</td>\n",
       "      <td>9.000000</td>\n",
       "      <td>16.000000</td>\n",
       "      <td>692.800000</td>\n",
       "    </tr>\n",
       "    <tr>\n",
       "      <th>max</th>\n",
       "      <td>228.000000</td>\n",
       "      <td>1.125461e+06</td>\n",
       "      <td>13.000000</td>\n",
       "      <td>25.000000</td>\n",
       "      <td>1817.940000</td>\n",
       "    </tr>\n",
       "  </tbody>\n",
       "</table>\n",
       "</div>"
      ],
      "text/plain": [
       "       Unnamed: 0           인구수           x           y           면적\n",
       "count  229.000000  2.290000e+02  229.000000  229.000000   229.000000\n",
       "mean   114.000000  2.110898e+05    6.117904   11.262009   435.419795\n",
       "std     66.250786  2.074378e+05    3.320469    6.040898   381.612549\n",
       "min      0.000000  8.392000e+03    0.000000    0.000000     2.800000\n",
       "25%     57.000000  4.955900e+04    3.000000    6.000000    54.000000\n",
       "50%    114.000000  1.401590e+05    6.000000   11.000000   436.400000\n",
       "75%    171.000000  3.216180e+05    9.000000   16.000000   692.800000\n",
       "max    228.000000  1.125461e+06   13.000000   25.000000  1817.940000"
      ]
     },
     "execution_count": 13,
     "metadata": {},
     "output_type": "execute_result"
    }
   ],
   "source": [
    "# describe() 함수, 숫자 타입인 컬럼의 통계함수 출력\n",
    "import numpy as np\n",
    "data.describe(include=[np.number])"
   ]
  },
  {
   "cell_type": "code",
   "execution_count": 14,
   "id": "c979b4b5-19f4-48b9-bfdd-b6eaf292df77",
   "metadata": {},
   "outputs": [
    {
     "data": {
      "text/html": [
       "<div>\n",
       "<style scoped>\n",
       "    .dataframe tbody tr th:only-of-type {\n",
       "        vertical-align: middle;\n",
       "    }\n",
       "\n",
       "    .dataframe tbody tr th {\n",
       "        vertical-align: top;\n",
       "    }\n",
       "\n",
       "    .dataframe thead th {\n",
       "        text-align: right;\n",
       "    }\n",
       "</style>\n",
       "<table border=\"1\" class=\"dataframe\">\n",
       "  <thead>\n",
       "    <tr style=\"text-align: right;\">\n",
       "      <th></th>\n",
       "      <th>shortName</th>\n",
       "      <th>광역시도</th>\n",
       "      <th>행정구역</th>\n",
       "    </tr>\n",
       "  </thead>\n",
       "  <tbody>\n",
       "    <tr>\n",
       "      <th>count</th>\n",
       "      <td>229</td>\n",
       "      <td>229</td>\n",
       "      <td>229</td>\n",
       "    </tr>\n",
       "    <tr>\n",
       "      <th>unique</th>\n",
       "      <td>229</td>\n",
       "      <td>17</td>\n",
       "      <td>206</td>\n",
       "    </tr>\n",
       "    <tr>\n",
       "      <th>top</th>\n",
       "      <td>강릉</td>\n",
       "      <td>경기도</td>\n",
       "      <td>동구</td>\n",
       "    </tr>\n",
       "    <tr>\n",
       "      <th>freq</th>\n",
       "      <td>1</td>\n",
       "      <td>31</td>\n",
       "      <td>6</td>\n",
       "    </tr>\n",
       "  </tbody>\n",
       "</table>\n",
       "</div>"
      ],
      "text/plain": [
       "       shortName 광역시도 행정구역\n",
       "count        229  229  229\n",
       "unique       229   17  206\n",
       "top           강릉  경기도   동구\n",
       "freq           1   31    6"
      ]
     },
     "execution_count": 14,
     "metadata": {},
     "output_type": "execute_result"
    }
   ],
   "source": [
    "# describe() 함수, 문자열(object) 타입인 컬럼의 통계함수 출력\n",
    "data.describe(include=[object])"
   ]
  },
  {
   "cell_type": "code",
   "execution_count": 15,
   "id": "192bae16-efa4-4774-a805-f242354d1262",
   "metadata": {},
   "outputs": [
    {
     "data": {
      "text/plain": [
       "0      False\n",
       "1      False\n",
       "2      False\n",
       "3      False\n",
       "4      False\n",
       "       ...  \n",
       "224    False\n",
       "225    False\n",
       "226    False\n",
       "227    False\n",
       "228    False\n",
       "Name: 행정구역, Length: 229, dtype: bool"
      ]
     },
     "execution_count": 15,
     "metadata": {},
     "output_type": "execute_result"
    }
   ],
   "source": [
    "# 행정구역 컬럼의 값이 '동구' 인 조건식\n",
    "data['행정구역'] == '동구'"
   ]
  },
  {
   "cell_type": "code",
   "execution_count": 16,
   "id": "4bb255e6-ac02-4d27-94f1-e15427e25958",
   "metadata": {},
   "outputs": [
    {
     "data": {
      "text/html": [
       "<div>\n",
       "<style scoped>\n",
       "    .dataframe tbody tr th:only-of-type {\n",
       "        vertical-align: middle;\n",
       "    }\n",
       "\n",
       "    .dataframe tbody tr th {\n",
       "        vertical-align: top;\n",
       "    }\n",
       "\n",
       "    .dataframe thead th {\n",
       "        text-align: right;\n",
       "    }\n",
       "</style>\n",
       "<table border=\"1\" class=\"dataframe\">\n",
       "  <thead>\n",
       "    <tr style=\"text-align: right;\">\n",
       "      <th></th>\n",
       "      <th>Unnamed: 0</th>\n",
       "      <th>인구수</th>\n",
       "      <th>shortName</th>\n",
       "      <th>x</th>\n",
       "      <th>y</th>\n",
       "      <th>면적</th>\n",
       "      <th>광역시도</th>\n",
       "      <th>행정구역</th>\n",
       "    </tr>\n",
       "  </thead>\n",
       "  <tbody>\n",
       "    <tr>\n",
       "      <th>92</th>\n",
       "      <td>92</td>\n",
       "      <td>97571</td>\n",
       "      <td>광주동구</td>\n",
       "      <td>3</td>\n",
       "      <td>20</td>\n",
       "      <td>48.86</td>\n",
       "      <td>광주광역시</td>\n",
       "      <td>동구</td>\n",
       "    </tr>\n",
       "    <tr>\n",
       "      <th>98</th>\n",
       "      <td>98</td>\n",
       "      <td>330830</td>\n",
       "      <td>대구동구</td>\n",
       "      <td>11</td>\n",
       "      <td>13</td>\n",
       "      <td>182.35</td>\n",
       "      <td>대구광역시</td>\n",
       "      <td>동구</td>\n",
       "    </tr>\n",
       "    <tr>\n",
       "      <th>104</th>\n",
       "      <td>104</td>\n",
       "      <td>236524</td>\n",
       "      <td>대전동구</td>\n",
       "      <td>5</td>\n",
       "      <td>13</td>\n",
       "      <td>136.80</td>\n",
       "      <td>대전광역시</td>\n",
       "      <td>동구</td>\n",
       "    </tr>\n",
       "    <tr>\n",
       "      <th>112</th>\n",
       "      <td>112</td>\n",
       "      <td>85952</td>\n",
       "      <td>부산동구</td>\n",
       "      <td>10</td>\n",
       "      <td>17</td>\n",
       "      <td>9.77</td>\n",
       "      <td>부산광역시</td>\n",
       "      <td>동구</td>\n",
       "    </tr>\n",
       "    <tr>\n",
       "      <th>151</th>\n",
       "      <td>151</td>\n",
       "      <td>164738</td>\n",
       "      <td>울산동구</td>\n",
       "      <td>12</td>\n",
       "      <td>14</td>\n",
       "      <td>35.77</td>\n",
       "      <td>울산광역시</td>\n",
       "      <td>동구</td>\n",
       "    </tr>\n",
       "    <tr>\n",
       "      <th>159</th>\n",
       "      <td>159</td>\n",
       "      <td>68950</td>\n",
       "      <td>인천동구</td>\n",
       "      <td>1</td>\n",
       "      <td>5</td>\n",
       "      <td>7.05</td>\n",
       "      <td>인천광역시</td>\n",
       "      <td>동구</td>\n",
       "    </tr>\n",
       "  </tbody>\n",
       "</table>\n",
       "</div>"
      ],
      "text/plain": [
       "     Unnamed: 0     인구수 shortName   x   y      면적   광역시도 행정구역\n",
       "92           92   97571      광주동구   3  20   48.86  광주광역시   동구\n",
       "98           98  330830      대구동구  11  13  182.35  대구광역시   동구\n",
       "104         104  236524      대전동구   5  13  136.80  대전광역시   동구\n",
       "112         112   85952      부산동구  10  17    9.77  부산광역시   동구\n",
       "151         151  164738      울산동구  12  14   35.77  울산광역시   동구\n",
       "159         159   68950      인천동구   1   5    7.05  인천광역시   동구"
      ]
     },
     "execution_count": 16,
     "metadata": {},
     "output_type": "execute_result"
    }
   ],
   "source": [
    "# 해당 조건식과 매칭되는 Row data 선택 boolean indexing\n",
    "data.loc[data['행정구역'] == '동구']"
   ]
  },
  {
   "cell_type": "code",
   "execution_count": 17,
   "id": "a45c2f11-53aa-40dc-ad9c-946374e7ce55",
   "metadata": {},
   "outputs": [],
   "source": [
    "# '광역시도' == '경기도' log[row,column]\n",
    "gy_df = data.loc[data['광역시도'] == '경기도','인구수':'행정구역'].reset_index(drop=True)"
   ]
  },
  {
   "cell_type": "code",
   "execution_count": 18,
   "id": "fcdd2fee",
   "metadata": {},
   "outputs": [
    {
     "data": {
      "text/plain": [
       "array(['강원도', '경기도', '경상남도', '경상북도', '광주광역시', '대구광역시', '대전광역시', '부산광역시',\n",
       "       '서울특별시', '세종특별자치시', '울산광역시', '인천광역시', '전라남도', '전라북도', '제주특별자치도',\n",
       "       '충청남도', '충청북도'], dtype=object)"
      ]
     },
     "execution_count": 18,
     "metadata": {},
     "output_type": "execute_result"
    }
   ],
   "source": [
    "#unique한 광역시도명 출력하기\n",
    "data['광역시도'].unique()"
   ]
  },
  {
   "cell_type": "code",
   "execution_count": 19,
   "id": "eb5c2205",
   "metadata": {},
   "outputs": [
    {
     "data": {
      "text/plain": [
       "Index([ 1,  2,  3,  4,  5,  6,  7,  8,  9, 10, 11, 12, 13, 14, 15, 16, 17, 18,\n",
       "       19, 20, 21, 22, 23, 24, 25, 26, 27, 28, 29, 30, 31],\n",
       "      dtype='int32')"
      ]
     },
     "execution_count": 19,
     "metadata": {},
     "output_type": "execute_result"
    }
   ],
   "source": [
    "#index를 1부터 시작하도록 \n",
    "import numpy as np\n",
    "\n",
    "#index 변경\n",
    "gy_df.index = np.arange(1,len(gy_df)+1)\n",
    "gy_df.index"
   ]
  },
  {
   "cell_type": "code",
   "execution_count": 20,
   "id": "abff9ee3",
   "metadata": {},
   "outputs": [
    {
     "data": {
      "text/html": [
       "<div>\n",
       "<style scoped>\n",
       "    .dataframe tbody tr th:only-of-type {\n",
       "        vertical-align: middle;\n",
       "    }\n",
       "\n",
       "    .dataframe tbody tr th {\n",
       "        vertical-align: top;\n",
       "    }\n",
       "\n",
       "    .dataframe thead th {\n",
       "        text-align: right;\n",
       "    }\n",
       "</style>\n",
       "<table border=\"1\" class=\"dataframe\">\n",
       "  <thead>\n",
       "    <tr style=\"text-align: right;\">\n",
       "      <th></th>\n",
       "      <th>인구수</th>\n",
       "      <th>shortName</th>\n",
       "      <th>x</th>\n",
       "      <th>y</th>\n",
       "      <th>면적</th>\n",
       "      <th>광역시도</th>\n",
       "      <th>행정구역</th>\n",
       "    </tr>\n",
       "  </thead>\n",
       "  <tbody>\n",
       "    <tr>\n",
       "      <th>1</th>\n",
       "      <td>53497</td>\n",
       "      <td>가평</td>\n",
       "      <td>9</td>\n",
       "      <td>3</td>\n",
       "      <td>843.040</td>\n",
       "      <td>경기도</td>\n",
       "      <td>가평군</td>\n",
       "    </tr>\n",
       "    <tr>\n",
       "      <th>2</th>\n",
       "      <td>955384</td>\n",
       "      <td>고양</td>\n",
       "      <td>4</td>\n",
       "      <td>2</td>\n",
       "      <td>267.330</td>\n",
       "      <td>경기도</td>\n",
       "      <td>고양시</td>\n",
       "    </tr>\n",
       "    <tr>\n",
       "      <th>3</th>\n",
       "      <td>63227</td>\n",
       "      <td>과천</td>\n",
       "      <td>7</td>\n",
       "      <td>7</td>\n",
       "      <td>35.813</td>\n",
       "      <td>경기도</td>\n",
       "      <td>과천시</td>\n",
       "    </tr>\n",
       "    <tr>\n",
       "      <th>4</th>\n",
       "      <td>327111</td>\n",
       "      <td>광명</td>\n",
       "      <td>3</td>\n",
       "      <td>3</td>\n",
       "      <td>38.500</td>\n",
       "      <td>경기도</td>\n",
       "      <td>광명시</td>\n",
       "    </tr>\n",
       "    <tr>\n",
       "      <th>5</th>\n",
       "      <td>290210</td>\n",
       "      <td>광주</td>\n",
       "      <td>8</td>\n",
       "      <td>7</td>\n",
       "      <td>431.840</td>\n",
       "      <td>경기도</td>\n",
       "      <td>광주시</td>\n",
       "    </tr>\n",
       "    <tr>\n",
       "      <th>6</th>\n",
       "      <td>175676</td>\n",
       "      <td>구리</td>\n",
       "      <td>9</td>\n",
       "      <td>4</td>\n",
       "      <td>33.300</td>\n",
       "      <td>경기도</td>\n",
       "      <td>구리시</td>\n",
       "    </tr>\n",
       "    <tr>\n",
       "      <th>7</th>\n",
       "      <td>273302</td>\n",
       "      <td>군포</td>\n",
       "      <td>5</td>\n",
       "      <td>8</td>\n",
       "      <td>36.350</td>\n",
       "      <td>경기도</td>\n",
       "      <td>군포시</td>\n",
       "    </tr>\n",
       "    <tr>\n",
       "      <th>8</th>\n",
       "      <td>326523</td>\n",
       "      <td>김포</td>\n",
       "      <td>2</td>\n",
       "      <td>3</td>\n",
       "      <td>276.640</td>\n",
       "      <td>경기도</td>\n",
       "      <td>김포시</td>\n",
       "    </tr>\n",
       "    <tr>\n",
       "      <th>9</th>\n",
       "      <td>610300</td>\n",
       "      <td>남양주</td>\n",
       "      <td>8</td>\n",
       "      <td>3</td>\n",
       "      <td>458.440</td>\n",
       "      <td>경기도</td>\n",
       "      <td>남양주시</td>\n",
       "    </tr>\n",
       "    <tr>\n",
       "      <th>10</th>\n",
       "      <td>90398</td>\n",
       "      <td>동두천</td>\n",
       "      <td>7</td>\n",
       "      <td>2</td>\n",
       "      <td>95.680</td>\n",
       "      <td>경기도</td>\n",
       "      <td>동두천시</td>\n",
       "    </tr>\n",
       "    <tr>\n",
       "      <th>11</th>\n",
       "      <td>805473</td>\n",
       "      <td>부천</td>\n",
       "      <td>2</td>\n",
       "      <td>4</td>\n",
       "      <td>53.440</td>\n",
       "      <td>경기도</td>\n",
       "      <td>부천시</td>\n",
       "    </tr>\n",
       "    <tr>\n",
       "      <th>12</th>\n",
       "      <td>911628</td>\n",
       "      <td>성남</td>\n",
       "      <td>7</td>\n",
       "      <td>8</td>\n",
       "      <td>141.820</td>\n",
       "      <td>경기도</td>\n",
       "      <td>성남시</td>\n",
       "    </tr>\n",
       "    <tr>\n",
       "      <th>13</th>\n",
       "      <td>1125461</td>\n",
       "      <td>수원</td>\n",
       "      <td>6</td>\n",
       "      <td>9</td>\n",
       "      <td>121.090</td>\n",
       "      <td>경기도</td>\n",
       "      <td>수원시</td>\n",
       "    </tr>\n",
       "    <tr>\n",
       "      <th>14</th>\n",
       "      <td>381412</td>\n",
       "      <td>시흥</td>\n",
       "      <td>3</td>\n",
       "      <td>5</td>\n",
       "      <td>134.400</td>\n",
       "      <td>경기도</td>\n",
       "      <td>시흥시</td>\n",
       "    </tr>\n",
       "    <tr>\n",
       "      <th>15</th>\n",
       "      <td>668089</td>\n",
       "      <td>안산</td>\n",
       "      <td>3</td>\n",
       "      <td>6</td>\n",
       "      <td>144.780</td>\n",
       "      <td>경기도</td>\n",
       "      <td>안산시</td>\n",
       "    </tr>\n",
       "    <tr>\n",
       "      <th>16</th>\n",
       "      <td>173061</td>\n",
       "      <td>안성</td>\n",
       "      <td>4</td>\n",
       "      <td>8</td>\n",
       "      <td>554.200</td>\n",
       "      <td>경기도</td>\n",
       "      <td>안성시</td>\n",
       "    </tr>\n",
       "    <tr>\n",
       "      <th>17</th>\n",
       "      <td>566558</td>\n",
       "      <td>안양</td>\n",
       "      <td>3</td>\n",
       "      <td>4</td>\n",
       "      <td>58.520</td>\n",
       "      <td>경기도</td>\n",
       "      <td>안양시</td>\n",
       "    </tr>\n",
       "    <tr>\n",
       "      <th>18</th>\n",
       "      <td>191266</td>\n",
       "      <td>양주</td>\n",
       "      <td>8</td>\n",
       "      <td>2</td>\n",
       "      <td>310.310</td>\n",
       "      <td>경기도</td>\n",
       "      <td>양주시</td>\n",
       "    </tr>\n",
       "    <tr>\n",
       "      <th>19</th>\n",
       "      <td>95614</td>\n",
       "      <td>양평</td>\n",
       "      <td>9</td>\n",
       "      <td>6</td>\n",
       "      <td>877.080</td>\n",
       "      <td>경기도</td>\n",
       "      <td>양평군</td>\n",
       "    </tr>\n",
       "    <tr>\n",
       "      <th>20</th>\n",
       "      <td>100669</td>\n",
       "      <td>여주</td>\n",
       "      <td>9</td>\n",
       "      <td>7</td>\n",
       "      <td>608.640</td>\n",
       "      <td>경기도</td>\n",
       "      <td>여주시</td>\n",
       "    </tr>\n",
       "    <tr>\n",
       "      <th>21</th>\n",
       "      <td>41076</td>\n",
       "      <td>연천</td>\n",
       "      <td>7</td>\n",
       "      <td>1</td>\n",
       "      <td>695.230</td>\n",
       "      <td>경기도</td>\n",
       "      <td>연천군</td>\n",
       "    </tr>\n",
       "    <tr>\n",
       "      <th>22</th>\n",
       "      <td>200793</td>\n",
       "      <td>오산</td>\n",
       "      <td>3</td>\n",
       "      <td>8</td>\n",
       "      <td>42.740</td>\n",
       "      <td>경기도</td>\n",
       "      <td>오산시</td>\n",
       "    </tr>\n",
       "    <tr>\n",
       "      <th>23</th>\n",
       "      <td>915005</td>\n",
       "      <td>용인</td>\n",
       "      <td>7</td>\n",
       "      <td>9</td>\n",
       "      <td>591.500</td>\n",
       "      <td>경기도</td>\n",
       "      <td>용인시</td>\n",
       "    </tr>\n",
       "    <tr>\n",
       "      <th>24</th>\n",
       "      <td>149080</td>\n",
       "      <td>의왕</td>\n",
       "      <td>6</td>\n",
       "      <td>8</td>\n",
       "      <td>54.000</td>\n",
       "      <td>경기도</td>\n",
       "      <td>의왕시</td>\n",
       "    </tr>\n",
       "    <tr>\n",
       "      <th>25</th>\n",
       "      <td>408220</td>\n",
       "      <td>의정부</td>\n",
       "      <td>7</td>\n",
       "      <td>3</td>\n",
       "      <td>81.590</td>\n",
       "      <td>경기도</td>\n",
       "      <td>의정부시</td>\n",
       "    </tr>\n",
       "    <tr>\n",
       "      <th>26</th>\n",
       "      <td>190537</td>\n",
       "      <td>이천</td>\n",
       "      <td>8</td>\n",
       "      <td>8</td>\n",
       "      <td>461.020</td>\n",
       "      <td>경기도</td>\n",
       "      <td>이천시</td>\n",
       "    </tr>\n",
       "    <tr>\n",
       "      <th>27</th>\n",
       "      <td>385528</td>\n",
       "      <td>파주</td>\n",
       "      <td>3</td>\n",
       "      <td>2</td>\n",
       "      <td>672.560</td>\n",
       "      <td>경기도</td>\n",
       "      <td>파주시</td>\n",
       "    </tr>\n",
       "    <tr>\n",
       "      <th>28</th>\n",
       "      <td>423763</td>\n",
       "      <td>평택</td>\n",
       "      <td>5</td>\n",
       "      <td>9</td>\n",
       "      <td>452.310</td>\n",
       "      <td>경기도</td>\n",
       "      <td>평택시</td>\n",
       "    </tr>\n",
       "    <tr>\n",
       "      <th>29</th>\n",
       "      <td>140159</td>\n",
       "      <td>포천</td>\n",
       "      <td>8</td>\n",
       "      <td>1</td>\n",
       "      <td>826.380</td>\n",
       "      <td>경기도</td>\n",
       "      <td>포천시</td>\n",
       "    </tr>\n",
       "    <tr>\n",
       "      <th>30</th>\n",
       "      <td>150061</td>\n",
       "      <td>하남</td>\n",
       "      <td>9</td>\n",
       "      <td>5</td>\n",
       "      <td>93.100</td>\n",
       "      <td>경기도</td>\n",
       "      <td>하남시</td>\n",
       "    </tr>\n",
       "    <tr>\n",
       "      <th>31</th>\n",
       "      <td>555129</td>\n",
       "      <td>화성</td>\n",
       "      <td>3</td>\n",
       "      <td>7</td>\n",
       "      <td>688.100</td>\n",
       "      <td>경기도</td>\n",
       "      <td>화성시</td>\n",
       "    </tr>\n",
       "  </tbody>\n",
       "</table>\n",
       "</div>"
      ],
      "text/plain": [
       "        인구수 shortName  x  y       면적 광역시도  행정구역\n",
       "1     53497        가평  9  3  843.040  경기도   가평군\n",
       "2    955384        고양  4  2  267.330  경기도   고양시\n",
       "3     63227        과천  7  7   35.813  경기도   과천시\n",
       "4    327111        광명  3  3   38.500  경기도   광명시\n",
       "5    290210        광주  8  7  431.840  경기도   광주시\n",
       "6    175676        구리  9  4   33.300  경기도   구리시\n",
       "7    273302        군포  5  8   36.350  경기도   군포시\n",
       "8    326523        김포  2  3  276.640  경기도   김포시\n",
       "9    610300       남양주  8  3  458.440  경기도  남양주시\n",
       "10    90398       동두천  7  2   95.680  경기도  동두천시\n",
       "11   805473        부천  2  4   53.440  경기도   부천시\n",
       "12   911628        성남  7  8  141.820  경기도   성남시\n",
       "13  1125461        수원  6  9  121.090  경기도   수원시\n",
       "14   381412        시흥  3  5  134.400  경기도   시흥시\n",
       "15   668089        안산  3  6  144.780  경기도   안산시\n",
       "16   173061        안성  4  8  554.200  경기도   안성시\n",
       "17   566558        안양  3  4   58.520  경기도   안양시\n",
       "18   191266        양주  8  2  310.310  경기도   양주시\n",
       "19    95614        양평  9  6  877.080  경기도   양평군\n",
       "20   100669        여주  9  7  608.640  경기도   여주시\n",
       "21    41076        연천  7  1  695.230  경기도   연천군\n",
       "22   200793        오산  3  8   42.740  경기도   오산시\n",
       "23   915005        용인  7  9  591.500  경기도   용인시\n",
       "24   149080        의왕  6  8   54.000  경기도   의왕시\n",
       "25   408220       의정부  7  3   81.590  경기도  의정부시\n",
       "26   190537        이천  8  8  461.020  경기도   이천시\n",
       "27   385528        파주  3  2  672.560  경기도   파주시\n",
       "28   423763        평택  5  9  452.310  경기도   평택시\n",
       "29   140159        포천  8  1  826.380  경기도   포천시\n",
       "30   150061        하남  9  5   93.100  경기도   하남시\n",
       "31   555129        화성  3  7  688.100  경기도   화성시"
      ]
     },
     "execution_count": 20,
     "metadata": {},
     "output_type": "execute_result"
    }
   ],
   "source": [
    "gy_df"
   ]
  },
  {
   "cell_type": "code",
   "execution_count": 21,
   "id": "5d62af4b-95a6-4b0c-a09d-ee42f2f42810",
   "metadata": {},
   "outputs": [
    {
     "data": {
      "text/html": [
       "<div>\n",
       "<style scoped>\n",
       "    .dataframe tbody tr th:only-of-type {\n",
       "        vertical-align: middle;\n",
       "    }\n",
       "\n",
       "    .dataframe tbody tr th {\n",
       "        vertical-align: top;\n",
       "    }\n",
       "\n",
       "    .dataframe thead th {\n",
       "        text-align: right;\n",
       "    }\n",
       "</style>\n",
       "<table border=\"1\" class=\"dataframe\">\n",
       "  <thead>\n",
       "    <tr style=\"text-align: right;\">\n",
       "      <th></th>\n",
       "      <th>Unnamed: 0</th>\n",
       "      <th>인구수</th>\n",
       "      <th>shortName</th>\n",
       "      <th>x</th>\n",
       "      <th>y</th>\n",
       "      <th>면적</th>\n",
       "      <th>광역시도</th>\n",
       "      <th>행정구역</th>\n",
       "    </tr>\n",
       "  </thead>\n",
       "  <tbody>\n",
       "    <tr>\n",
       "      <th>count</th>\n",
       "      <td>229.000000</td>\n",
       "      <td>2.290000e+02</td>\n",
       "      <td>229</td>\n",
       "      <td>229.000000</td>\n",
       "      <td>229.000000</td>\n",
       "      <td>229.000000</td>\n",
       "      <td>229</td>\n",
       "      <td>229</td>\n",
       "    </tr>\n",
       "    <tr>\n",
       "      <th>unique</th>\n",
       "      <td>NaN</td>\n",
       "      <td>NaN</td>\n",
       "      <td>229</td>\n",
       "      <td>NaN</td>\n",
       "      <td>NaN</td>\n",
       "      <td>NaN</td>\n",
       "      <td>17</td>\n",
       "      <td>206</td>\n",
       "    </tr>\n",
       "    <tr>\n",
       "      <th>top</th>\n",
       "      <td>NaN</td>\n",
       "      <td>NaN</td>\n",
       "      <td>강릉</td>\n",
       "      <td>NaN</td>\n",
       "      <td>NaN</td>\n",
       "      <td>NaN</td>\n",
       "      <td>경기도</td>\n",
       "      <td>동구</td>\n",
       "    </tr>\n",
       "    <tr>\n",
       "      <th>freq</th>\n",
       "      <td>NaN</td>\n",
       "      <td>NaN</td>\n",
       "      <td>1</td>\n",
       "      <td>NaN</td>\n",
       "      <td>NaN</td>\n",
       "      <td>NaN</td>\n",
       "      <td>31</td>\n",
       "      <td>6</td>\n",
       "    </tr>\n",
       "    <tr>\n",
       "      <th>mean</th>\n",
       "      <td>114.000000</td>\n",
       "      <td>2.110898e+05</td>\n",
       "      <td>NaN</td>\n",
       "      <td>6.117904</td>\n",
       "      <td>11.262009</td>\n",
       "      <td>435.419795</td>\n",
       "      <td>NaN</td>\n",
       "      <td>NaN</td>\n",
       "    </tr>\n",
       "    <tr>\n",
       "      <th>std</th>\n",
       "      <td>66.250786</td>\n",
       "      <td>2.074378e+05</td>\n",
       "      <td>NaN</td>\n",
       "      <td>3.320469</td>\n",
       "      <td>6.040898</td>\n",
       "      <td>381.612549</td>\n",
       "      <td>NaN</td>\n",
       "      <td>NaN</td>\n",
       "    </tr>\n",
       "    <tr>\n",
       "      <th>min</th>\n",
       "      <td>0.000000</td>\n",
       "      <td>8.392000e+03</td>\n",
       "      <td>NaN</td>\n",
       "      <td>0.000000</td>\n",
       "      <td>0.000000</td>\n",
       "      <td>2.800000</td>\n",
       "      <td>NaN</td>\n",
       "      <td>NaN</td>\n",
       "    </tr>\n",
       "    <tr>\n",
       "      <th>25%</th>\n",
       "      <td>57.000000</td>\n",
       "      <td>4.955900e+04</td>\n",
       "      <td>NaN</td>\n",
       "      <td>3.000000</td>\n",
       "      <td>6.000000</td>\n",
       "      <td>54.000000</td>\n",
       "      <td>NaN</td>\n",
       "      <td>NaN</td>\n",
       "    </tr>\n",
       "    <tr>\n",
       "      <th>50%</th>\n",
       "      <td>114.000000</td>\n",
       "      <td>1.401590e+05</td>\n",
       "      <td>NaN</td>\n",
       "      <td>6.000000</td>\n",
       "      <td>11.000000</td>\n",
       "      <td>436.400000</td>\n",
       "      <td>NaN</td>\n",
       "      <td>NaN</td>\n",
       "    </tr>\n",
       "    <tr>\n",
       "      <th>75%</th>\n",
       "      <td>171.000000</td>\n",
       "      <td>3.216180e+05</td>\n",
       "      <td>NaN</td>\n",
       "      <td>9.000000</td>\n",
       "      <td>16.000000</td>\n",
       "      <td>692.800000</td>\n",
       "      <td>NaN</td>\n",
       "      <td>NaN</td>\n",
       "    </tr>\n",
       "    <tr>\n",
       "      <th>max</th>\n",
       "      <td>228.000000</td>\n",
       "      <td>1.125461e+06</td>\n",
       "      <td>NaN</td>\n",
       "      <td>13.000000</td>\n",
       "      <td>25.000000</td>\n",
       "      <td>1817.940000</td>\n",
       "      <td>NaN</td>\n",
       "      <td>NaN</td>\n",
       "    </tr>\n",
       "  </tbody>\n",
       "</table>\n",
       "</div>"
      ],
      "text/plain": [
       "        Unnamed: 0           인구수 shortName           x           y  \\\n",
       "count   229.000000  2.290000e+02       229  229.000000  229.000000   \n",
       "unique         NaN           NaN       229         NaN         NaN   \n",
       "top            NaN           NaN        강릉         NaN         NaN   \n",
       "freq           NaN           NaN         1         NaN         NaN   \n",
       "mean    114.000000  2.110898e+05       NaN    6.117904   11.262009   \n",
       "std      66.250786  2.074378e+05       NaN    3.320469    6.040898   \n",
       "min       0.000000  8.392000e+03       NaN    0.000000    0.000000   \n",
       "25%      57.000000  4.955900e+04       NaN    3.000000    6.000000   \n",
       "50%     114.000000  1.401590e+05       NaN    6.000000   11.000000   \n",
       "75%     171.000000  3.216180e+05       NaN    9.000000   16.000000   \n",
       "max     228.000000  1.125461e+06       NaN   13.000000   25.000000   \n",
       "\n",
       "                 면적 광역시도 행정구역  \n",
       "count    229.000000  229  229  \n",
       "unique          NaN   17  206  \n",
       "top             NaN  경기도   동구  \n",
       "freq            NaN   31    6  \n",
       "mean     435.419795  NaN  NaN  \n",
       "std      381.612549  NaN  NaN  \n",
       "min        2.800000  NaN  NaN  \n",
       "25%       54.000000  NaN  NaN  \n",
       "50%      436.400000  NaN  NaN  \n",
       "75%      692.800000  NaN  NaN  \n",
       "max     1817.940000  NaN  NaN  "
      ]
     },
     "execution_count": 21,
     "metadata": {},
     "output_type": "execute_result"
    }
   ],
   "source": [
    "# describe() 함수, 모든 컬럼의 통계함수 출력\n",
    "data.describe(include='all')"
   ]
  },
  {
   "cell_type": "markdown",
   "id": "f94c11f6-b295-42a8-b3a3-d3d8c7bab370",
   "metadata": {},
   "source": [
    "### Data Selection\n",
    "* loc[] 또는 iloc[]\n",
    "* loc[Row 선택, Column 선택]\n",
    "* loc\n",
    "    * Row 선택 - 조건식(boolean indexing), 슬라이싱 [0:20], 특정 인덱스 [0,3,5]\n",
    "    * Column 선택(컬러명) - 슬라이싱 ['인구수':'행정구역'], 컬럼명 여러개 ['인구수','면적'], 컬럼명 하나만\n",
    "* iloc\n",
    "    * Row 선택 - 슬라이싱 [0:20], 특정 인덱스 [0,3,5]\n",
    "    * Column 선택(컬럼인덱스) - 슬라이싱 [0:4], 특정 컬럼인덱스 [0,5]   "
   ]
  },
  {
   "cell_type": "code",
   "execution_count": null,
   "id": "85779811-bfa0-4d9f-a27d-79fe75dd5cd8",
   "metadata": {},
   "outputs": [],
   "source": [
    "# 인구수 1개의 컬럼 선택\n",
    "data['인구수']"
   ]
  },
  {
   "cell_type": "code",
   "execution_count": null,
   "id": "868ea353-5e04-4aa4-a368-72af489e3ced",
   "metadata": {},
   "outputs": [],
   "source": [
    "# ['행정구역','인구수','면적'] 컬럼의 데이터 출력\n",
    "data[['행정구역','인구수','면적']].head()"
   ]
  },
  {
   "cell_type": "code",
   "execution_count": 24,
   "id": "e9661774-0ed1-4895-a092-d4a6d37e412c",
   "metadata": {},
   "outputs": [
    {
     "name": "stdout",
     "output_type": "stream",
     "text": [
      "인구수 최대값 1,125,461\n",
      "인구수 최소값 8,392\n",
      "인구수 평균 211,090\n",
      "인구수 표준편차 207,438\n",
      "인구수 중간값 140,159.0\n"
     ]
    },
    {
     "data": {
      "text/plain": [
       "0.25     49559.0\n",
       "0.75    321618.0\n",
       "Name: 인구수, dtype: float64"
      ]
     },
     "execution_count": 24,
     "metadata": {},
     "output_type": "execute_result"
    }
   ],
   "source": [
    "# 인구수 컬럼의 집계함수\n",
    "print(f\"인구수 최대값 {data['인구수'].max():,}\")\n",
    "print(f\"인구수 최소값 {data['인구수'].min():,}\")\n",
    "print(f\"인구수 평균 {round(data['인구수'].mean()):,}\")\n",
    "print(f\"인구수 표준편차 {round(data['인구수'].std()):,}\")\n",
    "print(f\"인구수 중간값 {data['인구수'].median():,}\")\n",
    "data['인구수'].quantile([0.25, 0.75])"
   ]
  },
  {
   "cell_type": "code",
   "execution_count": 25,
   "id": "3ed05495-2d7c-4d31-af9f-642a988a936c",
   "metadata": {},
   "outputs": [
    {
     "data": {
      "text/html": [
       "<div>\n",
       "<style scoped>\n",
       "    .dataframe tbody tr th:only-of-type {\n",
       "        vertical-align: middle;\n",
       "    }\n",
       "\n",
       "    .dataframe tbody tr th {\n",
       "        vertical-align: top;\n",
       "    }\n",
       "\n",
       "    .dataframe thead th {\n",
       "        text-align: right;\n",
       "    }\n",
       "</style>\n",
       "<table border=\"1\" class=\"dataframe\">\n",
       "  <thead>\n",
       "    <tr style=\"text-align: right;\">\n",
       "      <th></th>\n",
       "      <th>Unnamed: 0</th>\n",
       "      <th>인구수</th>\n",
       "      <th>shortName</th>\n",
       "      <th>x</th>\n",
       "      <th>y</th>\n",
       "      <th>면적</th>\n",
       "      <th>광역시도</th>\n",
       "      <th>행정구역</th>\n",
       "    </tr>\n",
       "  </thead>\n",
       "  <tbody>\n",
       "    <tr>\n",
       "      <th>30</th>\n",
       "      <td>30</td>\n",
       "      <td>1125461</td>\n",
       "      <td>수원</td>\n",
       "      <td>6</td>\n",
       "      <td>9</td>\n",
       "      <td>121.09</td>\n",
       "      <td>경기도</td>\n",
       "      <td>수원시</td>\n",
       "    </tr>\n",
       "  </tbody>\n",
       "</table>\n",
       "</div>"
      ],
      "text/plain": [
       "    Unnamed: 0      인구수 shortName  x  y      면적 광역시도 행정구역\n",
       "30          30  1125461        수원  6  9  121.09  경기도  수원시"
      ]
     },
     "execution_count": 25,
     "metadata": {},
     "output_type": "execute_result"
    }
   ],
   "source": [
    "# 인구수가 가장 많은 행정구역?\n",
    "# 인구수의 최대값을 max_pop 변수에 저장\n",
    "max_pop = data['인구수'].max()\n",
    "#data['인구수'] == max_pop\n",
    "data.loc[data['인구수'] == max_pop]\n"
   ]
  },
  {
   "cell_type": "code",
   "execution_count": 26,
   "id": "029b08c0-5c9f-4481-acf4-ea50271870a5",
   "metadata": {},
   "outputs": [
    {
     "data": {
      "text/html": [
       "<div>\n",
       "<style scoped>\n",
       "    .dataframe tbody tr th:only-of-type {\n",
       "        vertical-align: middle;\n",
       "    }\n",
       "\n",
       "    .dataframe tbody tr th {\n",
       "        vertical-align: top;\n",
       "    }\n",
       "\n",
       "    .dataframe thead th {\n",
       "        text-align: right;\n",
       "    }\n",
       "</style>\n",
       "<table border=\"1\" class=\"dataframe\">\n",
       "  <thead>\n",
       "    <tr style=\"text-align: right;\">\n",
       "      <th></th>\n",
       "      <th>Unnamed: 0</th>\n",
       "      <th>인구수</th>\n",
       "      <th>shortName</th>\n",
       "      <th>x</th>\n",
       "      <th>y</th>\n",
       "      <th>면적</th>\n",
       "      <th>광역시도</th>\n",
       "      <th>행정구역</th>\n",
       "    </tr>\n",
       "  </thead>\n",
       "  <tbody>\n",
       "    <tr>\n",
       "      <th>15</th>\n",
       "      <td>15</td>\n",
       "      <td>62957</td>\n",
       "      <td>홍천</td>\n",
       "      <td>10</td>\n",
       "      <td>4</td>\n",
       "      <td>1817.94</td>\n",
       "      <td>강원도</td>\n",
       "      <td>홍천군</td>\n",
       "    </tr>\n",
       "  </tbody>\n",
       "</table>\n",
       "</div>"
      ],
      "text/plain": [
       "    Unnamed: 0    인구수 shortName   x  y       면적 광역시도 행정구역\n",
       "15          15  62957        홍천  10  4  1817.94  강원도  홍천군"
      ]
     },
     "execution_count": 26,
     "metadata": {},
     "output_type": "execute_result"
    }
   ],
   "source": [
    "# 면적이 넓은 행정구역?\n",
    "data.loc[data['면적'] == data['면적'].max()]"
   ]
  },
  {
   "cell_type": "code",
   "execution_count": 27,
   "id": "b718e64a-35ce-4b3d-b3d8-31cbbf9d6c3c",
   "metadata": {},
   "outputs": [
    {
     "data": {
      "text/html": [
       "<div>\n",
       "<style scoped>\n",
       "    .dataframe tbody tr th:only-of-type {\n",
       "        vertical-align: middle;\n",
       "    }\n",
       "\n",
       "    .dataframe tbody tr th {\n",
       "        vertical-align: top;\n",
       "    }\n",
       "\n",
       "    .dataframe thead th {\n",
       "        text-align: right;\n",
       "    }\n",
       "</style>\n",
       "<table border=\"1\" class=\"dataframe\">\n",
       "  <thead>\n",
       "    <tr style=\"text-align: right;\">\n",
       "      <th></th>\n",
       "      <th>Unnamed: 0</th>\n",
       "      <th>인구수</th>\n",
       "      <th>shortName</th>\n",
       "      <th>x</th>\n",
       "      <th>y</th>\n",
       "      <th>면적</th>\n",
       "      <th>광역시도</th>\n",
       "      <th>행정구역</th>\n",
       "    </tr>\n",
       "  </thead>\n",
       "  <tbody>\n",
       "    <tr>\n",
       "      <th>83</th>\n",
       "      <td>83</td>\n",
       "      <td>8392</td>\n",
       "      <td>울릉</td>\n",
       "      <td>13</td>\n",
       "      <td>6</td>\n",
       "      <td>72.82</td>\n",
       "      <td>경상북도</td>\n",
       "      <td>울릉군</td>\n",
       "    </tr>\n",
       "  </tbody>\n",
       "</table>\n",
       "</div>"
      ],
      "text/plain": [
       "    Unnamed: 0   인구수 shortName   x  y     면적  광역시도 행정구역\n",
       "83          83  8392        울릉  13  6  72.82  경상북도  울릉군"
      ]
     },
     "execution_count": 27,
     "metadata": {},
     "output_type": "execute_result"
    }
   ],
   "source": [
    "# 인구수가 가장 적은 행정구역?\n",
    "data.loc[data['인구수'] == data['인구수'].min()]"
   ]
  },
  {
   "cell_type": "code",
   "execution_count": 28,
   "id": "dfd2a640-379a-4bd5-84c4-446cd26a54f8",
   "metadata": {},
   "outputs": [
    {
     "name": "stdout",
     "output_type": "stream",
     "text": [
      "17\n"
     ]
    },
    {
     "data": {
      "text/plain": [
       "array(['강원도', '경기도', '경상남도', '경상북도', '광주광역시', '대구광역시', '대전광역시', '부산광역시',\n",
       "       '서울특별시', '세종특별자치시', '울산광역시', '인천광역시', '전라남도', '전라북도', '제주특별자치도',\n",
       "       '충청남도', '충청북도'], dtype=object)"
      ]
     },
     "execution_count": 28,
     "metadata": {},
     "output_type": "execute_result"
    }
   ],
   "source": [
    "# unique한 광역시도명\n",
    "print(len(data['광역시도'].unique()))\n",
    "data['광역시도'].unique()"
   ]
  },
  {
   "cell_type": "code",
   "execution_count": 29,
   "id": "ccfba049-da93-4b30-a153-91f90ecfdab0",
   "metadata": {},
   "outputs": [
    {
     "data": {
      "text/plain": [
       "광역시도\n",
       "경기도        31\n",
       "서울특별시      25\n",
       "경상북도       23\n",
       "전라남도       22\n",
       "강원도        18\n",
       "경상남도       18\n",
       "부산광역시      16\n",
       "충청남도       15\n",
       "전라북도       14\n",
       "충청북도       11\n",
       "인천광역시      10\n",
       "대구광역시       8\n",
       "대전광역시       5\n",
       "광주광역시       5\n",
       "울산광역시       5\n",
       "제주특별자치도     2\n",
       "세종특별자치시     1\n",
       "Name: count, dtype: int64"
      ]
     },
     "execution_count": 29,
     "metadata": {},
     "output_type": "execute_result"
    }
   ],
   "source": [
    "# 광역시도별 Row Counting\n",
    "data['광역시도'].value_counts()"
   ]
  },
  {
   "cell_type": "code",
   "execution_count": null,
   "id": "d76bc2c0-fc43-4cd7-b756-4c84639f26c2",
   "metadata": {},
   "outputs": [],
   "source": [
    "# data['광역시도'] == '경기도' 의 ['행정구역','인구수','면적']  컬럼의 데이터 출력하기\n",
    "data.loc[data['광역시도'] == '경기도',['행정구역','인구수','면적']]\\\n",
    ".sort_values(by='인구수',ascending=False)\\\n",
    ".reset_index(drop=True)"
   ]
  },
  {
   "cell_type": "code",
   "execution_count": null,
   "id": "d89771f1-9447-4c11-9b24-206ba50fb7ed",
   "metadata": {},
   "outputs": [],
   "source": [
    "# data['광역시도'] == '경기도' 의 ['행정구역','인구수','면적']  컬럼의 데이터를 면적을 descending 순서대로 출력하기\n",
    "data.loc[data['광역시도'] == '경기도',['행정구역','인구수','면적']]\\\n",
    ".sort_values(by='면적',ascending=False)\\\n",
    ".reset_index(drop=True)"
   ]
  },
  {
   "cell_type": "code",
   "execution_count": null,
   "id": "30f997ef-a059-43ab-9509-ff2eddb42a5d",
   "metadata": {},
   "outputs": [],
   "source": [
    "#경기도에 속한 행정구역명, 인구수, 면적 선택하기 인구수를 descending 순서대로 출력하고 index reset 하여 gy_df 라는 변수에 저장하기\n",
    "#data.loc[row , col]\n",
    "gy_df = data.loc[data['광역시도'] == '경기도',['행정구역','인구수','면적']]\\\n",
    ".sort_values(by='인구수',ascending=False)\\\n",
    ".reset_index(drop=True)\n",
    "# 인구수2 라는 새로운 컬럼을 생성하면서 인구수의 값에 세자리 단위로 컴마를 포함\n",
    "gy_df['인구수2'] = gy_df['인구수'].map('{:,}'.format)\n",
    "gy_df"
   ]
  },
  {
   "cell_type": "code",
   "execution_count": null,
   "id": "6fd66208",
   "metadata": {},
   "outputs": [],
   "source": [
    "# 면적2 라는 새로운 컬럼을 생성하면서 면적의 값을 소수점 이하 2자리, map(lambda arg:body)\n",
    "gy_df['면적2'] = gy_df['면적'].map(lambda val:f\"{val:.2f}\")\n",
    "gy_df.head()"
   ]
  },
  {
   "cell_type": "code",
   "execution_count": null,
   "id": "58b3a5a8-d034-4a01-b594-e539447d1a01",
   "metadata": {},
   "outputs": [],
   "source": [
    "# 면적이 > 1000 큰 조건과 매핑되는 새로운 DataFrame 생성 area_1000 라는 변수에 저장하기\n",
    "area_1000 = data.loc[data['면적'] > 1000].copy()\n",
    "# area_1000 DataFrame 객체에 면적2 컬럼을 생성\n",
    "area_1000['면적2'] = area_1000['면적'].map('{:.2f}'.format)"
   ]
  },
  {
   "cell_type": "markdown",
   "id": "53bbf825",
   "metadata": {},
   "source": [
    "#### inplace 속성에 대한 설명\n",
    "* inplace = False (default값) - 원본 데이터를 변경하지 않고, 변경한 내용을 출력만 한다.\n",
    "* inplace = True - 원본 데이터를 변경하고, 출력은 하지 않는다."
   ]
  },
  {
   "cell_type": "code",
   "execution_count": null,
   "id": "b9392027",
   "metadata": {},
   "outputs": [],
   "source": [
    "\n",
    "area_1000.reset_index(drop=True, inplace=False)"
   ]
  },
  {
   "cell_type": "code",
   "execution_count": null,
   "id": "8e4ab168",
   "metadata": {},
   "outputs": [],
   "source": [
    "# index를 초기화, 원본을 변경\n",
    "area_1000.reset_index(drop=True, inplace=True)"
   ]
  },
  {
   "cell_type": "code",
   "execution_count": 95,
   "id": "563f933a",
   "metadata": {},
   "outputs": [],
   "source": [
    "# axis=0 Row, axis=1 Column\n",
    "# 'Unnamed: 0' 컬럼(axis=1)을 삭제, 원본을 변경\n",
    "area_1000.drop('Unnamed: 0', axis=1, inplace=True)"
   ]
  },
  {
   "cell_type": "code",
   "execution_count": null,
   "id": "bb6294c9",
   "metadata": {},
   "outputs": [],
   "source": [
    "# area_100 DataFrame 객체에 면적3 컬럼생성, 면적의 값이 1500보다 큰 경우에 해당하는 조건식\n",
    "area_1000.loc[area_1000['면적'] > 1500,'면적3'] = area_1000['면적'].map('{:.2f}'.format)\n",
    "area_1000[['행정구역','면적','면적2','면적3']]"
   ]
  },
  {
   "cell_type": "code",
   "execution_count": 101,
   "id": "889d57b6",
   "metadata": {},
   "outputs": [],
   "source": [
    "#fillna()를 사용하여 NaN값을 초기화하기\n",
    "area_1000.fillna(0,inplace=True)"
   ]
  },
  {
   "cell_type": "code",
   "execution_count": null,
   "id": "67c4e9e9",
   "metadata": {},
   "outputs": [],
   "source": [
    "area_1000"
   ]
  },
  {
   "cell_type": "code",
   "execution_count": 103,
   "id": "e7898f0c-b870-437d-8fee-30bc48e885b9",
   "metadata": {},
   "outputs": [
    {
     "name": "stdout",
     "output_type": "stream",
     "text": [
      "경기도 인구수 평균 = 378845.48387096776\n",
      "경기도 인구수 편차 = 304548.39514203876\n"
     ]
    }
   ],
   "source": [
    "#경기도 인구수의 평균과 표준편차\n",
    "print(f\"경기도 인구수 평균 = {gy_df['인구수'].mean()}\")\n",
    "print(f\"경기도 인구수 편차 = {gy_df['인구수'].std()}\")"
   ]
  },
  {
   "cell_type": "code",
   "execution_count": 104,
   "id": "695db37e",
   "metadata": {},
   "outputs": [
    {
     "data": {
      "text/plain": [
       "Index(['Unnamed: 0', '인구수', 'shortName', 'x', 'y', '면적', '광역시도', '행정구역'], dtype='object')"
      ]
     },
     "execution_count": 104,
     "metadata": {},
     "output_type": "execute_result"
    }
   ],
   "source": [
    "data.columns"
   ]
  },
  {
   "cell_type": "code",
   "execution_count": 123,
   "id": "14a16f6e-5bd2-46e0-a31a-9c25b8550cf9",
   "metadata": {},
   "outputs": [],
   "source": [
    "import math\n",
    "\n",
    "#광역시도명을 인자로 받아서 해당 광역시에 속한 행정구역들의 인구수의 평균과 편차 출력하는 함수\n",
    "def pop_mean_std(df, sido_name):\n",
    "    sido_df = df.loc[df['광역시도'] == sido_name,'인구수':'행정구역'].copy()\n",
    "    print(f\"{sido_name} 인구수 평균 = {round(sido_df['인구수'].mean()):,}\")\n",
    "    std_pop = sido_df['인구수'].std()\n",
    "    print(f\"{sido_name} 인구수 편차 = {0 if math.isnan(std_pop) else f'{round(std_pop):,}'}\")\n",
    "    #print(f\"{sido_name} 인구수 편차 = {sido_df['인구수'].std():,}\")"
   ]
  },
  {
   "cell_type": "code",
   "execution_count": 116,
   "id": "03aa2e9d-49fe-4d42-a586-f21cd0ab3ab8",
   "metadata": {},
   "outputs": [
    {
     "name": "stdout",
     "output_type": "stream",
     "text": [
      "서울특별시 인구수 평균 = 375,792\n",
      "서울특별시 인구수 편차 = 125,231\n"
     ]
    }
   ],
   "source": [
    "pop_mean_std(data,'서울특별시')"
   ]
  },
  {
   "cell_type": "code",
   "execution_count": null,
   "id": "6528c332",
   "metadata": {},
   "outputs": [],
   "source": [
    "for sido_name in data['광역시도'].unique():\n",
    "    pop_mean_std(data,sido_name)\n",
    "    print('----------------------------------')"
   ]
  },
  {
   "cell_type": "code",
   "execution_count": null,
   "id": "cf7b2d84-7e4f-473e-9506-e36b3a0aa80f",
   "metadata": {},
   "outputs": [],
   "source": [
    "#loc[] 사용\n",
    "#인덱스가 20 부터 25까지\n",
    "data.loc[20:25]"
   ]
  },
  {
   "cell_type": "code",
   "execution_count": null,
   "id": "762ac8a8-348a-4c38-b387-bffc92025bdd",
   "metadata": {},
   "outputs": [],
   "source": [
    "#iloc[] 사용\n",
    "#인덱스가 20 부터 24까지\n",
    "data.iloc[20:25]"
   ]
  },
  {
   "cell_type": "code",
   "execution_count": null,
   "id": "f1ef1247-9423-4a5d-8f1a-6e8c594bce9e",
   "metadata": {},
   "outputs": [],
   "source": [
    "#iloc[row index, column index] 사용 \n",
    "#인덱스가 20 부터 25까지 컬럼이 인구수부터 행정구역 까지\n",
    "data.iloc[20:25,1:8]"
   ]
  },
  {
   "cell_type": "code",
   "execution_count": null,
   "id": "aa881cc0-2caa-4f91-98a8-30f34ed59fb4",
   "metadata": {},
   "outputs": [],
   "source": [
    "#loc[] 사용\n",
    "#index가 40,55,60 이고, column이 인구수,광역시도,행정구역\n",
    "data.loc[[40,55,60],['인구수','광역시도','행정구역']]"
   ]
  },
  {
   "cell_type": "code",
   "execution_count": null,
   "id": "4d847b81-edb1-4f8d-9d54-306453b2784d",
   "metadata": {},
   "outputs": [],
   "source": [
    "#인덱스가 0인 행 하나만 선택\n",
    "print(type(data.loc[0]))\n",
    "data.loc[0]"
   ]
  },
  {
   "cell_type": "code",
   "execution_count": null,
   "id": "8d42d1fe-4e5e-4fca-b1a7-389a9d0b4c3e",
   "metadata": {},
   "outputs": [],
   "source": [
    "#열 하나만 선택 - 면적 컬럼\n",
    "print(type(data['면적']))\n",
    "data['면적'].head()"
   ]
  },
  {
   "cell_type": "markdown",
   "id": "cf270f25-cfed-44f6-8c53-637571e55426",
   "metadata": {},
   "source": [
    "### 컬럼명 변경하기, 컬럼을 인덱스 전환하기\n",
    "* rename() 함수\n",
    "* inPlace=False (default) 원본 DataFrame객체를 변경하지 않고, 변경한 결과만 출력한다.\n",
    "* inPlace=True 원본 DataFrame객체를 변경하고, 변경한 결과는 출력하지 않는다."
   ]
  },
  {
   "cell_type": "code",
   "execution_count": 131,
   "id": "ab79ad77-d9b0-4493-a2ea-40a94a2e5f7e",
   "metadata": {},
   "outputs": [
    {
     "data": {
      "text/plain": [
       "Index(['Unnamed: 0', '인구수', 'shortName', 'x', 'y', '면적', '광역시도', '행정구역'], dtype='object')"
      ]
     },
     "execution_count": 131,
     "metadata": {},
     "output_type": "execute_result"
    }
   ],
   "source": [
    "data.columns"
   ]
  },
  {
   "cell_type": "code",
   "execution_count": 132,
   "id": "e36aa348-934b-4785-8315-ff181da2de70",
   "metadata": {},
   "outputs": [
    {
     "data": {
      "text/html": [
       "<div>\n",
       "<style scoped>\n",
       "    .dataframe tbody tr th:only-of-type {\n",
       "        vertical-align: middle;\n",
       "    }\n",
       "\n",
       "    .dataframe tbody tr th {\n",
       "        vertical-align: top;\n",
       "    }\n",
       "\n",
       "    .dataframe thead th {\n",
       "        text-align: right;\n",
       "    }\n",
       "</style>\n",
       "<table border=\"1\" class=\"dataframe\">\n",
       "  <thead>\n",
       "    <tr style=\"text-align: right;\">\n",
       "      <th></th>\n",
       "      <th>seq</th>\n",
       "      <th>인구수</th>\n",
       "      <th>shortName</th>\n",
       "      <th>x</th>\n",
       "      <th>y</th>\n",
       "      <th>면적</th>\n",
       "      <th>광역시도</th>\n",
       "      <th>행정구역</th>\n",
       "    </tr>\n",
       "  </thead>\n",
       "  <tbody>\n",
       "    <tr>\n",
       "      <th>0</th>\n",
       "      <td>0</td>\n",
       "      <td>202520</td>\n",
       "      <td>강릉</td>\n",
       "      <td>11</td>\n",
       "      <td>4</td>\n",
       "      <td>1040.07</td>\n",
       "      <td>강원도</td>\n",
       "      <td>강릉시</td>\n",
       "    </tr>\n",
       "    <tr>\n",
       "      <th>1</th>\n",
       "      <td>1</td>\n",
       "      <td>25589</td>\n",
       "      <td>고성(강원)</td>\n",
       "      <td>9</td>\n",
       "      <td>0</td>\n",
       "      <td>664.19</td>\n",
       "      <td>강원도</td>\n",
       "      <td>고성군</td>\n",
       "    </tr>\n",
       "    <tr>\n",
       "      <th>2</th>\n",
       "      <td>2</td>\n",
       "      <td>86747</td>\n",
       "      <td>동해</td>\n",
       "      <td>11</td>\n",
       "      <td>5</td>\n",
       "      <td>180.01</td>\n",
       "      <td>강원도</td>\n",
       "      <td>동해시</td>\n",
       "    </tr>\n",
       "    <tr>\n",
       "      <th>3</th>\n",
       "      <td>3</td>\n",
       "      <td>63986</td>\n",
       "      <td>삼척</td>\n",
       "      <td>11</td>\n",
       "      <td>8</td>\n",
       "      <td>1185.80</td>\n",
       "      <td>강원도</td>\n",
       "      <td>삼척시</td>\n",
       "    </tr>\n",
       "    <tr>\n",
       "      <th>4</th>\n",
       "      <td>4</td>\n",
       "      <td>76733</td>\n",
       "      <td>속초</td>\n",
       "      <td>9</td>\n",
       "      <td>1</td>\n",
       "      <td>105.25</td>\n",
       "      <td>강원도</td>\n",
       "      <td>속초시</td>\n",
       "    </tr>\n",
       "    <tr>\n",
       "      <th>...</th>\n",
       "      <td>...</td>\n",
       "      <td>...</td>\n",
       "      <td>...</td>\n",
       "      <td>...</td>\n",
       "      <td>...</td>\n",
       "      <td>...</td>\n",
       "      <td>...</td>\n",
       "      <td>...</td>\n",
       "    </tr>\n",
       "    <tr>\n",
       "      <th>224</th>\n",
       "      <td>224</td>\n",
       "      <td>127462</td>\n",
       "      <td>제천</td>\n",
       "      <td>8</td>\n",
       "      <td>10</td>\n",
       "      <td>882.47</td>\n",
       "      <td>충청북도</td>\n",
       "      <td>제천시</td>\n",
       "    </tr>\n",
       "    <tr>\n",
       "      <th>225</th>\n",
       "      <td>225</td>\n",
       "      <td>34480</td>\n",
       "      <td>증평</td>\n",
       "      <td>6</td>\n",
       "      <td>11</td>\n",
       "      <td>81.84</td>\n",
       "      <td>충청북도</td>\n",
       "      <td>증평군</td>\n",
       "    </tr>\n",
       "    <tr>\n",
       "      <th>226</th>\n",
       "      <td>226</td>\n",
       "      <td>62809</td>\n",
       "      <td>진천</td>\n",
       "      <td>5</td>\n",
       "      <td>11</td>\n",
       "      <td>406.08</td>\n",
       "      <td>충청북도</td>\n",
       "      <td>진천군</td>\n",
       "    </tr>\n",
       "    <tr>\n",
       "      <th>227</th>\n",
       "      <td>227</td>\n",
       "      <td>790216</td>\n",
       "      <td>청주</td>\n",
       "      <td>6</td>\n",
       "      <td>12</td>\n",
       "      <td>932.51</td>\n",
       "      <td>충청북도</td>\n",
       "      <td>청주시</td>\n",
       "    </tr>\n",
       "    <tr>\n",
       "      <th>228</th>\n",
       "      <td>228</td>\n",
       "      <td>198077</td>\n",
       "      <td>충주</td>\n",
       "      <td>6</td>\n",
       "      <td>10</td>\n",
       "      <td>983.70</td>\n",
       "      <td>충청북도</td>\n",
       "      <td>충주시</td>\n",
       "    </tr>\n",
       "  </tbody>\n",
       "</table>\n",
       "<p>229 rows × 8 columns</p>\n",
       "</div>"
      ],
      "text/plain": [
       "     seq     인구수 shortName   x   y       면적  광역시도 행정구역\n",
       "0      0  202520        강릉  11   4  1040.07   강원도  강릉시\n",
       "1      1   25589    고성(강원)   9   0   664.19   강원도  고성군\n",
       "2      2   86747        동해  11   5   180.01   강원도  동해시\n",
       "3      3   63986        삼척  11   8  1185.80   강원도  삼척시\n",
       "4      4   76733        속초   9   1   105.25   강원도  속초시\n",
       "..   ...     ...       ...  ..  ..      ...   ...  ...\n",
       "224  224  127462        제천   8  10   882.47  충청북도  제천시\n",
       "225  225   34480        증평   6  11    81.84  충청북도  증평군\n",
       "226  226   62809        진천   5  11   406.08  충청북도  진천군\n",
       "227  227  790216        청주   6  12   932.51  충청북도  청주시\n",
       "228  228  198077        충주   6  10   983.70  충청북도  충주시\n",
       "\n",
       "[229 rows x 8 columns]"
      ]
     },
     "execution_count": 132,
     "metadata": {},
     "output_type": "execute_result"
    }
   ],
   "source": [
    "# 'Unnamed: 0' 컬럼명을 'seq' 로 변경한다. 원본 객체는 변경되지 않고 변경된 결과만 출력함 inplace=False\n",
    "data.rename(columns={'Unnamed: 0':'seq'})"
   ]
  },
  {
   "cell_type": "code",
   "execution_count": 134,
   "id": "c6921624-f4e3-46fc-b08c-ad082366e30b",
   "metadata": {},
   "outputs": [],
   "source": [
    "#원본 객체가 변경되고 변경된 결과는 출력하지 않는다.\n",
    "data.rename(columns={'Unnamed: 0':'seq'}, inplace=True)"
   ]
  },
  {
   "cell_type": "code",
   "execution_count": 136,
   "id": "ee92cf6f-0223-4cee-aafa-6ff86a12193e",
   "metadata": {},
   "outputs": [
    {
     "data": {
      "text/html": [
       "<div>\n",
       "<style scoped>\n",
       "    .dataframe tbody tr th:only-of-type {\n",
       "        vertical-align: middle;\n",
       "    }\n",
       "\n",
       "    .dataframe tbody tr th {\n",
       "        vertical-align: top;\n",
       "    }\n",
       "\n",
       "    .dataframe thead th {\n",
       "        text-align: right;\n",
       "    }\n",
       "</style>\n",
       "<table border=\"1\" class=\"dataframe\">\n",
       "  <thead>\n",
       "    <tr style=\"text-align: right;\">\n",
       "      <th></th>\n",
       "      <th>인구수</th>\n",
       "      <th>shortName</th>\n",
       "      <th>x</th>\n",
       "      <th>y</th>\n",
       "      <th>면적</th>\n",
       "      <th>광역시도</th>\n",
       "      <th>행정구역</th>\n",
       "    </tr>\n",
       "    <tr>\n",
       "      <th>seq</th>\n",
       "      <th></th>\n",
       "      <th></th>\n",
       "      <th></th>\n",
       "      <th></th>\n",
       "      <th></th>\n",
       "      <th></th>\n",
       "      <th></th>\n",
       "    </tr>\n",
       "  </thead>\n",
       "  <tbody>\n",
       "    <tr>\n",
       "      <th>0</th>\n",
       "      <td>202520</td>\n",
       "      <td>강릉</td>\n",
       "      <td>11</td>\n",
       "      <td>4</td>\n",
       "      <td>1040.07</td>\n",
       "      <td>강원도</td>\n",
       "      <td>강릉시</td>\n",
       "    </tr>\n",
       "    <tr>\n",
       "      <th>1</th>\n",
       "      <td>25589</td>\n",
       "      <td>고성(강원)</td>\n",
       "      <td>9</td>\n",
       "      <td>0</td>\n",
       "      <td>664.19</td>\n",
       "      <td>강원도</td>\n",
       "      <td>고성군</td>\n",
       "    </tr>\n",
       "    <tr>\n",
       "      <th>2</th>\n",
       "      <td>86747</td>\n",
       "      <td>동해</td>\n",
       "      <td>11</td>\n",
       "      <td>5</td>\n",
       "      <td>180.01</td>\n",
       "      <td>강원도</td>\n",
       "      <td>동해시</td>\n",
       "    </tr>\n",
       "    <tr>\n",
       "      <th>3</th>\n",
       "      <td>63986</td>\n",
       "      <td>삼척</td>\n",
       "      <td>11</td>\n",
       "      <td>8</td>\n",
       "      <td>1185.80</td>\n",
       "      <td>강원도</td>\n",
       "      <td>삼척시</td>\n",
       "    </tr>\n",
       "    <tr>\n",
       "      <th>4</th>\n",
       "      <td>76733</td>\n",
       "      <td>속초</td>\n",
       "      <td>9</td>\n",
       "      <td>1</td>\n",
       "      <td>105.25</td>\n",
       "      <td>강원도</td>\n",
       "      <td>속초시</td>\n",
       "    </tr>\n",
       "  </tbody>\n",
       "</table>\n",
       "</div>"
      ],
      "text/plain": [
       "        인구수 shortName   x  y       면적 광역시도 행정구역\n",
       "seq                                            \n",
       "0    202520        강릉  11  4  1040.07  강원도  강릉시\n",
       "1     25589    고성(강원)   9  0   664.19  강원도  고성군\n",
       "2     86747        동해  11  5   180.01  강원도  동해시\n",
       "3     63986        삼척  11  8  1185.80  강원도  삼척시\n",
       "4     76733        속초   9  1   105.25  강원도  속초시"
      ]
     },
     "execution_count": 136,
     "metadata": {},
     "output_type": "execute_result"
    }
   ],
   "source": [
    "# seq 컬럼을 인덱스로 변경한다 ( 원본 객체가 변경됨 )\n",
    "data.set_index('seq', inplace=True)\n",
    "data.head()"
   ]
  },
  {
   "cell_type": "markdown",
   "id": "da929451-3b76-48e5-8054-40d1360493cf",
   "metadata": {},
   "source": [
    "### DataFrame을 Excel file로 저장하기\n",
    "* 인구수가 평균보다 작은 행정구역, 광역시도, 인구수를 선택해서 DataFrame생성하기\n",
    "* DataFrame의 to_excel() 함수 사용"
   ]
  },
  {
   "cell_type": "code",
   "execution_count": 137,
   "id": "13349b49-544d-4184-b464-7fbb50aeb34f",
   "metadata": {},
   "outputs": [
    {
     "name": "stdout",
     "output_type": "stream",
     "text": [
      "211089.77729257641\n",
      "211090\n",
      "211089.78\n"
     ]
    }
   ],
   "source": [
    "# 인구수의 평균값 구하기\n",
    "pop_mean_value=data['인구수'].mean()\n",
    "print(pop_mean_value)\n",
    "print(round(pop_mean_value))\n",
    "print(f'{pop_mean_value:.2f}')"
   ]
  },
  {
   "cell_type": "code",
   "execution_count": 140,
   "id": "a1b6a307-75e8-4dea-864b-1d6dece7bec5",
   "metadata": {},
   "outputs": [],
   "source": [
    "# 인구수의 평균값 보다 작은 Row를 선택하고, '광역시도','행정구역','인구수' 컬럼값을 가져오기\n",
    "# 정렬할때 광역시도는 ascending으로 , 인구수는 descending\n",
    "# index는 reset() 하기\n",
    "pop_mean_lf_df = data.loc[data['인구수'] < pop_mean_value,['광역시도','행정구역','인구수']]\\\n",
    ".sort_values(by=['광역시도','인구수'],ascending=[True,False])\\\n",
    ".reset_index(drop=True)"
   ]
  },
  {
   "cell_type": "code",
   "execution_count": 141,
   "id": "84b01289-61fa-4517-aedb-795c1843db86",
   "metadata": {},
   "outputs": [],
   "source": [
    "# DataFrame의 to_excel() 함수를 사용하여 excel 파일로 저장\n",
    "pop_mean_lf_df.to_excel('data/평균인구수미만지역.xlsx')"
   ]
  },
  {
   "cell_type": "markdown",
   "id": "e84c3ed5-9ee6-4f7d-a1c8-2fa81db6de0e",
   "metadata": {},
   "source": [
    "### GroupBy 기능 사용하기\n",
    "* 광역시도별 행정구역의 인구수 합계\n",
    "* ~별에 해당하는 컬럼명이나 컬럼값을 groupby() 함수의 인자로 전달한다.\n",
    "* Series 객체의 groupby(data['광역시도']) 함수는 컬럼의 값을 인자로 전달하고\n",
    "* DataFrame 객체의 groupby('광역시도') 함수는 컬럼명을 인자로 전달합니다."
   ]
  },
  {
   "cell_type": "code",
   "execution_count": 143,
   "id": "a02147d0-0a8f-4f7f-b44b-355f7db71a54",
   "metadata": {},
   "outputs": [
    {
     "data": {
      "text/plain": [
       "광역시도\n",
       "강원도         1429438\n",
       "경기도        11744210\n",
       "경상남도        3144487\n",
       "경상북도        2508964\n",
       "광주광역시       1438209\n",
       "대구광역시       2378450\n",
       "대전광역시       1467677\n",
       "부산광역시       3323591\n",
       "서울특별시       9394807\n",
       "세종특별자치시      191233\n",
       "울산광역시       1105585\n",
       "인천광역시       2766575\n",
       "전라남도        1700563\n",
       "전라북도        1739048\n",
       "제주특별자치도      575873\n",
       "충청남도        1946129\n",
       "충청북도        1484720\n",
       "Name: 인구수, dtype: int64"
      ]
     },
     "execution_count": 143,
     "metadata": {},
     "output_type": "execute_result"
    }
   ],
   "source": [
    "# Series 객체 사용 - 광역시도별 인구수의 합계 \n",
    "# SeriesGroupBy object\n",
    "data['인구수'].groupby(data['광역시도']).sum()"
   ]
  },
  {
   "cell_type": "code",
   "execution_count": 144,
   "id": "ec89692a",
   "metadata": {},
   "outputs": [
    {
     "data": {
      "text/plain": [
       "광역시도\n",
       "강원도        18\n",
       "경기도        31\n",
       "경상남도       18\n",
       "경상북도       23\n",
       "광주광역시       5\n",
       "대구광역시       8\n",
       "대전광역시       5\n",
       "부산광역시      16\n",
       "서울특별시      25\n",
       "세종특별자치시     1\n",
       "울산광역시       5\n",
       "인천광역시      10\n",
       "전라남도       22\n",
       "전라북도       14\n",
       "제주특별자치도     2\n",
       "충청남도       15\n",
       "충청북도       11\n",
       "Name: 인구수, dtype: int64"
      ]
     },
     "execution_count": 144,
     "metadata": {},
     "output_type": "execute_result"
    }
   ],
   "source": [
    "data['인구수'].groupby(data['광역시도']).count()"
   ]
  },
  {
   "cell_type": "code",
   "execution_count": null,
   "id": "08aba13d-2400-41e1-9c92-6cdb51dfaf1c",
   "metadata": {},
   "outputs": [],
   "source": [
    "# DataFrame 객체 사용 - 광역시도별 인구수의 합계 \n",
    "# DataFrameGroupBy object\n",
    "data.groupby('광역시도').sum()"
   ]
  },
  {
   "cell_type": "code",
   "execution_count": null,
   "id": "7989a0af-305e-4baf-bfe4-34f79f119e0d",
   "metadata": {},
   "outputs": [],
   "source": [
    "# 광역시도별 행정구역별 인구수의 합계\n",
    "data.groupby('광역시도')['인구수'].sum()"
   ]
  },
  {
   "cell_type": "code",
   "execution_count": null,
   "id": "df1dea8f",
   "metadata": {},
   "outputs": [],
   "source": [
    "# 숫자타입인 컬럼을 grouping하기\n",
    "data[['인구수','면적','광역시도']].groupby('광역시도').sum(numeric_only=True)"
   ]
  },
  {
   "cell_type": "code",
   "execution_count": 152,
   "id": "3fdb53a2-4111-4cdc-bc26-d14408cf85f4",
   "metadata": {},
   "outputs": [],
   "source": [
    "# data/광역시도별행정구역별인구수의합계.xlsx 파일로 저장하기\n",
    "group_df = data.groupby(['광역시도','행정구역'])['인구수'].sum()"
   ]
  },
  {
   "cell_type": "code",
   "execution_count": 153,
   "id": "f685b1a6",
   "metadata": {},
   "outputs": [
    {
     "data": {
      "text/plain": [
       "광역시도  행정구역\n",
       "충청북도  제천시     127462\n",
       "      증평군      34480\n",
       "      진천군      62809\n",
       "      청주시     790216\n",
       "      충주시     198077\n",
       "Name: 인구수, dtype: int64"
      ]
     },
     "execution_count": 153,
     "metadata": {},
     "output_type": "execute_result"
    }
   ],
   "source": [
    "group_df.tail()"
   ]
  },
  {
   "cell_type": "markdown",
   "id": "5a95ca84-dc6a-4f6f-b310-c93a58b6349f",
   "metadata": {},
   "source": [
    "### 엑셀 수치 데이터에 콤마찍기\n",
    "[pandas.ExcelWriter](https://pandas.pydata.org/docs/reference/api/pandas.ExcelWriter.html)"
   ]
  },
  {
   "cell_type": "code",
   "execution_count": 155,
   "id": "242f05e1-03a9-488f-b598-dd7e4970dbf4",
   "metadata": {},
   "outputs": [
    {
     "name": "stdout",
     "output_type": "stream",
     "text": [
      "Collecting xlsxwriter\n",
      "  Downloading xlsxwriter-3.2.5-py3-none-any.whl.metadata (2.7 kB)\n",
      "Downloading xlsxwriter-3.2.5-py3-none-any.whl (172 kB)\n",
      "Installing collected packages: xlsxwriter\n",
      "Successfully installed xlsxwriter-3.2.5\n",
      "Note: you may need to restart the kernel to use updated packages.\n"
     ]
    }
   ],
   "source": [
    "%pip install xlsxwriter"
   ]
  },
  {
   "cell_type": "code",
   "execution_count": 157,
   "id": "b3de0503-4e24-4882-a778-ef60a9d9883c",
   "metadata": {},
   "outputs": [],
   "source": [
    "# Create a Pandas Excel writer using XlsxWriter as the engine.\n",
    "writer = pd.ExcelWriter('data/광역시도별행정구역별인구수의합계.xlsx', engine='xlsxwriter')\n",
    "\n",
    "# Convert the dataframe to an XlsxWriter Excel object.\n",
    "group_df.to_excel(writer, sheet_name='인구수합계')\n",
    "\n",
    "# Get the xlsxwriter workbook and worksheet objects.\n",
    "workbook  = writer.book\n",
    "worksheet = writer.sheets['인구수합계']\n",
    "\n",
    "# Set a currency number format for a column.\n",
    "num_format = workbook.add_format({'num_format': '#,###'})\n",
    "worksheet.set_column('C:C', None, num_format)\n",
    "# Close the Pandas Excel writer and output the Excel file.\n",
    "writer.close() #_save()"
   ]
  },
  {
   "cell_type": "markdown",
   "id": "dcbcfb22-78e1-4f23-82e6-f2e52206cf49",
   "metadata": {},
   "source": [
    "#### 상관계수 (Correlation Coefficient)\n",
    "* 인구수와 면적 데이터간에 관련성이 있는지 살펴보기 위해서 상관계수 구하기\n",
    "* 상관계수 값은 -1 ~ 1 사이의 값이며, 0에 가까울 수록 관련성이 낮고, 1에 가까울 수록 관련성이 높다. \n",
    "* 음수는 반비례 (면적이 넓은 반면 인구수는 적은 경우), 양수는 비례 (면적이 넓고, 인구수도 높은 경우)\n",
    "* corr() 함수"
   ]
  },
  {
   "cell_type": "code",
   "execution_count": 158,
   "id": "c56d6f9f-4126-4c42-bf5b-201e1a81b015",
   "metadata": {},
   "outputs": [
    {
     "data": {
      "text/plain": [
       "-0.3460351605045768"
      ]
     },
     "execution_count": 158,
     "metadata": {},
     "output_type": "execute_result"
    }
   ],
   "source": [
    "#전국의 면적과 인구수의 상관계수 구하기\n",
    "data['면적'].corr(data['인구수'])"
   ]
  },
  {
   "cell_type": "code",
   "execution_count": 160,
   "id": "737f50b7-6642-454c-9895-f5a9d9d1c439",
   "metadata": {},
   "outputs": [
    {
     "data": {
      "text/plain": [
       "0.6644268188909778"
      ]
     },
     "execution_count": 160,
     "metadata": {},
     "output_type": "execute_result"
    }
   ],
   "source": [
    "#서울의 면적과 인구수의 상관계수 구하기\n",
    "seoul_df = data.loc[data['광역시도'] == '서울특별시',['행정구역','인구수','면적']]\n",
    "seoul_df['면적'].corr(seoul_df['인구수'])"
   ]
  },
  {
   "cell_type": "code",
   "execution_count": 159,
   "id": "2babd22a-7b7c-4d87-bfb4-8d113eeca586",
   "metadata": {},
   "outputs": [
    {
     "data": {
      "text/plain": [
       "-0.21572485071590813"
      ]
     },
     "execution_count": 159,
     "metadata": {},
     "output_type": "execute_result"
    }
   ],
   "source": [
    "#경기도의 면적과 인구수의 상관계수 구하기\n",
    "gy_df['면적'].corr(gy_df['인구수'])"
   ]
  },
  {
   "cell_type": "markdown",
   "id": "209847da-89e5-4f4d-a0e4-4c1b25590cd4",
   "metadata": {},
   "source": [
    "#### Groupby 한 DataFrame에 집계함수를 여러개 설정하기\n",
    "* agg() 함수\n",
    "* agg(['max','mean','std'])"
   ]
  },
  {
   "cell_type": "code",
   "execution_count": 162,
   "id": "f774da3c-a6c6-4537-889f-9a4688c55754",
   "metadata": {},
   "outputs": [
    {
     "data": {
      "text/html": [
       "<div>\n",
       "<style scoped>\n",
       "    .dataframe tbody tr th:only-of-type {\n",
       "        vertical-align: middle;\n",
       "    }\n",
       "\n",
       "    .dataframe tbody tr th {\n",
       "        vertical-align: top;\n",
       "    }\n",
       "\n",
       "    .dataframe thead th {\n",
       "        text-align: right;\n",
       "    }\n",
       "</style>\n",
       "<table border=\"1\" class=\"dataframe\">\n",
       "  <thead>\n",
       "    <tr style=\"text-align: right;\">\n",
       "      <th></th>\n",
       "      <th>max</th>\n",
       "      <th>mean</th>\n",
       "      <th>std</th>\n",
       "      <th>min</th>\n",
       "    </tr>\n",
       "    <tr>\n",
       "      <th>광역시도</th>\n",
       "      <th></th>\n",
       "      <th></th>\n",
       "      <th></th>\n",
       "      <th></th>\n",
       "    </tr>\n",
       "  </thead>\n",
       "  <tbody>\n",
       "    <tr>\n",
       "      <th>강원도</th>\n",
       "      <td>313851</td>\n",
       "      <td>79413.222222</td>\n",
       "      <td>87316.383238</td>\n",
       "      <td>20809</td>\n",
       "    </tr>\n",
       "    <tr>\n",
       "      <th>경기도</th>\n",
       "      <td>1125461</td>\n",
       "      <td>378845.483871</td>\n",
       "      <td>304548.395142</td>\n",
       "      <td>41076</td>\n",
       "    </tr>\n",
       "    <tr>\n",
       "      <th>경상남도</th>\n",
       "      <td>1010040</td>\n",
       "      <td>174693.722222</td>\n",
       "      <td>245796.465077</td>\n",
       "      <td>25091</td>\n",
       "    </tr>\n",
       "    <tr>\n",
       "      <th>경상북도</th>\n",
       "      <td>488395</td>\n",
       "      <td>109085.391304</td>\n",
       "      <td>124954.740885</td>\n",
       "      <td>8392</td>\n",
       "    </tr>\n",
       "    <tr>\n",
       "      <th>광주광역시</th>\n",
       "      <td>439683</td>\n",
       "      <td>287641.800000</td>\n",
       "      <td>137076.683206</td>\n",
       "      <td>97571</td>\n",
       "    </tr>\n",
       "    <tr>\n",
       "      <th>대구광역시</th>\n",
       "      <td>584517</td>\n",
       "      <td>297306.250000</td>\n",
       "      <td>174375.394380</td>\n",
       "      <td>74950</td>\n",
       "    </tr>\n",
       "    <tr>\n",
       "      <th>대전광역시</th>\n",
       "      <td>475094</td>\n",
       "      <td>293535.400000</td>\n",
       "      <td>111853.571882</td>\n",
       "      <td>190815</td>\n",
       "    </tr>\n",
       "    <tr>\n",
       "      <th>부산광역시</th>\n",
       "      <td>397134</td>\n",
       "      <td>207724.437500</td>\n",
       "      <td>106246.041384</td>\n",
       "      <td>43105</td>\n",
       "    </tr>\n",
       "    <tr>\n",
       "      <th>서울특별시</th>\n",
       "      <td>615487</td>\n",
       "      <td>375792.280000</td>\n",
       "      <td>125231.247975</td>\n",
       "      <td>114967</td>\n",
       "    </tr>\n",
       "    <tr>\n",
       "      <th>세종특별자치시</th>\n",
       "      <td>191233</td>\n",
       "      <td>191233.000000</td>\n",
       "      <td>0.000000</td>\n",
       "      <td>191233</td>\n",
       "    </tr>\n",
       "    <tr>\n",
       "      <th>울산광역시</th>\n",
       "      <td>327270</td>\n",
       "      <td>221117.000000</td>\n",
       "      <td>64163.286582</td>\n",
       "      <td>164738</td>\n",
       "    </tr>\n",
       "    <tr>\n",
       "      <th>인천광역시</th>\n",
       "      <td>527153</td>\n",
       "      <td>276657.500000</td>\n",
       "      <td>199353.596491</td>\n",
       "      <td>17735</td>\n",
       "    </tr>\n",
       "    <tr>\n",
       "      <th>전라남도</th>\n",
       "      <td>263166</td>\n",
       "      <td>77298.318182</td>\n",
       "      <td>74413.253230</td>\n",
       "      <td>23189</td>\n",
       "    </tr>\n",
       "    <tr>\n",
       "      <th>전라북도</th>\n",
       "      <td>630708</td>\n",
       "      <td>124217.714286</td>\n",
       "      <td>168327.134821</td>\n",
       "      <td>20492</td>\n",
       "    </tr>\n",
       "    <tr>\n",
       "      <th>제주특별자치도</th>\n",
       "      <td>430504</td>\n",
       "      <td>287936.500000</td>\n",
       "      <td>201620.892054</td>\n",
       "      <td>145369</td>\n",
       "    </tr>\n",
       "    <tr>\n",
       "      <th>충청남도</th>\n",
       "      <td>584912</td>\n",
       "      <td>129741.933333</td>\n",
       "      <td>141125.108080</td>\n",
       "      <td>29671</td>\n",
       "    </tr>\n",
       "    <tr>\n",
       "      <th>충청북도</th>\n",
       "      <td>790216</td>\n",
       "      <td>134974.545455</td>\n",
       "      <td>223460.356657</td>\n",
       "      <td>27130</td>\n",
       "    </tr>\n",
       "  </tbody>\n",
       "</table>\n",
       "</div>"
      ],
      "text/plain": [
       "             max           mean            std     min\n",
       "광역시도                                                  \n",
       "강원도       313851   79413.222222   87316.383238   20809\n",
       "경기도      1125461  378845.483871  304548.395142   41076\n",
       "경상남도     1010040  174693.722222  245796.465077   25091\n",
       "경상북도      488395  109085.391304  124954.740885    8392\n",
       "광주광역시     439683  287641.800000  137076.683206   97571\n",
       "대구광역시     584517  297306.250000  174375.394380   74950\n",
       "대전광역시     475094  293535.400000  111853.571882  190815\n",
       "부산광역시     397134  207724.437500  106246.041384   43105\n",
       "서울특별시     615487  375792.280000  125231.247975  114967\n",
       "세종특별자치시   191233  191233.000000       0.000000  191233\n",
       "울산광역시     327270  221117.000000   64163.286582  164738\n",
       "인천광역시     527153  276657.500000  199353.596491   17735\n",
       "전라남도      263166   77298.318182   74413.253230   23189\n",
       "전라북도      630708  124217.714286  168327.134821   20492\n",
       "제주특별자치도   430504  287936.500000  201620.892054  145369\n",
       "충청남도      584912  129741.933333  141125.108080   29671\n",
       "충청북도      790216  134974.545455  223460.356657   27130"
      ]
     },
     "execution_count": 162,
     "metadata": {},
     "output_type": "execute_result"
    }
   ],
   "source": [
    "# agg() 함수 사용하여 여러개의 통계함수를 사용합니다. \n",
    "# fillna(0) NaN 을 0 으로 변경해 줌\n",
    "data.groupby('광역시도')['인구수'].agg(['max','mean','std','min']).fillna(0)"
   ]
  },
  {
   "cell_type": "code",
   "execution_count": 163,
   "id": "18fed7bd-2728-432a-95bd-da906edc0354",
   "metadata": {},
   "outputs": [
    {
     "data": {
      "text/html": [
       "<div>\n",
       "<style scoped>\n",
       "    .dataframe tbody tr th:only-of-type {\n",
       "        vertical-align: middle;\n",
       "    }\n",
       "\n",
       "    .dataframe tbody tr th {\n",
       "        vertical-align: top;\n",
       "    }\n",
       "\n",
       "    .dataframe thead th {\n",
       "        text-align: right;\n",
       "    }\n",
       "</style>\n",
       "<table border=\"1\" class=\"dataframe\">\n",
       "  <thead>\n",
       "    <tr style=\"text-align: right;\">\n",
       "      <th></th>\n",
       "      <th>max</th>\n",
       "      <th>mean</th>\n",
       "      <th>std</th>\n",
       "      <th>min</th>\n",
       "    </tr>\n",
       "    <tr>\n",
       "      <th>광역시도</th>\n",
       "      <th></th>\n",
       "      <th></th>\n",
       "      <th></th>\n",
       "      <th></th>\n",
       "    </tr>\n",
       "  </thead>\n",
       "  <tbody>\n",
       "    <tr>\n",
       "      <th>경기도</th>\n",
       "      <td>1125461</td>\n",
       "      <td>378845.483871</td>\n",
       "      <td>304548.395142</td>\n",
       "      <td>41076</td>\n",
       "    </tr>\n",
       "    <tr>\n",
       "      <th>경상남도</th>\n",
       "      <td>1010040</td>\n",
       "      <td>174693.722222</td>\n",
       "      <td>245796.465077</td>\n",
       "      <td>25091</td>\n",
       "    </tr>\n",
       "    <tr>\n",
       "      <th>충청북도</th>\n",
       "      <td>790216</td>\n",
       "      <td>134974.545455</td>\n",
       "      <td>223460.356657</td>\n",
       "      <td>27130</td>\n",
       "    </tr>\n",
       "    <tr>\n",
       "      <th>제주특별자치도</th>\n",
       "      <td>430504</td>\n",
       "      <td>287936.500000</td>\n",
       "      <td>201620.892054</td>\n",
       "      <td>145369</td>\n",
       "    </tr>\n",
       "    <tr>\n",
       "      <th>인천광역시</th>\n",
       "      <td>527153</td>\n",
       "      <td>276657.500000</td>\n",
       "      <td>199353.596491</td>\n",
       "      <td>17735</td>\n",
       "    </tr>\n",
       "    <tr>\n",
       "      <th>대구광역시</th>\n",
       "      <td>584517</td>\n",
       "      <td>297306.250000</td>\n",
       "      <td>174375.394380</td>\n",
       "      <td>74950</td>\n",
       "    </tr>\n",
       "    <tr>\n",
       "      <th>전라북도</th>\n",
       "      <td>630708</td>\n",
       "      <td>124217.714286</td>\n",
       "      <td>168327.134821</td>\n",
       "      <td>20492</td>\n",
       "    </tr>\n",
       "    <tr>\n",
       "      <th>충청남도</th>\n",
       "      <td>584912</td>\n",
       "      <td>129741.933333</td>\n",
       "      <td>141125.108080</td>\n",
       "      <td>29671</td>\n",
       "    </tr>\n",
       "    <tr>\n",
       "      <th>광주광역시</th>\n",
       "      <td>439683</td>\n",
       "      <td>287641.800000</td>\n",
       "      <td>137076.683206</td>\n",
       "      <td>97571</td>\n",
       "    </tr>\n",
       "    <tr>\n",
       "      <th>서울특별시</th>\n",
       "      <td>615487</td>\n",
       "      <td>375792.280000</td>\n",
       "      <td>125231.247975</td>\n",
       "      <td>114967</td>\n",
       "    </tr>\n",
       "    <tr>\n",
       "      <th>경상북도</th>\n",
       "      <td>488395</td>\n",
       "      <td>109085.391304</td>\n",
       "      <td>124954.740885</td>\n",
       "      <td>8392</td>\n",
       "    </tr>\n",
       "    <tr>\n",
       "      <th>대전광역시</th>\n",
       "      <td>475094</td>\n",
       "      <td>293535.400000</td>\n",
       "      <td>111853.571882</td>\n",
       "      <td>190815</td>\n",
       "    </tr>\n",
       "    <tr>\n",
       "      <th>부산광역시</th>\n",
       "      <td>397134</td>\n",
       "      <td>207724.437500</td>\n",
       "      <td>106246.041384</td>\n",
       "      <td>43105</td>\n",
       "    </tr>\n",
       "    <tr>\n",
       "      <th>강원도</th>\n",
       "      <td>313851</td>\n",
       "      <td>79413.222222</td>\n",
       "      <td>87316.383238</td>\n",
       "      <td>20809</td>\n",
       "    </tr>\n",
       "    <tr>\n",
       "      <th>전라남도</th>\n",
       "      <td>263166</td>\n",
       "      <td>77298.318182</td>\n",
       "      <td>74413.253230</td>\n",
       "      <td>23189</td>\n",
       "    </tr>\n",
       "    <tr>\n",
       "      <th>울산광역시</th>\n",
       "      <td>327270</td>\n",
       "      <td>221117.000000</td>\n",
       "      <td>64163.286582</td>\n",
       "      <td>164738</td>\n",
       "    </tr>\n",
       "    <tr>\n",
       "      <th>세종특별자치시</th>\n",
       "      <td>191233</td>\n",
       "      <td>191233.000000</td>\n",
       "      <td>0.000000</td>\n",
       "      <td>191233</td>\n",
       "    </tr>\n",
       "  </tbody>\n",
       "</table>\n",
       "</div>"
      ],
      "text/plain": [
       "             max           mean            std     min\n",
       "광역시도                                                  \n",
       "경기도      1125461  378845.483871  304548.395142   41076\n",
       "경상남도     1010040  174693.722222  245796.465077   25091\n",
       "충청북도      790216  134974.545455  223460.356657   27130\n",
       "제주특별자치도   430504  287936.500000  201620.892054  145369\n",
       "인천광역시     527153  276657.500000  199353.596491   17735\n",
       "대구광역시     584517  297306.250000  174375.394380   74950\n",
       "전라북도      630708  124217.714286  168327.134821   20492\n",
       "충청남도      584912  129741.933333  141125.108080   29671\n",
       "광주광역시     439683  287641.800000  137076.683206   97571\n",
       "서울특별시     615487  375792.280000  125231.247975  114967\n",
       "경상북도      488395  109085.391304  124954.740885    8392\n",
       "대전광역시     475094  293535.400000  111853.571882  190815\n",
       "부산광역시     397134  207724.437500  106246.041384   43105\n",
       "강원도       313851   79413.222222   87316.383238   20809\n",
       "전라남도      263166   77298.318182   74413.253230   23189\n",
       "울산광역시     327270  221117.000000   64163.286582  164738\n",
       "세종특별자치시   191233  191233.000000       0.000000  191233"
      ]
     },
     "execution_count": 163,
     "metadata": {},
     "output_type": "execute_result"
    }
   ],
   "source": [
    "# agg() 함수 사용 - 그룹핑한 데이터를 여러개의 집계함수를 사용해서 새로운 DataFrame 객체 생성하기\n",
    "group_agg_df = \\\n",
    "    data.groupby('광역시도')['인구수'].agg(['max','mean','std','min']).fillna(0).sort_values(by=\"std\",ascending=False)\n",
    "group_agg_df "
   ]
  },
  {
   "cell_type": "code",
   "execution_count": null,
   "id": "89cab69e-ea06-4a17-bf39-ec08f87152e8",
   "metadata": {},
   "outputs": [],
   "source": [
    "# DataFrame의 style.format() 함수 사용하기\n",
    "group_agg_df.style.format('{0:.2f}')"
   ]
  },
  {
   "cell_type": "code",
   "execution_count": null,
   "id": "5be8d81f-d262-4968-9b30-a7871c695b79",
   "metadata": {},
   "outputs": [],
   "source": [
    "# 컬럼의 값을 변경하기 map() 함수를 사용하여 포맷하기\n",
    "group_agg_df['mean'] = group_agg_df['mean'].map('{:.2f}'.format)\n",
    "group_agg_df['std'] = group_agg_df['std'].map('{:.2f}'.format)\n",
    "group_agg_df"
   ]
  },
  {
   "cell_type": "markdown",
   "id": "09e78059-5376-4a71-b5fb-793ad4ccf492",
   "metadata": {},
   "source": [
    "#### 시각화\n",
    "* %matplotlib inline 설정 (jupyter 에서는 show() 함수를 호출하지 않아도 plot이 출력된다)\n",
    "* 한글폰트 설정이 필요함\n",
    "* Plot에 대한 설정은 matplotlib의 함수를 사용하고, Plot을 그려주는 기능은 seaborn()의 함수를 사용합니다. "
   ]
  },
  {
   "cell_type": "code",
   "execution_count": 166,
   "id": "a6d52c44-6967-4f05-9241-d85fbddd414c",
   "metadata": {},
   "outputs": [],
   "source": [
    "%matplotlib inline"
   ]
  },
  {
   "cell_type": "code",
   "execution_count": 167,
   "id": "3f6fa9fa-cc69-40db-9066-2dce3734808b",
   "metadata": {},
   "outputs": [
    {
     "name": "stdout",
     "output_type": "stream",
     "text": [
      "matplotlib  3.9.2\n",
      "seaborn  0.13.2\n"
     ]
    }
   ],
   "source": [
    "import matplotlib\n",
    "import matplotlib.pyplot as plt\n",
    "import matplotlib.font_manager as fm\n",
    "import seaborn as sns\n",
    "\n",
    "print('matplotlib ', matplotlib.__version__)\n",
    "print('seaborn ', sns.__version__)"
   ]
  },
  {
   "cell_type": "code",
   "execution_count": 169,
   "id": "2a46d1a7-f0e3-4734-ba1a-b35c33443abe",
   "metadata": {},
   "outputs": [
    {
     "data": {
      "text/plain": [
       "[('Malgun Gothic', 'C:\\\\Windows\\\\Fonts\\\\malgun.ttf'),\n",
       " ('Malgun Gothic', 'C:\\\\Windows\\\\Fonts\\\\malgunbd.ttf'),\n",
       " ('Malgun Gothic', 'C:\\\\Windows\\\\Fonts\\\\malgunsl.ttf')]"
      ]
     },
     "execution_count": 169,
     "metadata": {},
     "output_type": "execute_result"
    }
   ],
   "source": [
    "# for font in fm.fontManager.ttflist:\n",
    "#     print((font.name, font.fname))\n",
    "# 폰트이름과 폰트파일 정보 출력 list comprehension \n",
    "[ (font.name, font.fname) for font in fm.fontManager.ttflist if 'Mal' in font.name ]"
   ]
  },
  {
   "cell_type": "code",
   "execution_count": 170,
   "id": "12c6d5b2-1312-4bb6-b9c8-3d15a5e8204f",
   "metadata": {},
   "outputs": [
    {
     "name": "stdout",
     "output_type": "stream",
     "text": [
      "Malgun Gothic\n"
     ]
    }
   ],
   "source": [
    "# font name을 알고 있다면 생략가능\n",
    "#한글폰트 path 설정\n",
    "font_path = 'C:\\\\windows\\\\Fonts\\\\malgun.ttf'\n",
    "#font의 파일정보로 font name 을 알아내기\n",
    "font_prop = fm.FontProperties(fname=font_path).get_name()\n",
    "print(font_prop)"
   ]
  },
  {
   "cell_type": "code",
   "execution_count": 171,
   "id": "34468317-4ed8-4d94-89b7-792e8c7af781",
   "metadata": {},
   "outputs": [],
   "source": [
    "# matplotlib의 rc(run command) 함수를 사용해서 font name(Malgun Gothic) 설정\n",
    "matplotlib.rc('font', family=font_prop)"
   ]
  },
  {
   "cell_type": "markdown",
   "id": "6c1c7e25-ec4c-43f2-b791-a8d0633489c7",
   "metadata": {},
   "source": [
    "### Figure, Axes, Plot\n",
    "* Axes는 Plot이 실제 그려지는 공간\n",
    "* Figure는 Axes 보다 더 상위의 공간 : Figure을 여러개의 Axes로 분할해서 Plot를 그릴 수 있다\n",
    "* 비교) Axis는 X 축, Y축\n",
    "* seaborn의 barplot() 함수(막대그래프) 사용"
   ]
  },
  {
   "cell_type": "code",
   "execution_count": null,
   "id": "528bf99f-9b68-41eb-9be5-85abdbf9b23a",
   "metadata": {},
   "outputs": [],
   "source": [
    "seoul_df.head()"
   ]
  },
  {
   "cell_type": "code",
   "execution_count": null,
   "id": "73fa3ee7-0b06-4fad-8347-c4c7874c249b",
   "metadata": {},
   "outputs": [],
   "source": [
    "# pyplot의 subplots() 함수를 사용하여 axes 객체를 생성하기 2행1열\n",
    "figure,(axes1,axes2) = plt.subplots(nrows=2,ncols=1)\n",
    "figure.set_size_inches(18,12)\n",
    "print(figure)\n",
    "print(axes1,axes2)\n",
    "# seaborn의 barplot() 함수 호출하기 - 행정구역과 인구수\n",
    "sns.barplot(data=seoul_df.sort_values(by='인구수',ascending=False), x='행정구역', y='인구수', ax=axes1, hue='행정구역')\n",
    "# seaborn의 barplot() 함수 호출하기 - 행정구역과 면적\n",
    "sns.barplot(data=seoul_df.sort_values(by='면적',ascending=False), x='행정구역', y='면적', ax=axes2, hue='행정구역')\n",
    "plt.show()\n"
   ]
  },
  {
   "cell_type": "code",
   "execution_count": 182,
   "id": "3262a3a6-2cf9-4168-9847-0a41000551fb",
   "metadata": {},
   "outputs": [],
   "source": [
    "# 광역시도 이름을 인자로 받아서 인구수와 면적을 그려주는 함수\n",
    "def show_pop_area(sido_name):\n",
    "    sido_df = data.loc[data['광역시도'] == sido_name].copy()\n",
    "    # Figure와 Axes 객체 생성\n",
    "    figure, (axes1,axes2) = plt.subplots(nrows=2, ncols=1)\n",
    "    # Figure size 확대\n",
    "    figure.set_size_inches(18,12)\n",
    "    \n",
    "    pop_plot = sns.barplot(x='행정구역', y='인구수', data=sido_df.sort_values(by='인구수',ascending=False), ax=axes1,hue='행정구역')\n",
    "    pop_plot.set_title(f'{sido_name} 행정구역별 인구수')\n",
    "    area_plot = sns.barplot(x='행정구역', y='면적', data=sido_df.sort_values(by='면적',ascending=False), ax=axes2,hue='행정구역')\n",
    "    area_plot.set_title(f'{sido_name} 행정구역별 면적')\n",
    "    plt.show()"
   ]
  },
  {
   "cell_type": "code",
   "execution_count": null,
   "id": "0a64129b-6baf-4312-a221-a84360ab4806",
   "metadata": {},
   "outputs": [],
   "source": [
    "show_pop_area('부산광역시')"
   ]
  },
  {
   "cell_type": "code",
   "execution_count": 185,
   "id": "84ec2150-d2cc-4e99-afcb-783913446bde",
   "metadata": {},
   "outputs": [
    {
     "data": {
      "image/png": "[encoded data removed]",
      "text/plain": [
       "<Figure size 1800x1200 with 1 Axes>"
      ]
     },
     "metadata": {},
     "output_type": "display_data"
    }
   ],
   "source": [
    "# 전국데이터의 광역시도의 인구수 \n",
    "figure, axes1 = plt.subplots(1,1)\n",
    "figure.set_size_inches(18,12)\n",
    "sns.barplot(x='광역시도', y='인구수', data=data, ax=axes1, hue='광역시도')\n",
    "plt.show()"
   ]
  },
  {
   "cell_type": "code",
   "execution_count": null,
   "id": "b2beb0fa-89b5-4660-bdc0-7a83625bd8fc",
   "metadata": {},
   "outputs": [],
   "source": [
    "figure, ax1 = plt.subplots(nrows=1, ncols=1)\n",
    "figure.set_size_inches(18,12)\n",
    "sns.barplot(data=seoul_df, x=\"행정구역\", y=\"인구수\", ax=ax1,hue='행정구역')\n",
    "\n",
    "#y축의 label값에 ,(콤마) 출력하기\n",
    "ax1.get_yaxis().set_major_formatter(plt.FuncFormatter(lambda x, loc: \"{:,}\".format(int(x))))\n",
    "\n",
    "\n",
    "for item in ax1.get_xticklabels(): \n",
    "    item.set_rotation(90)\n",
    "for i, v in enumerate(seoul_df[\"인구수\"].items()):\n",
    "    ax1.text(i ,v[1], \"{:,}\".format(v[1]), color='m', va ='bottom', rotation=45)\n",
    "plt.tight_layout()\n",
    "plt.show()"
   ]
  },
  {
   "cell_type": "code",
   "execution_count": null,
   "id": "361f158f-d001-454f-9d15-9df136248328",
   "metadata": {},
   "outputs": [],
   "source": []
  }
 ],
 "metadata": {
  "kernelspec": {
   "display_name": "base",
   "language": "python",
   "name": "python3"
  },
  "language_info": {
   "codemirror_mode": {
    "name": "ipython",
    "version": 3
   },
   "file_extension": ".py",
   "mimetype": "text/x-python",
   "name": "python",
   "nbconvert_exporter": "python",
   "pygments_lexer": "ipython3",
   "version": "3.12.7"
  }
 },
 "nbformat": 4,
 "nbformat_minor": 5
}
