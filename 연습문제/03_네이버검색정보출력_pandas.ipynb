{
 "cells": [
  {
   "cell_type": "code",
   "execution_count": 1,
   "id": "72ced68d",
   "metadata": {},
   "outputs": [],
   "source": [
    "import requests\n",
    "import os\n",
    "from dotenv import load_dotenv\n",
    "from pprint import pprint\n",
    "import pandas as pd\n",
    "import json\n",
    "\n",
    "# .env 파일에서 환경 변수 로드\n",
    "load_dotenv(dotenv_path='../.env')\n",
    "\n",
    "# 환경 변수에서 값 읽기\n",
    "client_id = os.getenv(\"NAVER_CLIENT_ID\")  # .env 파일의 NAVER_CLIENT_ID\n",
    "client_secret = os.getenv(\"NAVER_CLIENT_SECRET\")  # .env 파일의 NAVER_CLIENT_SECRET\n",
    "\n",
    "headers = {\n",
    "    'X-Naver-Client-Id': client_id,\n",
    "    'X-Naver-Client-Secret': client_secret,\n",
    "}\n",
    "\n",
    "# display 파라미터는 default parameter 이다. \n",
    "def search_books(query, display=50): \n",
    "    # query string 문자열을 dict 선언\n",
    "    payload = {\n",
    "        'query': query,\n",
    "        'display': display,\n",
    "        'sort': 'sim'\n",
    "    }\n",
    "\n",
    "    url = 'https://openapi.naver.com/v1/search/book.json' #?query=파이썬&display=100&sort=sim\n",
    "\n",
    "    # requests get(url, params, headers) 요청 \n",
    "    res = requests.get(url, params=payload, headers=headers)\n",
    "    # json() 함수로 응답 결과 가져오기\n",
    "    items_data = res.json()['items']\n",
    "\n",
    "    return items_data  #[{},{}]\n",
    "\n",
    "# def save_json(items_data):\n",
    "#     with open('../data/books.json','w',encoding='utf-8') as file:\n",
    "#         json.dump(items_data, file)\n",
    "\n",
    "def search_shops(query, display=50): \n",
    "    # query string 문자열을 dict 선언\n",
    "    payload = {\n",
    "        'query': query,\n",
    "        'display': display,\n",
    "        'sort': 'sim'\n",
    "    }\n",
    "\n",
    "    url = 'https://openapi.naver.com/v1/search/shop.json' #?query=파이썬&display=100&sort=sim\n",
    "\n",
    "    res = requests.get(url, params=payload, headers=headers)\n",
    "    # json() 함수로 응답 결과 가져오기\n",
    "    items_data = res.json()['items']\n",
    "    return items_data\n",
    "\n",
    "def save_json(items_data):\n",
    "    with open('../data/books.json','w',encoding='utf-8') as file:\n",
    "        json.dump(items_data, file)\n",
    "\n",
    "def save_json_shop(items_data):\n",
    "    with open('../data/shops.json','w',encoding='utf-8') as file:\n",
    "        json.dump(items_data, file)\n",
    "\n",
    "\n",
    "if __name__ == '__main__':\n",
    "    save_json(search_books('파이썬'))        \n",
    "    save_json_shop(search_shops('가디건'))"
   ]
  },
  {
   "cell_type": "markdown",
   "id": "1d6486ba",
   "metadata": {},
   "source": [
    "### 리팩토링 된 코드"
   ]
  },
  {
   "cell_type": "code",
   "execution_count": 2,
   "id": "be10507b",
   "metadata": {},
   "outputs": [],
   "source": [
    "import requests\n",
    "import os\n",
    "from dotenv import load_dotenv\n",
    "import json\n",
    "\n",
    "# .env 파일에서 환경 변수 로드\n",
    "load_dotenv(dotenv_path='../.env')\n",
    "\n",
    "client_id = os.getenv(\"NAVER_CLIENT_ID\")\n",
    "client_secret = os.getenv(\"NAVER_CLIENT_SECRET\")\n",
    "\n",
    "headers = {\n",
    "    'X-Naver-Client-Id': client_id,\n",
    "    'X-Naver-Client-Secret': client_secret,\n",
    "}\n",
    "\n",
    "def search_naver_api(endpoint, query, display=50):\n",
    "    \"\"\"네이버 API 검색 함수\"\"\"\n",
    "    payload = {\n",
    "        'query': query,\n",
    "        'display': display,\n",
    "        'sort': 'sim'\n",
    "    }\n",
    "    url = f'https://openapi.naver.com/v1/search/{endpoint}.json'\n",
    "    res = requests.get(url, params=payload, headers=headers)\n",
    "    res.raise_for_status()  # 에러 발생 시 예외 처리\n",
    "    return res.json().get('items', [])\n",
    "\n",
    "\n",
    "def save_json(data, filepath):\n",
    "    \"\"\"JSON 파일 저장 함수\"\"\"\n",
    "    os.makedirs(os.path.dirname(filepath), exist_ok=True)\n",
    "    with open(filepath, 'w', encoding='utf-8') as f:\n",
    "        json.dump(data, f, ensure_ascii=False, indent=4)\n",
    "\n",
    "\n",
    "if __name__ == '__main__':\n",
    "    books = search_naver_api('book', '파이썬')\n",
    "    save_json(books, '../data/books.json')\n",
    "\n",
    "    shops = search_naver_api('shop', '가디건')\n",
    "    save_json(shops, '../data/shops.json')\n"
   ]
  },
  {
   "cell_type": "code",
   "execution_count": null,
   "id": "b1b406ce",
   "metadata": {},
   "outputs": [],
   "source": [
    "import pandas as pd\n",
    "\n",
    "books_df = pd.read_json('../data/books.json')\n",
    "print(type(books_df))\n",
    "print(books_df.shape)\n",
    "books_df.head(2)"
   ]
  },
  {
   "cell_type": "code",
   "execution_count": null,
   "id": "052e3636",
   "metadata": {},
   "outputs": [],
   "source": [
    "\n",
    "# 가격이 2만원 보다 큰 책을 선택 책이름,저자명,가격,출판사,출판일 \n",
    "books_df.loc[books_df['discount'] >= 20000,['title','author','discount','publisher','pubdate']]\\\n",
    "    .sort_values(by='discount', ascending=False).reset_index(drop=True)"
   ]
  },
  {
   "cell_type": "code",
   "execution_count": null,
   "id": "bcb63926",
   "metadata": {},
   "outputs": [],
   "source": [
    "# 함수로 정의\n",
    "def filter_and_sort_books(df, min_discount=20000):\n",
    "    \"\"\"\n",
    "    할인 금액이 min_discount 이상인 도서 필터링 후 정렬\n",
    "    \n",
    "    Parameters:\n",
    "        df (DataFrame): 도서 데이터프레임\n",
    "        min_discount (int): 최소 할인 금액 기준 (기본값 20000)\n",
    "\n",
    "    Returns:\n",
    "        DataFrame: 필터링 및 정렬된 결과\n",
    "    \"\"\"\n",
    "    return (\n",
    "        df.loc[df['discount'] >= min_discount, ['title', 'author', 'discount', 'publisher', 'pubdate']]\n",
    "          .sort_values(by='discount', ascending=False)\n",
    "          .reset_index(drop=True)\n",
    "    )\n",
    "\n",
    "filter_and_sort_books(books_df,30000)"
   ]
  },
  {
   "cell_type": "code",
   "execution_count": 8,
   "id": "df5f758b",
   "metadata": {},
   "outputs": [
    {
     "data": {
      "text/plain": [
       "Index(['title', 'link', 'image', 'author', 'discount', 'publisher', 'pubdate',\n",
       "       'isbn', 'description'],\n",
       "      dtype='object')"
      ]
     },
     "execution_count": 8,
     "metadata": {},
     "output_type": "execute_result"
    }
   ],
   "source": [
    "books_df.columns"
   ]
  },
  {
   "cell_type": "code",
   "execution_count": 9,
   "id": "641670df",
   "metadata": {},
   "outputs": [
    {
     "data": {
      "text/html": [
       "<div>\n",
       "<style scoped>\n",
       "    .dataframe tbody tr th:only-of-type {\n",
       "        vertical-align: middle;\n",
       "    }\n",
       "\n",
       "    .dataframe tbody tr th {\n",
       "        vertical-align: top;\n",
       "    }\n",
       "\n",
       "    .dataframe thead th {\n",
       "        text-align: right;\n",
       "    }\n",
       "</style>\n",
       "<table border=\"1\" class=\"dataframe\">\n",
       "  <thead>\n",
       "    <tr style=\"text-align: right;\">\n",
       "      <th></th>\n",
       "      <th>title</th>\n",
       "      <th>link</th>\n",
       "      <th>author</th>\n",
       "      <th>discount</th>\n",
       "      <th>publisher</th>\n",
       "      <th>pubdate</th>\n",
       "      <th>isbn</th>\n",
       "    </tr>\n",
       "  </thead>\n",
       "  <tbody>\n",
       "    <tr>\n",
       "      <th>0</th>\n",
       "      <td>파이썬</td>\n",
       "      <td>https://search.shopping.naver.com/book/catalog...</td>\n",
       "      <td>천인국</td>\n",
       "      <td>10800</td>\n",
       "      <td>인피니티북스</td>\n",
       "      <td>20170830</td>\n",
       "      <td>9791185578330</td>\n",
       "    </tr>\n",
       "    <tr>\n",
       "      <th>1</th>\n",
       "      <td>파이썬 플러스</td>\n",
       "      <td>https://search.shopping.naver.com/book/catalog...</td>\n",
       "      <td>최희식</td>\n",
       "      <td>22500</td>\n",
       "      <td>인피니티북스</td>\n",
       "      <td>20240731</td>\n",
       "      <td>9791192373362</td>\n",
       "    </tr>\n",
       "  </tbody>\n",
       "</table>\n",
       "</div>"
      ],
      "text/plain": [
       "     title                                               link author  \\\n",
       "0      파이썬  https://search.shopping.naver.com/book/catalog...    천인국   \n",
       "1  파이썬 플러스  https://search.shopping.naver.com/book/catalog...    최희식   \n",
       "\n",
       "   discount publisher   pubdate           isbn  \n",
       "0     10800    인피니티북스  20170830  9791185578330  \n",
       "1     22500    인피니티북스  20240731  9791192373362  "
      ]
     },
     "execution_count": 9,
     "metadata": {},
     "output_type": "execute_result"
    }
   ],
   "source": [
    "# image , description 컬럼은 제외한 모든 컬럼 출력하기\n",
    "# 출판사명인 인피니티북스 책을 가져오기 \n",
    "books_df.loc[books_df['publisher'].str.contains('인피니티북스'),\\\n",
    "    books_df.columns.drop(['image','description'])].reset_index(drop=True)"
   ]
  },
  {
   "cell_type": "code",
   "execution_count": null,
   "id": "9d67f3ce",
   "metadata": {},
   "outputs": [],
   "source": [
    "books_df['publisher'].unique()"
   ]
  },
  {
   "cell_type": "code",
   "execution_count": null,
   "id": "37214d7f",
   "metadata": {},
   "outputs": [],
   "source": [
    "def filter_books_by_publisher(df, publisher_name):\n",
    "    \"\"\"\n",
    "    특정 출판사가 포함된 도서만 필터링 (image, description 컬럼 제외)\n",
    "\n",
    "    Parameters:\n",
    "        df (DataFrame): 도서 데이터프레임\n",
    "        publisher_name (str): 포함할 출판사 이름\n",
    "\n",
    "    Returns:\n",
    "        DataFrame: 필터링된 결과\n",
    "    \"\"\"\n",
    "    return (\n",
    "        df.loc[df['publisher'].str.contains(publisher_name), df.columns.drop(['image', 'description'])]\n",
    "          .reset_index(drop=True)\n",
    "    )\n",
    "\n",
    "filter_books_by_publisher(books_df,'한빛미디어')"
   ]
  },
  {
   "cell_type": "code",
   "execution_count": null,
   "id": "e6fd14dd",
   "metadata": {},
   "outputs": [],
   "source": [
    "import pandas as pd\n",
    "\n",
    "shops_df = pd.read_json('../data/shops.json')\n",
    "print(type(shops_df))\n",
    "shops_df.head(2)"
   ]
  },
  {
   "cell_type": "code",
   "execution_count": null,
   "id": "522e8d1b",
   "metadata": {},
   "outputs": [],
   "source": [
    "shops_df.info()"
   ]
  },
  {
   "cell_type": "code",
   "execution_count": null,
   "id": "6d6aa726",
   "metadata": {},
   "outputs": [],
   "source": [
    "shops_df.loc[shops_df['lprice'] <= 50000,['brand','lprice','mallName','link']]\\\n",
    "    .sort_values(by='lprice').reset_index(drop=True)"
   ]
  },
  {
   "cell_type": "code",
   "execution_count": null,
   "id": "e5fb4439",
   "metadata": {},
   "outputs": [],
   "source": [
    "def filter_and_sort_shops(df, max_price=50000):\n",
    "    \"\"\"\n",
    "    최대 가격 이하 상품 필터링 후 가격 기준 오름차순 정렬\n",
    "\n",
    "    Parameters:\n",
    "        df (DataFrame): 쇼핑 데이터프레임\n",
    "        max_price (int): 최대 가격 기준 (기본값 50000)\n",
    "\n",
    "    Returns:\n",
    "        DataFrame: 필터링 및 정렬된 결과\n",
    "    \"\"\"\n",
    "    return (\n",
    "        df.loc[df['lprice'] <= max_price, ['brand', 'lprice', 'mallName', 'link']]\n",
    "          .sort_values(by='lprice')\n",
    "          .reset_index(drop=True)\n",
    "    )\n",
    "\n",
    "filter_and_sort_shops(shops_df,20000)"
   ]
  },
  {
   "cell_type": "code",
   "execution_count": 18,
   "id": "b5237396",
   "metadata": {},
   "outputs": [
    {
     "data": {
      "text/plain": [
       "Index(['title', 'link', 'image', 'lprice', 'hprice', 'mallName', 'productId',\n",
       "       'productType', 'brand', 'maker', 'category1', 'category2', 'category3',\n",
       "       'category4'],\n",
       "      dtype='object')"
      ]
     },
     "execution_count": 18,
     "metadata": {},
     "output_type": "execute_result"
    }
   ],
   "source": [
    "shops_df.columns"
   ]
  },
  {
   "cell_type": "code",
   "execution_count": null,
   "id": "41a2b311",
   "metadata": {},
   "outputs": [],
   "source": [
    "shops_df.loc[shops_df['mallName'] == '네이버','title':'brand']\\\n",
    "    .sort_values(by='lprice').reset_index(drop=True)"
   ]
  },
  {
   "cell_type": "code",
   "execution_count": 20,
   "id": "58180b4b",
   "metadata": {},
   "outputs": [
    {
     "data": {
      "text/plain": [
       "array(['센데로', '바띠소띠', '나우인뉴욕', '코이블리', '눈키스타', '네이버', 'ARUMY', '슈퍼캣파랑',\n",
       "       '멜빈트 MELVINT', 'RENCY', '로우라이트', '벨라엘라', '고고하니', '디스룩', '베베드키즈',\n",
       "       '아크민', 'WITH SEN', '무드멜리', '빈콜렉터', '오다오', '올내츄럴', '미스모네', '234',\n",
       "       '리틀데이즈', '러브썸원', '파인 스트리트', 'ttoyuni'], dtype=object)"
      ]
     },
     "execution_count": 20,
     "metadata": {},
     "output_type": "execute_result"
    }
   ],
   "source": [
    "shops_df['mallName'].unique()"
   ]
  },
  {
   "cell_type": "code",
   "execution_count": 21,
   "id": "c0bbe794",
   "metadata": {},
   "outputs": [
    {
     "data": {
      "text/plain": [
       "array(['', '바띠소띠', '폴로랄프로렌', '타미진스', '지오다노', '스파오', '제너럴아이디어', '제로스트릿',\n",
       "       '피카부', '빈콜렉터', '르샵', '라코스테', '후아유', '쉬즈미스', '미스모네', '메종키츠네',\n",
       "       '씨씨콜렉트', 'ZOOC', '온앤온', '러브썸원'], dtype=object)"
      ]
     },
     "execution_count": 21,
     "metadata": {},
     "output_type": "execute_result"
    }
   ],
   "source": [
    "shops_df['brand'].unique()"
   ]
  },
  {
   "cell_type": "code",
   "execution_count": 24,
   "id": "287f4d5a",
   "metadata": {},
   "outputs": [
    {
     "data": {
      "text/html": [
       "<div>\n",
       "<style scoped>\n",
       "    .dataframe tbody tr th:only-of-type {\n",
       "        vertical-align: middle;\n",
       "    }\n",
       "\n",
       "    .dataframe tbody tr th {\n",
       "        vertical-align: top;\n",
       "    }\n",
       "\n",
       "    .dataframe thead th {\n",
       "        text-align: right;\n",
       "    }\n",
       "</style>\n",
       "<table border=\"1\" class=\"dataframe\">\n",
       "  <thead>\n",
       "    <tr style=\"text-align: right;\">\n",
       "      <th></th>\n",
       "      <th>lprice</th>\n",
       "      <th>hprice</th>\n",
       "      <th>mallName</th>\n",
       "      <th>productId</th>\n",
       "      <th>productType</th>\n",
       "      <th>brand</th>\n",
       "    </tr>\n",
       "  </thead>\n",
       "  <tbody>\n",
       "    <tr>\n",
       "      <th>0</th>\n",
       "      <td>63800</td>\n",
       "      <td></td>\n",
       "      <td>나우인뉴욕</td>\n",
       "      <td>84216650390</td>\n",
       "      <td>2</td>\n",
       "      <td>폴로랄프로렌</td>\n",
       "    </tr>\n",
       "  </tbody>\n",
       "</table>\n",
       "</div>"
      ],
      "text/plain": [
       "   lprice hprice mallName    productId  productType   brand\n",
       "0   63800           나우인뉴욕  84216650390            2  폴로랄프로렌"
      ]
     },
     "execution_count": 24,
     "metadata": {},
     "output_type": "execute_result"
    }
   ],
   "source": [
    "def filter_shops_by_mall(df, mall_name='네이버'):\n",
    "    \"\"\"\n",
    "    특정 쇼핑몰 상품만 필터링 후 가격 기준 오름차순 정렬\n",
    "\n",
    "    Parameters:\n",
    "        df (DataFrame): 쇼핑 데이터프레임\n",
    "        mall_name (str): 쇼핑몰 이름 (기본값 '네이버')\n",
    "\n",
    "    Returns:\n",
    "        DataFrame: 필터링 및 정렬된 결과\n",
    "    \"\"\"\n",
    "    return (\n",
    "        df.loc[df['mallName'] == mall_name, 'lprice':'brand']\n",
    "          .sort_values(by='lprice')\n",
    "          .reset_index(drop=True)\n",
    "    )\n",
    "\n",
    "filter_shops_by_mall(shops_df,'나우인뉴욕')"
   ]
  },
  {
   "cell_type": "markdown",
   "id": "92ba6d45",
   "metadata": {},
   "source": [
    "#### mallName 또는 brand 로 검색하기"
   ]
  },
  {
   "cell_type": "code",
   "execution_count": null,
   "id": "ee5cec38",
   "metadata": {},
   "outputs": [
    {
     "data": {
      "text/html": [
       "<div>\n",
       "<style scoped>\n",
       "    .dataframe tbody tr th:only-of-type {\n",
       "        vertical-align: middle;\n",
       "    }\n",
       "\n",
       "    .dataframe tbody tr th {\n",
       "        vertical-align: top;\n",
       "    }\n",
       "\n",
       "    .dataframe thead th {\n",
       "        text-align: right;\n",
       "    }\n",
       "</style>\n",
       "<table border=\"1\" class=\"dataframe\">\n",
       "  <thead>\n",
       "    <tr style=\"text-align: right;\">\n",
       "      <th></th>\n",
       "      <th>lprice</th>\n",
       "      <th>hprice</th>\n",
       "      <th>mallName</th>\n",
       "      <th>productId</th>\n",
       "      <th>productType</th>\n",
       "      <th>brand</th>\n",
       "    </tr>\n",
       "  </thead>\n",
       "  <tbody>\n",
       "    <tr>\n",
       "      <th>0</th>\n",
       "      <td>62900</td>\n",
       "      <td></td>\n",
       "      <td>파인 스트리트</td>\n",
       "      <td>84238485864</td>\n",
       "      <td>2</td>\n",
       "      <td>폴로랄프로렌</td>\n",
       "    </tr>\n",
       "    <tr>\n",
       "      <th>1</th>\n",
       "      <td>63800</td>\n",
       "      <td></td>\n",
       "      <td>나우인뉴욕</td>\n",
       "      <td>84216650390</td>\n",
       "      <td>2</td>\n",
       "      <td>폴로랄프로렌</td>\n",
       "    </tr>\n",
       "    <tr>\n",
       "      <th>2</th>\n",
       "      <td>69000</td>\n",
       "      <td></td>\n",
       "      <td>리틀데이즈</td>\n",
       "      <td>87004045841</td>\n",
       "      <td>2</td>\n",
       "      <td>폴로랄프로렌</td>\n",
       "    </tr>\n",
       "  </tbody>\n",
       "</table>\n",
       "</div>"
      ],
      "text/plain": [
       "   lprice hprice mallName    productId  productType   brand\n",
       "0   62900         파인 스트리트  84238485864            2  폴로랄프로렌\n",
       "1   63800           나우인뉴욕  84216650390            2  폴로랄프로렌\n",
       "2   69000           리틀데이즈  87004045841            2  폴로랄프로렌"
      ]
     },
     "execution_count": 26,
     "metadata": {},
     "output_type": "execute_result"
    }
   ],
   "source": [
    "def filter_shops(df, keyword, search_type='mall'):\n",
    "    \"\"\"\n",
    "    mallName 또는 brand 기준으로 필터링 후 가격 오름차순 정렬\n",
    "\n",
    "    Parameters:\n",
    "        df (DataFrame): 쇼핑 데이터프레임\n",
    "        keyword (str): 검색할 값 (예: '네이버', '폴로랄프로렌')\n",
    "        search_type (str): 'mall' or 'brand' (기본값 'mall')\n",
    "\n",
    "    Returns:\n",
    "        DataFrame: 필터링 및 정렬된 결과\n",
    "    \"\"\"\n",
    "    \n",
    "    if search_type == 'mall':\n",
    "        condition = df['mallName'] == keyword\n",
    "    elif search_type == 'brand':\n",
    "        condition = df['brand'] == keyword\n",
    "    else:\n",
    "        # raise는 에러를 강제로 발생시키는 키워드\n",
    "        raise ValueError(\"search_type은 'mall' 또는 'brand'만 가능합니다.\")\n",
    "\n",
    "    return (\n",
    "        df.loc[condition, 'lprice':'brand']\n",
    "          .sort_values(by='lprice')\n",
    "          .reset_index(drop=True)\n",
    "    )\n",
    "\n",
    "filter_shops(shops_df,'라코스테','brand')"
   ]
  }
 ],
 "metadata": {
  "kernelspec": {
   "display_name": "base",
   "language": "python",
   "name": "python3"
  },
  "language_info": {
   "codemirror_mode": {
    "name": "ipython",
    "version": 3
   },
   "file_extension": ".py",
   "mimetype": "text/x-python",
   "name": "python",
   "nbconvert_exporter": "python",
   "pygments_lexer": "ipython3",
   "version": "3.12.7"
  }
 },
 "nbformat": 4,
 "nbformat_minor": 5
}
