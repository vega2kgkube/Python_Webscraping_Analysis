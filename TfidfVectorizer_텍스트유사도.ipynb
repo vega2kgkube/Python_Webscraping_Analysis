{
 "cells": [
  {
   "cell_type": "markdown",
   "id": "eda3f191",
   "metadata": {},
   "source": [
    "### TfidfVectorizer란?\n",
    "* TfidfVectorizer는 텍스트 데이터를 숫자로 변환해주는 도구입니다.\n",
    "* 머신러닝 모델은 텍스트를 직접 이해하지 못하므로, 단어의 중요도를 계산해 수치화합니다.\n",
    "    * 입력: 여러 문서 (예: 리뷰, 뉴스 기사)\n",
    "    * 출력: 각 문서를 단어 중요도로 표현된 숫자 벡터\n",
    "\n",
    "### TF-IDF란?\n",
    "#### TF (Term Frequency)\n",
    "* \"문서 내에서 단어가 얼마나 자주 등장하는지\"\n",
    "    * 예: \"강아지\"가 한 문서에서 5번 나오면 TF = 5\n",
    "#### IDF (Inverse Document Frequency)\n",
    "* \"모든 문서에서 그 단어가 흔한지 희귀한지\"\n",
    "    * 예: \"그리고\"는 모든 문서에 자주 나오므로 가중치 ↓\n",
    "    * \"반려동물\"은 특정 문서에만 나오면 가중치 ↑\n",
    "##### TF-IDF = TF × IDF\n",
    "* 자주 나오지만 특정 문서에 집중된 단어에 높은 점수 부여\n",
    "\n",
    "#### 왜 사용할까?\n",
    "* 텍스트 유사도 계산 (검색, 추천 시스템)\n",
    "* 스팸 메일 필터링 (중요 단어 탐지)\n",
    "* 감정 분석 (긍정/부정 키워드 추출)"
   ]
  },
  {
   "cell_type": "code",
   "execution_count": 2,
   "id": "5cee0683",
   "metadata": {},
   "outputs": [
    {
     "name": "stdout",
     "output_type": "stream",
     "text": [
      "['강아지' '고양이' '낮잠' '마시기' '반려동물' '우유' '자기']\n"
     ]
    },
    {
     "data": {
      "text/plain": [
       "array([[0.51785612, 0.51785612, 0.        , 0.        , 0.68091856,\n",
       "        0.        , 0.        ],\n",
       "       [0.4736296 , 0.        , 0.        , 0.62276601, 0.        ,\n",
       "        0.62276601, 0.        ],\n",
       "       [0.        , 0.4736296 , 0.62276601, 0.        , 0.        ,\n",
       "        0.        , 0.62276601]])"
      ]
     },
     "execution_count": 2,
     "metadata": {},
     "output_type": "execute_result"
    }
   ],
   "source": [
    "from sklearn.feature_extraction.text import TfidfVectorizer\n",
    "\n",
    "docs = [\n",
    "    \"강아지 고양이 반려동물\",  \n",
    "    \"강아지 우유 마시기\",  \n",
    "    \"고양이 낮잠 자기\"\n",
    "]\n",
    "\n",
    "# 1. TfidfVectorizer 적용\n",
    "tfidf = TfidfVectorizer()\n",
    "tfidf_matrix = tfidf.fit_transform(docs)\n",
    "\n",
    "# 2. 결과 (단어별 가중치)\n",
    "print(tfidf.get_feature_names_out())  \n",
    "# 출력: ['고양이', '낮잠', '마시기', '반려동물', '우유', '자기', '강아지']\n",
    "\n",
    "tfidf_matrix.toarray()"
   ]
  }
 ],
 "metadata": {
  "kernelspec": {
   "display_name": "base",
   "language": "python",
   "name": "python3"
  },
  "language_info": {
   "codemirror_mode": {
    "name": "ipython",
    "version": 3
   },
   "file_extension": ".py",
   "mimetype": "text/x-python",
   "name": "python",
   "nbconvert_exporter": "python",
   "pygments_lexer": "ipython3",
   "version": "3.12.7"
  }
 },
 "nbformat": 4,
 "nbformat_minor": 5
}
